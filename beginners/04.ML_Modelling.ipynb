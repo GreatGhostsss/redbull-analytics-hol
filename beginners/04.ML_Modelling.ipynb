{
 "cells": [
  {
   "cell_type": "markdown",
   "metadata": {},
   "source": [
    "# Search the best Machine Learning Algorithms to predict"
   ]
  },
  {
   "cell_type": "code",
   "execution_count": 1,
   "metadata": {
    "ExecuteTime": {
     "end_time": "2020-06-03T17:56:46.083156Z",
     "start_time": "2020-06-03T17:56:45.184584Z"
    }
   },
   "outputs": [],
   "source": [
    "import numpy as np\n",
    "import pandas as pd\n",
    "from sklearn.metrics import confusion_matrix, precision_score\n",
    "from sklearn.metrics import accuracy_score\n",
    "from sklearn.linear_model import LogisticRegression, LinearRegression\n",
    "from sklearn import svm\n",
    "from sklearn.preprocessing import StandardScaler, MinMaxScaler\n",
    "from sklearn.ensemble import RandomForestClassifier, RandomForestRegressor\n",
    "from sklearn.neural_network import MLPClassifier, MLPRegressor\n",
    "\n",
    "np.set_printoptions(precision=4)"
   ]
  },
  {
   "cell_type": "code",
   "execution_count": 2,
   "metadata": {
    "ExecuteTime": {
     "end_time": "2020-06-03T17:56:46.866967Z",
     "start_time": "2020-06-03T17:56:46.697643Z"
    }
   },
   "outputs": [],
   "source": [
    "data = pd.read_csv('./data/f1_df_final.csv')"
   ]
  },
  {
   "cell_type": "code",
   "execution_count": 3,
   "metadata": {
    "ExecuteTime": {
     "end_time": "2020-06-03T17:56:47.463809Z",
     "start_time": "2020-06-03T17:56:47.426867Z"
    }
   },
   "outputs": [
    {
     "data": {
      "text/html": [
       "<div>\n",
       "<style scoped>\n",
       "    .dataframe tbody tr th:only-of-type {\n",
       "        vertical-align: middle;\n",
       "    }\n",
       "\n",
       "    .dataframe tbody tr th {\n",
       "        vertical-align: top;\n",
       "    }\n",
       "\n",
       "    .dataframe thead th {\n",
       "        text-align: right;\n",
       "    }\n",
       "</style>\n",
       "<table border=\"1\" class=\"dataframe\">\n",
       "  <thead>\n",
       "    <tr style=\"text-align: right;\">\n",
       "      <th></th>\n",
       "      <th>season</th>\n",
       "      <th>round</th>\n",
       "      <th>weather_warm</th>\n",
       "      <th>weather_cold</th>\n",
       "      <th>weather_dry</th>\n",
       "      <th>weather_wet</th>\n",
       "      <th>weather_cloudy</th>\n",
       "      <th>driver</th>\n",
       "      <th>grid</th>\n",
       "      <th>podium</th>\n",
       "      <th>...</th>\n",
       "      <th>constructor_minardi</th>\n",
       "      <th>constructor_prost</th>\n",
       "      <th>constructor_red_bull</th>\n",
       "      <th>constructor_renault</th>\n",
       "      <th>constructor_sauber</th>\n",
       "      <th>constructor_team_lotus</th>\n",
       "      <th>constructor_toro_rosso</th>\n",
       "      <th>constructor_toyota</th>\n",
       "      <th>constructor_tyrrell</th>\n",
       "      <th>constructor_williams</th>\n",
       "    </tr>\n",
       "  </thead>\n",
       "  <tbody>\n",
       "    <tr>\n",
       "      <th>0</th>\n",
       "      <td>1983</td>\n",
       "      <td>1</td>\n",
       "      <td>False</td>\n",
       "      <td>False</td>\n",
       "      <td>True</td>\n",
       "      <td>False</td>\n",
       "      <td>False</td>\n",
       "      <td>keke_rosberg</td>\n",
       "      <td>1</td>\n",
       "      <td>15</td>\n",
       "      <td>...</td>\n",
       "      <td>0</td>\n",
       "      <td>0</td>\n",
       "      <td>0</td>\n",
       "      <td>0</td>\n",
       "      <td>0</td>\n",
       "      <td>0</td>\n",
       "      <td>0</td>\n",
       "      <td>0</td>\n",
       "      <td>0</td>\n",
       "      <td>1</td>\n",
       "    </tr>\n",
       "    <tr>\n",
       "      <th>1</th>\n",
       "      <td>1983</td>\n",
       "      <td>1</td>\n",
       "      <td>False</td>\n",
       "      <td>False</td>\n",
       "      <td>True</td>\n",
       "      <td>False</td>\n",
       "      <td>False</td>\n",
       "      <td>prost</td>\n",
       "      <td>2</td>\n",
       "      <td>6</td>\n",
       "      <td>...</td>\n",
       "      <td>0</td>\n",
       "      <td>0</td>\n",
       "      <td>0</td>\n",
       "      <td>1</td>\n",
       "      <td>0</td>\n",
       "      <td>0</td>\n",
       "      <td>0</td>\n",
       "      <td>0</td>\n",
       "      <td>0</td>\n",
       "      <td>0</td>\n",
       "    </tr>\n",
       "    <tr>\n",
       "      <th>2</th>\n",
       "      <td>1983</td>\n",
       "      <td>1</td>\n",
       "      <td>False</td>\n",
       "      <td>False</td>\n",
       "      <td>True</td>\n",
       "      <td>False</td>\n",
       "      <td>False</td>\n",
       "      <td>tambay</td>\n",
       "      <td>3</td>\n",
       "      <td>4</td>\n",
       "      <td>...</td>\n",
       "      <td>0</td>\n",
       "      <td>0</td>\n",
       "      <td>0</td>\n",
       "      <td>0</td>\n",
       "      <td>0</td>\n",
       "      <td>0</td>\n",
       "      <td>0</td>\n",
       "      <td>0</td>\n",
       "      <td>0</td>\n",
       "      <td>0</td>\n",
       "    </tr>\n",
       "    <tr>\n",
       "      <th>3</th>\n",
       "      <td>1983</td>\n",
       "      <td>1</td>\n",
       "      <td>False</td>\n",
       "      <td>False</td>\n",
       "      <td>True</td>\n",
       "      <td>False</td>\n",
       "      <td>False</td>\n",
       "      <td>piquet</td>\n",
       "      <td>4</td>\n",
       "      <td>1</td>\n",
       "      <td>...</td>\n",
       "      <td>0</td>\n",
       "      <td>0</td>\n",
       "      <td>0</td>\n",
       "      <td>0</td>\n",
       "      <td>0</td>\n",
       "      <td>0</td>\n",
       "      <td>0</td>\n",
       "      <td>0</td>\n",
       "      <td>0</td>\n",
       "      <td>0</td>\n",
       "    </tr>\n",
       "    <tr>\n",
       "      <th>4</th>\n",
       "      <td>1983</td>\n",
       "      <td>1</td>\n",
       "      <td>False</td>\n",
       "      <td>False</td>\n",
       "      <td>True</td>\n",
       "      <td>False</td>\n",
       "      <td>False</td>\n",
       "      <td>warwick</td>\n",
       "      <td>5</td>\n",
       "      <td>7</td>\n",
       "      <td>...</td>\n",
       "      <td>0</td>\n",
       "      <td>0</td>\n",
       "      <td>0</td>\n",
       "      <td>0</td>\n",
       "      <td>0</td>\n",
       "      <td>0</td>\n",
       "      <td>0</td>\n",
       "      <td>0</td>\n",
       "      <td>0</td>\n",
       "      <td>0</td>\n",
       "    </tr>\n",
       "  </tbody>\n",
       "</table>\n",
       "<p>5 rows × 100 columns</p>\n",
       "</div>"
      ],
      "text/plain": [
       "   season  round  weather_warm  weather_cold  weather_dry  weather_wet  \\\n",
       "0    1983      1         False         False         True        False   \n",
       "1    1983      1         False         False         True        False   \n",
       "2    1983      1         False         False         True        False   \n",
       "3    1983      1         False         False         True        False   \n",
       "4    1983      1         False         False         True        False   \n",
       "\n",
       "   weather_cloudy        driver  grid  podium  ...  constructor_minardi  \\\n",
       "0           False  keke_rosberg     1      15  ...                    0   \n",
       "1           False         prost     2       6  ...                    0   \n",
       "2           False        tambay     3       4  ...                    0   \n",
       "3           False        piquet     4       1  ...                    0   \n",
       "4           False       warwick     5       7  ...                    0   \n",
       "\n",
       "   constructor_prost  constructor_red_bull  constructor_renault  \\\n",
       "0                  0                     0                    0   \n",
       "1                  0                     0                    1   \n",
       "2                  0                     0                    0   \n",
       "3                  0                     0                    0   \n",
       "4                  0                     0                    0   \n",
       "\n",
       "   constructor_sauber  constructor_team_lotus  constructor_toro_rosso  \\\n",
       "0                   0                       0                       0   \n",
       "1                   0                       0                       0   \n",
       "2                   0                       0                       0   \n",
       "3                   0                       0                       0   \n",
       "4                   0                       0                       0   \n",
       "\n",
       "   constructor_toyota  constructor_tyrrell  constructor_williams  \n",
       "0                   0                    0                     1  \n",
       "1                   0                    0                     0  \n",
       "2                   0                    0                     0  \n",
       "3                   0                    0                     0  \n",
       "4                   0                    0                     0  \n",
       "\n",
       "[5 rows x 100 columns]"
      ]
     },
     "execution_count": 3,
     "metadata": {},
     "output_type": "execute_result"
    }
   ],
   "source": [
    "data.head()"
   ]
  },
  {
   "cell_type": "code",
   "execution_count": 4,
   "metadata": {},
   "outputs": [
    {
     "data": {
      "text/plain": [
       "14272"
      ]
     },
     "execution_count": 4,
     "metadata": {},
     "output_type": "execute_result"
    }
   ],
   "source": [
    "len(data)"
   ]
  },
  {
   "cell_type": "markdown",
   "metadata": {},
   "source": [
    "## Directory to store Models"
   ]
  },
  {
   "cell_type": "code",
   "execution_count": 5,
   "metadata": {},
   "outputs": [],
   "source": [
    "import os\n",
    "if not os.path.exists('./models'):\n",
    "    os.mkdir('./models')"
   ]
  },
  {
   "cell_type": "markdown",
   "metadata": {},
   "source": [
    "## Create Training Datasets"
   ]
  },
  {
   "cell_type": "code",
   "execution_count": 6,
   "metadata": {
    "ExecuteTime": {
     "end_time": "2020-06-03T17:56:54.886125Z",
     "start_time": "2020-06-03T17:56:54.601218Z"
    }
   },
   "outputs": [],
   "source": [
    "df = data.copy()\n",
    "df.podium = df.podium.map(lambda x: 1 if x == 1 else 0)\n",
    "\n",
    "train = df[df.season < 2019]\n",
    "X_train = train.drop(['driver', 'podium'], axis = 1)\n",
    "y_train = train.podium\n",
    "\n",
    "scaler = StandardScaler()\n",
    "X_train = pd.DataFrame(scaler.fit_transform(X_train), columns = X_train.columns)\n"
   ]
  },
  {
   "cell_type": "code",
   "execution_count": 7,
   "metadata": {},
   "outputs": [
    {
     "data": {
      "text/html": [
       "<div>\n",
       "<style scoped>\n",
       "    .dataframe tbody tr th:only-of-type {\n",
       "        vertical-align: middle;\n",
       "    }\n",
       "\n",
       "    .dataframe tbody tr th {\n",
       "        vertical-align: top;\n",
       "    }\n",
       "\n",
       "    .dataframe thead th {\n",
       "        text-align: right;\n",
       "    }\n",
       "</style>\n",
       "<table border=\"1\" class=\"dataframe\">\n",
       "  <thead>\n",
       "    <tr style=\"text-align: right;\">\n",
       "      <th></th>\n",
       "      <th>season</th>\n",
       "      <th>round</th>\n",
       "      <th>weather_warm</th>\n",
       "      <th>weather_cold</th>\n",
       "      <th>weather_dry</th>\n",
       "      <th>weather_wet</th>\n",
       "      <th>weather_cloudy</th>\n",
       "      <th>grid</th>\n",
       "      <th>driver_points</th>\n",
       "      <th>driver_wins</th>\n",
       "      <th>...</th>\n",
       "      <th>constructor_minardi</th>\n",
       "      <th>constructor_prost</th>\n",
       "      <th>constructor_red_bull</th>\n",
       "      <th>constructor_renault</th>\n",
       "      <th>constructor_sauber</th>\n",
       "      <th>constructor_team_lotus</th>\n",
       "      <th>constructor_toro_rosso</th>\n",
       "      <th>constructor_toyota</th>\n",
       "      <th>constructor_tyrrell</th>\n",
       "      <th>constructor_williams</th>\n",
       "    </tr>\n",
       "  </thead>\n",
       "  <tbody>\n",
       "    <tr>\n",
       "      <th>count</th>\n",
       "      <td>1.388000e+04</td>\n",
       "      <td>1.388000e+04</td>\n",
       "      <td>1.388000e+04</td>\n",
       "      <td>1.388000e+04</td>\n",
       "      <td>1.388000e+04</td>\n",
       "      <td>1.388000e+04</td>\n",
       "      <td>1.388000e+04</td>\n",
       "      <td>1.388000e+04</td>\n",
       "      <td>1.388000e+04</td>\n",
       "      <td>1.388000e+04</td>\n",
       "      <td>...</td>\n",
       "      <td>1.388000e+04</td>\n",
       "      <td>1.388000e+04</td>\n",
       "      <td>1.388000e+04</td>\n",
       "      <td>1.388000e+04</td>\n",
       "      <td>1.388000e+04</td>\n",
       "      <td>1.388000e+04</td>\n",
       "      <td>1.388000e+04</td>\n",
       "      <td>1.388000e+04</td>\n",
       "      <td>1.388000e+04</td>\n",
       "      <td>1.388000e+04</td>\n",
       "    </tr>\n",
       "    <tr>\n",
       "      <th>mean</th>\n",
       "      <td>-2.108464e-14</td>\n",
       "      <td>-5.283446e-15</td>\n",
       "      <td>8.375097e-15</td>\n",
       "      <td>1.192807e-14</td>\n",
       "      <td>1.943626e-14</td>\n",
       "      <td>-9.542671e-15</td>\n",
       "      <td>-9.207092e-16</td>\n",
       "      <td>-1.744522e-16</td>\n",
       "      <td>1.502908e-15</td>\n",
       "      <td>4.159929e-15</td>\n",
       "      <td>...</td>\n",
       "      <td>-2.312531e-15</td>\n",
       "      <td>-1.086171e-14</td>\n",
       "      <td>-2.551979e-14</td>\n",
       "      <td>3.370715e-15</td>\n",
       "      <td>-1.237899e-14</td>\n",
       "      <td>6.614566e-15</td>\n",
       "      <td>3.254309e-15</td>\n",
       "      <td>1.655905e-14</td>\n",
       "      <td>1.186926e-14</td>\n",
       "      <td>-8.319954e-16</td>\n",
       "    </tr>\n",
       "    <tr>\n",
       "      <th>std</th>\n",
       "      <td>1.000036e+00</td>\n",
       "      <td>1.000036e+00</td>\n",
       "      <td>1.000036e+00</td>\n",
       "      <td>1.000036e+00</td>\n",
       "      <td>1.000036e+00</td>\n",
       "      <td>1.000036e+00</td>\n",
       "      <td>1.000036e+00</td>\n",
       "      <td>1.000036e+00</td>\n",
       "      <td>1.000036e+00</td>\n",
       "      <td>1.000036e+00</td>\n",
       "      <td>...</td>\n",
       "      <td>1.000036e+00</td>\n",
       "      <td>1.000036e+00</td>\n",
       "      <td>1.000036e+00</td>\n",
       "      <td>1.000036e+00</td>\n",
       "      <td>1.000036e+00</td>\n",
       "      <td>1.000036e+00</td>\n",
       "      <td>1.000036e+00</td>\n",
       "      <td>1.000036e+00</td>\n",
       "      <td>1.000036e+00</td>\n",
       "      <td>1.000036e+00</td>\n",
       "    </tr>\n",
       "    <tr>\n",
       "      <th>min</th>\n",
       "      <td>-1.647288e+00</td>\n",
       "      <td>-1.609202e+00</td>\n",
       "      <td>-7.956967e-01</td>\n",
       "      <td>-1.538646e-01</td>\n",
       "      <td>-5.570451e-01</td>\n",
       "      <td>-3.406241e-01</td>\n",
       "      <td>-3.492547e-01</td>\n",
       "      <td>-1.609252e+00</td>\n",
       "      <td>-4.655381e-01</td>\n",
       "      <td>-3.106935e-01</td>\n",
       "      <td>...</td>\n",
       "      <td>-2.167811e-01</td>\n",
       "      <td>-1.093473e-01</td>\n",
       "      <td>-1.943116e-01</td>\n",
       "      <td>-2.035106e-01</td>\n",
       "      <td>-2.396732e-01</td>\n",
       "      <td>-1.638752e-01</td>\n",
       "      <td>-1.855569e-01</td>\n",
       "      <td>-1.400486e-01</td>\n",
       "      <td>-1.876243e-01</td>\n",
       "      <td>-3.114050e-01</td>\n",
       "    </tr>\n",
       "    <tr>\n",
       "      <th>25%</th>\n",
       "      <td>-8.898732e-01</td>\n",
       "      <td>-8.229818e-01</td>\n",
       "      <td>-7.956967e-01</td>\n",
       "      <td>-1.538646e-01</td>\n",
       "      <td>-5.570451e-01</td>\n",
       "      <td>-3.406241e-01</td>\n",
       "      <td>-3.492547e-01</td>\n",
       "      <td>-8.685026e-01</td>\n",
       "      <td>-4.655381e-01</td>\n",
       "      <td>-3.106935e-01</td>\n",
       "      <td>...</td>\n",
       "      <td>-2.167811e-01</td>\n",
       "      <td>-1.093473e-01</td>\n",
       "      <td>-1.943116e-01</td>\n",
       "      <td>-2.035106e-01</td>\n",
       "      <td>-2.396732e-01</td>\n",
       "      <td>-1.638752e-01</td>\n",
       "      <td>-1.855569e-01</td>\n",
       "      <td>-1.400486e-01</td>\n",
       "      <td>-1.876243e-01</td>\n",
       "      <td>-3.114050e-01</td>\n",
       "    </tr>\n",
       "    <tr>\n",
       "      <th>50%</th>\n",
       "      <td>-3.778204e-02</td>\n",
       "      <td>-3.676201e-02</td>\n",
       "      <td>-7.956967e-01</td>\n",
       "      <td>-1.538646e-01</td>\n",
       "      <td>-5.570451e-01</td>\n",
       "      <td>-3.406241e-01</td>\n",
       "      <td>-3.492547e-01</td>\n",
       "      <td>2.039731e-02</td>\n",
       "      <td>-3.900833e-01</td>\n",
       "      <td>-3.106935e-01</td>\n",
       "      <td>...</td>\n",
       "      <td>-2.167811e-01</td>\n",
       "      <td>-1.093473e-01</td>\n",
       "      <td>-1.943116e-01</td>\n",
       "      <td>-2.035106e-01</td>\n",
       "      <td>-2.396732e-01</td>\n",
       "      <td>-1.638752e-01</td>\n",
       "      <td>-1.855569e-01</td>\n",
       "      <td>-1.400486e-01</td>\n",
       "      <td>-1.876243e-01</td>\n",
       "      <td>-3.114050e-01</td>\n",
       "    </tr>\n",
       "    <tr>\n",
       "      <th>75%</th>\n",
       "      <td>9.089859e-01</td>\n",
       "      <td>7.494578e-01</td>\n",
       "      <td>1.256760e+00</td>\n",
       "      <td>-1.538646e-01</td>\n",
       "      <td>-5.570451e-01</td>\n",
       "      <td>-3.406241e-01</td>\n",
       "      <td>-3.492547e-01</td>\n",
       "      <td>7.611472e-01</td>\n",
       "      <td>-1.280955e-02</td>\n",
       "      <td>-3.106935e-01</td>\n",
       "      <td>...</td>\n",
       "      <td>-2.167811e-01</td>\n",
       "      <td>-1.093473e-01</td>\n",
       "      <td>-1.943116e-01</td>\n",
       "      <td>-2.035106e-01</td>\n",
       "      <td>-2.396732e-01</td>\n",
       "      <td>-1.638752e-01</td>\n",
       "      <td>-1.855569e-01</td>\n",
       "      <td>-1.400486e-01</td>\n",
       "      <td>-1.876243e-01</td>\n",
       "      <td>-3.114050e-01</td>\n",
       "    </tr>\n",
       "    <tr>\n",
       "      <th>max</th>\n",
       "      <td>1.666400e+00</td>\n",
       "      <td>2.321897e+00</td>\n",
       "      <td>1.256760e+00</td>\n",
       "      <td>6.499221e+00</td>\n",
       "      <td>1.795187e+00</td>\n",
       "      <td>2.935788e+00</td>\n",
       "      <td>2.863240e+00</td>\n",
       "      <td>2.242647e+00</td>\n",
       "      <td>9.167519e+00</td>\n",
       "      <td>1.089041e+01</td>\n",
       "      <td>...</td>\n",
       "      <td>4.612948e+00</td>\n",
       "      <td>9.145171e+00</td>\n",
       "      <td>5.146372e+00</td>\n",
       "      <td>4.913749e+00</td>\n",
       "      <td>4.172348e+00</td>\n",
       "      <td>6.102206e+00</td>\n",
       "      <td>5.389183e+00</td>\n",
       "      <td>7.140379e+00</td>\n",
       "      <td>5.329801e+00</td>\n",
       "      <td>3.211253e+00</td>\n",
       "    </tr>\n",
       "  </tbody>\n",
       "</table>\n",
       "<p>8 rows × 98 columns</p>\n",
       "</div>"
      ],
      "text/plain": [
       "             season         round  weather_warm  weather_cold   weather_dry  \\\n",
       "count  1.388000e+04  1.388000e+04  1.388000e+04  1.388000e+04  1.388000e+04   \n",
       "mean  -2.108464e-14 -5.283446e-15  8.375097e-15  1.192807e-14  1.943626e-14   \n",
       "std    1.000036e+00  1.000036e+00  1.000036e+00  1.000036e+00  1.000036e+00   \n",
       "min   -1.647288e+00 -1.609202e+00 -7.956967e-01 -1.538646e-01 -5.570451e-01   \n",
       "25%   -8.898732e-01 -8.229818e-01 -7.956967e-01 -1.538646e-01 -5.570451e-01   \n",
       "50%   -3.778204e-02 -3.676201e-02 -7.956967e-01 -1.538646e-01 -5.570451e-01   \n",
       "75%    9.089859e-01  7.494578e-01  1.256760e+00 -1.538646e-01 -5.570451e-01   \n",
       "max    1.666400e+00  2.321897e+00  1.256760e+00  6.499221e+00  1.795187e+00   \n",
       "\n",
       "        weather_wet  weather_cloudy          grid  driver_points  \\\n",
       "count  1.388000e+04    1.388000e+04  1.388000e+04   1.388000e+04   \n",
       "mean  -9.542671e-15   -9.207092e-16 -1.744522e-16   1.502908e-15   \n",
       "std    1.000036e+00    1.000036e+00  1.000036e+00   1.000036e+00   \n",
       "min   -3.406241e-01   -3.492547e-01 -1.609252e+00  -4.655381e-01   \n",
       "25%   -3.406241e-01   -3.492547e-01 -8.685026e-01  -4.655381e-01   \n",
       "50%   -3.406241e-01   -3.492547e-01  2.039731e-02  -3.900833e-01   \n",
       "75%   -3.406241e-01   -3.492547e-01  7.611472e-01  -1.280955e-02   \n",
       "max    2.935788e+00    2.863240e+00  2.242647e+00   9.167519e+00   \n",
       "\n",
       "        driver_wins  ...  constructor_minardi  constructor_prost  \\\n",
       "count  1.388000e+04  ...         1.388000e+04       1.388000e+04   \n",
       "mean   4.159929e-15  ...        -2.312531e-15      -1.086171e-14   \n",
       "std    1.000036e+00  ...         1.000036e+00       1.000036e+00   \n",
       "min   -3.106935e-01  ...        -2.167811e-01      -1.093473e-01   \n",
       "25%   -3.106935e-01  ...        -2.167811e-01      -1.093473e-01   \n",
       "50%   -3.106935e-01  ...        -2.167811e-01      -1.093473e-01   \n",
       "75%   -3.106935e-01  ...        -2.167811e-01      -1.093473e-01   \n",
       "max    1.089041e+01  ...         4.612948e+00       9.145171e+00   \n",
       "\n",
       "       constructor_red_bull  constructor_renault  constructor_sauber  \\\n",
       "count          1.388000e+04         1.388000e+04        1.388000e+04   \n",
       "mean          -2.551979e-14         3.370715e-15       -1.237899e-14   \n",
       "std            1.000036e+00         1.000036e+00        1.000036e+00   \n",
       "min           -1.943116e-01        -2.035106e-01       -2.396732e-01   \n",
       "25%           -1.943116e-01        -2.035106e-01       -2.396732e-01   \n",
       "50%           -1.943116e-01        -2.035106e-01       -2.396732e-01   \n",
       "75%           -1.943116e-01        -2.035106e-01       -2.396732e-01   \n",
       "max            5.146372e+00         4.913749e+00        4.172348e+00   \n",
       "\n",
       "       constructor_team_lotus  constructor_toro_rosso  constructor_toyota  \\\n",
       "count            1.388000e+04            1.388000e+04        1.388000e+04   \n",
       "mean             6.614566e-15            3.254309e-15        1.655905e-14   \n",
       "std              1.000036e+00            1.000036e+00        1.000036e+00   \n",
       "min             -1.638752e-01           -1.855569e-01       -1.400486e-01   \n",
       "25%             -1.638752e-01           -1.855569e-01       -1.400486e-01   \n",
       "50%             -1.638752e-01           -1.855569e-01       -1.400486e-01   \n",
       "75%             -1.638752e-01           -1.855569e-01       -1.400486e-01   \n",
       "max              6.102206e+00            5.389183e+00        7.140379e+00   \n",
       "\n",
       "       constructor_tyrrell  constructor_williams  \n",
       "count         1.388000e+04          1.388000e+04  \n",
       "mean          1.186926e-14         -8.319954e-16  \n",
       "std           1.000036e+00          1.000036e+00  \n",
       "min          -1.876243e-01         -3.114050e-01  \n",
       "25%          -1.876243e-01         -3.114050e-01  \n",
       "50%          -1.876243e-01         -3.114050e-01  \n",
       "75%          -1.876243e-01         -3.114050e-01  \n",
       "max           5.329801e+00          3.211253e+00  \n",
       "\n",
       "[8 rows x 98 columns]"
      ]
     },
     "execution_count": 7,
     "metadata": {},
     "output_type": "execute_result"
    }
   ],
   "source": [
    "X_train.describe()"
   ]
  },
  {
   "cell_type": "markdown",
   "metadata": {},
   "source": [
    "# Create Test Datasets for Regression"
   ]
  },
  {
   "cell_type": "code",
   "execution_count": 8,
   "metadata": {},
   "outputs": [],
   "source": [
    "for circuit in df[df.season == 2019]['round'].unique():\n",
    "\n",
    "    test = df[(df.season == 2019) & (df['round'] == circuit)]\n",
    "    X_test = test.drop(['driver', 'podium'], axis = 1)\n",
    "    y_test = test.podium\n",
    "\n",
    "    #scaling\n",
    "    X_test = pd.DataFrame(scaler.transform(X_test), columns = X_test.columns)"
   ]
  },
  {
   "cell_type": "code",
   "execution_count": 9,
   "metadata": {},
   "outputs": [
    {
     "data": {
      "text/html": [
       "<div>\n",
       "<style scoped>\n",
       "    .dataframe tbody tr th:only-of-type {\n",
       "        vertical-align: middle;\n",
       "    }\n",
       "\n",
       "    .dataframe tbody tr th {\n",
       "        vertical-align: top;\n",
       "    }\n",
       "\n",
       "    .dataframe thead th {\n",
       "        text-align: right;\n",
       "    }\n",
       "</style>\n",
       "<table border=\"1\" class=\"dataframe\">\n",
       "  <thead>\n",
       "    <tr style=\"text-align: right;\">\n",
       "      <th></th>\n",
       "      <th>season</th>\n",
       "      <th>round</th>\n",
       "      <th>weather_warm</th>\n",
       "      <th>weather_cold</th>\n",
       "      <th>weather_dry</th>\n",
       "      <th>weather_wet</th>\n",
       "      <th>weather_cloudy</th>\n",
       "      <th>grid</th>\n",
       "      <th>driver_points</th>\n",
       "      <th>driver_wins</th>\n",
       "      <th>...</th>\n",
       "      <th>constructor_minardi</th>\n",
       "      <th>constructor_prost</th>\n",
       "      <th>constructor_red_bull</th>\n",
       "      <th>constructor_renault</th>\n",
       "      <th>constructor_sauber</th>\n",
       "      <th>constructor_team_lotus</th>\n",
       "      <th>constructor_toro_rosso</th>\n",
       "      <th>constructor_toyota</th>\n",
       "      <th>constructor_tyrrell</th>\n",
       "      <th>constructor_williams</th>\n",
       "    </tr>\n",
       "  </thead>\n",
       "  <tbody>\n",
       "    <tr>\n",
       "      <th>count</th>\n",
       "      <td>2.000000e+01</td>\n",
       "      <td>2.000000e+01</td>\n",
       "      <td>2.000000e+01</td>\n",
       "      <td>2.000000e+01</td>\n",
       "      <td>2.000000e+01</td>\n",
       "      <td>20.000000</td>\n",
       "      <td>2.000000e+01</td>\n",
       "      <td>20.000000</td>\n",
       "      <td>20.000000</td>\n",
       "      <td>20.000000</td>\n",
       "      <td>...</td>\n",
       "      <td>2.000000e+01</td>\n",
       "      <td>2.000000e+01</td>\n",
       "      <td>20.000000</td>\n",
       "      <td>20.000000</td>\n",
       "      <td>20.000000</td>\n",
       "      <td>2.000000e+01</td>\n",
       "      <td>20.000000</td>\n",
       "      <td>2.000000e+01</td>\n",
       "      <td>2.000000e+01</td>\n",
       "      <td>20.000000</td>\n",
       "    </tr>\n",
       "    <tr>\n",
       "      <th>mean</th>\n",
       "      <td>1.761077e+00</td>\n",
       "      <td>2.321897e+00</td>\n",
       "      <td>1.256760e+00</td>\n",
       "      <td>-1.538646e-01</td>\n",
       "      <td>-5.570451e-01</td>\n",
       "      <td>-0.340624</td>\n",
       "      <td>-3.492547e-01</td>\n",
       "      <td>-0.201828</td>\n",
       "      <td>2.097408</td>\n",
       "      <td>0.550930</td>\n",
       "      <td>...</td>\n",
       "      <td>-2.167811e-01</td>\n",
       "      <td>-1.093473e-01</td>\n",
       "      <td>0.339757</td>\n",
       "      <td>0.308215</td>\n",
       "      <td>-0.239673</td>\n",
       "      <td>-1.638752e-01</td>\n",
       "      <td>0.371917</td>\n",
       "      <td>-1.400486e-01</td>\n",
       "      <td>-1.876243e-01</td>\n",
       "      <td>0.040861</td>\n",
       "    </tr>\n",
       "    <tr>\n",
       "      <th>std</th>\n",
       "      <td>2.278130e-16</td>\n",
       "      <td>9.112518e-16</td>\n",
       "      <td>4.556259e-16</td>\n",
       "      <td>5.695324e-17</td>\n",
       "      <td>2.278130e-16</td>\n",
       "      <td>0.000000</td>\n",
       "      <td>5.695324e-17</td>\n",
       "      <td>0.876467</td>\n",
       "      <td>2.947319</td>\n",
       "      <td>2.073180</td>\n",
       "      <td>...</td>\n",
       "      <td>2.847662e-17</td>\n",
       "      <td>4.271493e-17</td>\n",
       "      <td>1.643828</td>\n",
       "      <td>1.575059</td>\n",
       "      <td>0.000000</td>\n",
       "      <td>2.847662e-17</td>\n",
       "      <td>1.715869</td>\n",
       "      <td>2.847662e-17</td>\n",
       "      <td>2.847662e-17</td>\n",
       "      <td>1.084251</td>\n",
       "    </tr>\n",
       "    <tr>\n",
       "      <th>min</th>\n",
       "      <td>1.761077e+00</td>\n",
       "      <td>2.321897e+00</td>\n",
       "      <td>1.256760e+00</td>\n",
       "      <td>-1.538646e-01</td>\n",
       "      <td>-5.570451e-01</td>\n",
       "      <td>-0.340624</td>\n",
       "      <td>-3.492547e-01</td>\n",
       "      <td>-1.609252</td>\n",
       "      <td>-0.465538</td>\n",
       "      <td>-0.310694</td>\n",
       "      <td>...</td>\n",
       "      <td>-2.167811e-01</td>\n",
       "      <td>-1.093473e-01</td>\n",
       "      <td>-0.194312</td>\n",
       "      <td>-0.203511</td>\n",
       "      <td>-0.239673</td>\n",
       "      <td>-1.638752e-01</td>\n",
       "      <td>-0.185557</td>\n",
       "      <td>-1.400486e-01</td>\n",
       "      <td>-1.876243e-01</td>\n",
       "      <td>-0.311405</td>\n",
       "    </tr>\n",
       "    <tr>\n",
       "      <th>25%</th>\n",
       "      <td>1.761077e+00</td>\n",
       "      <td>2.321897e+00</td>\n",
       "      <td>1.256760e+00</td>\n",
       "      <td>-1.538646e-01</td>\n",
       "      <td>-5.570451e-01</td>\n",
       "      <td>-0.340624</td>\n",
       "      <td>-3.492547e-01</td>\n",
       "      <td>-0.905540</td>\n",
       "      <td>0.056357</td>\n",
       "      <td>-0.310694</td>\n",
       "      <td>...</td>\n",
       "      <td>-2.167811e-01</td>\n",
       "      <td>-1.093473e-01</td>\n",
       "      <td>-0.194312</td>\n",
       "      <td>-0.203511</td>\n",
       "      <td>-0.239673</td>\n",
       "      <td>-1.638752e-01</td>\n",
       "      <td>-0.185557</td>\n",
       "      <td>-1.400486e-01</td>\n",
       "      <td>-1.876243e-01</td>\n",
       "      <td>-0.311405</td>\n",
       "    </tr>\n",
       "    <tr>\n",
       "      <th>50%</th>\n",
       "      <td>1.761077e+00</td>\n",
       "      <td>2.321897e+00</td>\n",
       "      <td>1.256760e+00</td>\n",
       "      <td>-1.538646e-01</td>\n",
       "      <td>-5.570451e-01</td>\n",
       "      <td>-0.340624</td>\n",
       "      <td>-3.492547e-01</td>\n",
       "      <td>-0.201828</td>\n",
       "      <td>0.678859</td>\n",
       "      <td>-0.310694</td>\n",
       "      <td>...</td>\n",
       "      <td>-2.167811e-01</td>\n",
       "      <td>-1.093473e-01</td>\n",
       "      <td>-0.194312</td>\n",
       "      <td>-0.203511</td>\n",
       "      <td>-0.239673</td>\n",
       "      <td>-1.638752e-01</td>\n",
       "      <td>-0.185557</td>\n",
       "      <td>-1.400486e-01</td>\n",
       "      <td>-1.876243e-01</td>\n",
       "      <td>-0.311405</td>\n",
       "    </tr>\n",
       "    <tr>\n",
       "      <th>75%</th>\n",
       "      <td>1.761077e+00</td>\n",
       "      <td>2.321897e+00</td>\n",
       "      <td>1.256760e+00</td>\n",
       "      <td>-1.538646e-01</td>\n",
       "      <td>-5.570451e-01</td>\n",
       "      <td>-0.340624</td>\n",
       "      <td>-3.492547e-01</td>\n",
       "      <td>0.501885</td>\n",
       "      <td>2.772728</td>\n",
       "      <td>-0.095288</td>\n",
       "      <td>...</td>\n",
       "      <td>-2.167811e-01</td>\n",
       "      <td>-1.093473e-01</td>\n",
       "      <td>-0.194312</td>\n",
       "      <td>-0.203511</td>\n",
       "      <td>-0.239673</td>\n",
       "      <td>-1.638752e-01</td>\n",
       "      <td>-0.185557</td>\n",
       "      <td>-1.400486e-01</td>\n",
       "      <td>-1.876243e-01</td>\n",
       "      <td>-0.311405</td>\n",
       "    </tr>\n",
       "    <tr>\n",
       "      <th>max</th>\n",
       "      <td>1.761077e+00</td>\n",
       "      <td>2.321897e+00</td>\n",
       "      <td>1.256760e+00</td>\n",
       "      <td>-1.538646e-01</td>\n",
       "      <td>-5.570451e-01</td>\n",
       "      <td>-0.340624</td>\n",
       "      <td>-3.492547e-01</td>\n",
       "      <td>1.205597</td>\n",
       "      <td>9.268125</td>\n",
       "      <td>8.305542</td>\n",
       "      <td>...</td>\n",
       "      <td>-2.167811e-01</td>\n",
       "      <td>-1.093473e-01</td>\n",
       "      <td>5.146372</td>\n",
       "      <td>4.913749</td>\n",
       "      <td>-0.239673</td>\n",
       "      <td>-1.638752e-01</td>\n",
       "      <td>5.389183</td>\n",
       "      <td>-1.400486e-01</td>\n",
       "      <td>-1.876243e-01</td>\n",
       "      <td>3.211253</td>\n",
       "    </tr>\n",
       "  </tbody>\n",
       "</table>\n",
       "<p>8 rows × 98 columns</p>\n",
       "</div>"
      ],
      "text/plain": [
       "             season         round  weather_warm  weather_cold   weather_dry  \\\n",
       "count  2.000000e+01  2.000000e+01  2.000000e+01  2.000000e+01  2.000000e+01   \n",
       "mean   1.761077e+00  2.321897e+00  1.256760e+00 -1.538646e-01 -5.570451e-01   \n",
       "std    2.278130e-16  9.112518e-16  4.556259e-16  5.695324e-17  2.278130e-16   \n",
       "min    1.761077e+00  2.321897e+00  1.256760e+00 -1.538646e-01 -5.570451e-01   \n",
       "25%    1.761077e+00  2.321897e+00  1.256760e+00 -1.538646e-01 -5.570451e-01   \n",
       "50%    1.761077e+00  2.321897e+00  1.256760e+00 -1.538646e-01 -5.570451e-01   \n",
       "75%    1.761077e+00  2.321897e+00  1.256760e+00 -1.538646e-01 -5.570451e-01   \n",
       "max    1.761077e+00  2.321897e+00  1.256760e+00 -1.538646e-01 -5.570451e-01   \n",
       "\n",
       "       weather_wet  weather_cloudy       grid  driver_points  driver_wins  \\\n",
       "count    20.000000    2.000000e+01  20.000000      20.000000    20.000000   \n",
       "mean     -0.340624   -3.492547e-01  -0.201828       2.097408     0.550930   \n",
       "std       0.000000    5.695324e-17   0.876467       2.947319     2.073180   \n",
       "min      -0.340624   -3.492547e-01  -1.609252      -0.465538    -0.310694   \n",
       "25%      -0.340624   -3.492547e-01  -0.905540       0.056357    -0.310694   \n",
       "50%      -0.340624   -3.492547e-01  -0.201828       0.678859    -0.310694   \n",
       "75%      -0.340624   -3.492547e-01   0.501885       2.772728    -0.095288   \n",
       "max      -0.340624   -3.492547e-01   1.205597       9.268125     8.305542   \n",
       "\n",
       "       ...  constructor_minardi  constructor_prost  constructor_red_bull  \\\n",
       "count  ...         2.000000e+01       2.000000e+01             20.000000   \n",
       "mean   ...        -2.167811e-01      -1.093473e-01              0.339757   \n",
       "std    ...         2.847662e-17       4.271493e-17              1.643828   \n",
       "min    ...        -2.167811e-01      -1.093473e-01             -0.194312   \n",
       "25%    ...        -2.167811e-01      -1.093473e-01             -0.194312   \n",
       "50%    ...        -2.167811e-01      -1.093473e-01             -0.194312   \n",
       "75%    ...        -2.167811e-01      -1.093473e-01             -0.194312   \n",
       "max    ...        -2.167811e-01      -1.093473e-01              5.146372   \n",
       "\n",
       "       constructor_renault  constructor_sauber  constructor_team_lotus  \\\n",
       "count            20.000000           20.000000            2.000000e+01   \n",
       "mean              0.308215           -0.239673           -1.638752e-01   \n",
       "std               1.575059            0.000000            2.847662e-17   \n",
       "min              -0.203511           -0.239673           -1.638752e-01   \n",
       "25%              -0.203511           -0.239673           -1.638752e-01   \n",
       "50%              -0.203511           -0.239673           -1.638752e-01   \n",
       "75%              -0.203511           -0.239673           -1.638752e-01   \n",
       "max               4.913749           -0.239673           -1.638752e-01   \n",
       "\n",
       "       constructor_toro_rosso  constructor_toyota  constructor_tyrrell  \\\n",
       "count               20.000000        2.000000e+01         2.000000e+01   \n",
       "mean                 0.371917       -1.400486e-01        -1.876243e-01   \n",
       "std                  1.715869        2.847662e-17         2.847662e-17   \n",
       "min                 -0.185557       -1.400486e-01        -1.876243e-01   \n",
       "25%                 -0.185557       -1.400486e-01        -1.876243e-01   \n",
       "50%                 -0.185557       -1.400486e-01        -1.876243e-01   \n",
       "75%                 -0.185557       -1.400486e-01        -1.876243e-01   \n",
       "max                  5.389183       -1.400486e-01        -1.876243e-01   \n",
       "\n",
       "       constructor_williams  \n",
       "count             20.000000  \n",
       "mean               0.040861  \n",
       "std                1.084251  \n",
       "min               -0.311405  \n",
       "25%               -0.311405  \n",
       "50%               -0.311405  \n",
       "75%               -0.311405  \n",
       "max                3.211253  \n",
       "\n",
       "[8 rows x 98 columns]"
      ]
     },
     "execution_count": 9,
     "metadata": {},
     "output_type": "execute_result"
    }
   ],
   "source": [
    "X_test.describe()"
   ]
  },
  {
   "cell_type": "code",
   "execution_count": 10,
   "metadata": {},
   "outputs": [
    {
     "data": {
      "text/plain": [
       "count    20.000000\n",
       "mean      0.050000\n",
       "std       0.223607\n",
       "min       0.000000\n",
       "25%       0.000000\n",
       "50%       0.000000\n",
       "75%       0.000000\n",
       "max       1.000000\n",
       "Name: podium, dtype: float64"
      ]
     },
     "execution_count": 10,
     "metadata": {},
     "output_type": "execute_result"
    }
   ],
   "source": [
    "y_test.describe()"
   ]
  },
  {
   "cell_type": "markdown",
   "metadata": {},
   "source": [
    "## Functions to compare Model Score between Training & Test Datasets"
   ]
  },
  {
   "cell_type": "code",
   "execution_count": 11,
   "metadata": {},
   "outputs": [],
   "source": [
    "def score_classification(model):\n",
    "    score = 0\n",
    "    acc = 0\n",
    "    for circuit in df[df.season == 2019]['round'].unique():\n",
    "\n",
    "        test = df[(df.season == 2019) & (df['round'] == circuit)]\n",
    "        X_test = test.drop(['driver', 'podium'], axis = 1)\n",
    "        y_test = test.podium\n",
    "\n",
    "        #scaling\n",
    "        X_test = pd.DataFrame(scaler.transform(X_test), columns = X_test.columns)\n",
    "\n",
    "        # make predictions\n",
    "        prediction_df = pd.DataFrame(model.predict_proba(X_test), columns = ['proba_0', 'proba_1'])\n",
    "        prediction_df['actual'] = y_test.reset_index(drop = True)\n",
    "        prediction_df.sort_values('proba_1', ascending = False, inplace = True)\n",
    "        prediction_df.reset_index(inplace = True, drop = True)\n",
    "        prediction_df['predicted'] = prediction_df.index\n",
    "        prediction_df['predicted'] = prediction_df.predicted.map(lambda x: 1 if x == 0 else 0)\n",
    "\n",
    "        # Evaluate the classifier precision using the test set\n",
    "        score += precision_score(prediction_df.actual, prediction_df.predicted)\n",
    "        \n",
    "        # Evaluate the classifier accuracy using the test set\n",
    "        acc += accuracy_score(prediction_df.actual, prediction_df.predicted)\n",
    "\n",
    "    model_score = score / df[df.season == 2019]['round'].unique().max()\n",
    "    model_acc = acc / df[df.season == 2019]['round'].unique().max()\n",
    "    return model_score, model_acc"
   ]
  },
  {
   "cell_type": "code",
   "execution_count": 12,
   "metadata": {},
   "outputs": [],
   "source": [
    "import pickle\n",
    "\n",
    "def save_model(model, model_filepath):\n",
    "    \"\"\"\n",
    "    Export your model as a pickle file.\n",
    "    Saves trained model as pickle file to be loaded later.\n",
    "    \n",
    "    \"\"\"\n",
    "    \n",
    "    filename = model_filepath\n",
    "    pickle.dump(model, open(filename, 'wb'))"
   ]
  },
  {
   "cell_type": "markdown",
   "metadata": {},
   "source": [
    "## Structure to store Models Results"
   ]
  },
  {
   "cell_type": "code",
   "execution_count": 13,
   "metadata": {},
   "outputs": [],
   "source": [
    "comparison_dict ={'modelname':[],\n",
    "                  'params': [],\n",
    "                  'score': [],\n",
    "                  'model':[]}"
   ]
  },
  {
   "cell_type": "markdown",
   "metadata": {},
   "source": [
    "## --------------------------------------\n",
    "## Classification ML\n",
    "## --------------------------------------"
   ]
  },
  {
   "cell_type": "markdown",
   "metadata": {},
   "source": [
    "## Logistic Regression"
   ]
  },
  {
   "cell_type": "code",
   "execution_count": 14,
   "metadata": {},
   "outputs": [],
   "source": [
    "penalty='l2'\n",
    "solver='liblinear'\n",
    "c=10.0"
   ]
  },
  {
   "cell_type": "code",
   "execution_count": 15,
   "metadata": {},
   "outputs": [],
   "source": [
    "# Logistic Regression\n",
    "\n",
    "model_params = (penalty, solver, c)\n",
    "model = LogisticRegression(penalty = penalty, solver = solver, C = c, max_iter = 10000)\n",
    "model.fit(X_train, y_train)\n",
    "\n",
    "model_score, model_acc = score_classification(model)\n",
    "\n",
    "comparison_dict['modelname'].append('logistic_regression')\n",
    "comparison_dict['params'].append(model_params)\n",
    "comparison_dict['score'].append(model_score)\n",
    "comparison_dict['model'].append(model)"
   ]
  },
  {
   "cell_type": "code",
   "execution_count": 16,
   "metadata": {},
   "outputs": [
    {
     "name": "stdout",
     "output_type": "stream",
     "text": [
      "0.5714285714285714\n"
     ]
    }
   ],
   "source": [
    "print(model_score)"
   ]
  },
  {
   "cell_type": "code",
   "execution_count": 17,
   "metadata": {},
   "outputs": [
    {
     "name": "stdout",
     "output_type": "stream",
     "text": [
      "0.9526733500417712\n"
     ]
    }
   ],
   "source": [
    "print(model_acc)"
   ]
  },
  {
   "cell_type": "code",
   "execution_count": 18,
   "metadata": {},
   "outputs": [
    {
     "name": "stdout",
     "output_type": "stream",
     "text": [
      "Saving model ...\n",
      "    MODEL: ./models/logistic_regression.pkl\n"
     ]
    }
   ],
   "source": [
    "model_filepath='./models/{}.pkl'.format('logistic_regression')\n",
    "print('Saving model ...\\n    MODEL: {}'.format(model_filepath))\n",
    "save_model(model, model_filepath)"
   ]
  },
  {
   "cell_type": "code",
   "execution_count": 19,
   "metadata": {},
   "outputs": [
    {
     "data": {
      "text/plain": [
       "array([-2.2695e-01, -1.7349e-01,  3.2515e-04, -6.1395e-03,  1.2257e-02,\n",
       "        3.3180e-03,  2.6784e-02, -2.9074e+00,  3.7241e-01,  2.4918e-02,\n",
       "       -1.2882e-01, -4.2157e-01,  1.8335e-01, -2.2747e-01, -5.6367e-01,\n",
       "        1.9438e-01, -1.0983e-03, -3.1983e-02, -4.8911e-02, -1.7893e-02,\n",
       "       -6.6061e-03,  1.9303e-02, -2.5421e-02,  1.7508e-02, -2.0372e-02,\n",
       "       -1.7493e-02, -1.9752e-02, -2.4472e-02, -7.1465e-03,  3.1078e-03,\n",
       "       -1.3968e-02, -6.9302e-03, -1.8688e-02, -2.4781e-02, -3.8066e-03,\n",
       "       -1.1744e-02, -3.2505e-02, -1.1896e-02, -1.5034e-02, -1.0213e-02,\n",
       "        3.6772e-03, -1.3570e-02,  1.0323e-02, -3.8755e-03, -2.0151e-02,\n",
       "       -4.5820e-03, -3.2368e-03, -2.8940e-02, -1.7129e-03, -1.4131e-02,\n",
       "       -3.5694e-02, -7.0582e-03, -2.5294e-02, -2.4700e-02, -2.4276e-02,\n",
       "        5.9724e-03, -4.6465e-01, -1.0474e-01, -9.9386e-02,  1.0900e-02,\n",
       "       -4.4083e-02,  1.2269e-01,  8.7329e-02,  8.5569e-02, -5.4163e-02,\n",
       "       -9.4042e-02,  1.4167e-01, -2.6934e-01, -4.7056e-01, -2.1273e-01,\n",
       "       -3.9884e-01,  1.4365e-01, -4.6684e-01, -5.9446e-01, -6.5158e-01,\n",
       "        6.2170e-02,  1.3595e-02,  9.6252e-02, -3.0331e-01, -6.3995e-01,\n",
       "       -3.1000e-01, -4.3443e-01, -8.1481e-02, -2.2679e-01, -7.4240e-02,\n",
       "        4.1887e-02,  1.6630e-01,  1.0129e-01, -4.3517e-01, -3.8477e-01,\n",
       "        1.8105e-01,  3.8919e-02, -8.6183e-01, -8.4629e-02,  3.9339e-02,\n",
       "       -6.8011e-01,  7.3257e-02, -4.1066e-02])"
      ]
     },
     "execution_count": 19,
     "metadata": {},
     "output_type": "execute_result"
    }
   ],
   "source": [
    "# get importance\n",
    "importance = model.coef_[0]\n",
    "importance"
   ]
  },
  {
   "cell_type": "code",
   "execution_count": 20,
   "metadata": {},
   "outputs": [
    {
     "name": "stdout",
     "output_type": "stream",
     "text": [
      "Feature: 0, Score: -0.22695\n",
      "Feature: 1, Score: -0.17349\n",
      "Feature: 2, Score: 0.00033\n",
      "Feature: 3, Score: -0.00614\n",
      "Feature: 4, Score: 0.01226\n",
      "Feature: 5, Score: 0.00332\n",
      "Feature: 6, Score: 0.02678\n",
      "Feature: 7, Score: -2.90744\n",
      "Feature: 8, Score: 0.37241\n",
      "Feature: 9, Score: 0.02492\n",
      "Feature: 10, Score: -0.12882\n",
      "Feature: 11, Score: -0.42157\n",
      "Feature: 12, Score: 0.18335\n",
      "Feature: 13, Score: -0.22747\n",
      "Feature: 14, Score: -0.56367\n",
      "Feature: 15, Score: 0.19438\n",
      "Feature: 16, Score: -0.00110\n",
      "Feature: 17, Score: -0.03198\n",
      "Feature: 18, Score: -0.04891\n",
      "Feature: 19, Score: -0.01789\n",
      "Feature: 20, Score: -0.00661\n",
      "Feature: 21, Score: 0.01930\n",
      "Feature: 22, Score: -0.02542\n",
      "Feature: 23, Score: 0.01751\n",
      "Feature: 24, Score: -0.02037\n",
      "Feature: 25, Score: -0.01749\n",
      "Feature: 26, Score: -0.01975\n",
      "Feature: 27, Score: -0.02447\n",
      "Feature: 28, Score: -0.00715\n",
      "Feature: 29, Score: 0.00311\n",
      "Feature: 30, Score: -0.01397\n",
      "Feature: 31, Score: -0.00693\n",
      "Feature: 32, Score: -0.01869\n",
      "Feature: 33, Score: -0.02478\n",
      "Feature: 34, Score: -0.00381\n",
      "Feature: 35, Score: -0.01174\n",
      "Feature: 36, Score: -0.03250\n",
      "Feature: 37, Score: -0.01190\n",
      "Feature: 38, Score: -0.01503\n",
      "Feature: 39, Score: -0.01021\n",
      "Feature: 40, Score: 0.00368\n",
      "Feature: 41, Score: -0.01357\n",
      "Feature: 42, Score: 0.01032\n",
      "Feature: 43, Score: -0.00388\n",
      "Feature: 44, Score: -0.02015\n",
      "Feature: 45, Score: -0.00458\n",
      "Feature: 46, Score: -0.00324\n",
      "Feature: 47, Score: -0.02894\n",
      "Feature: 48, Score: -0.00171\n",
      "Feature: 49, Score: -0.01413\n",
      "Feature: 50, Score: -0.03569\n",
      "Feature: 51, Score: -0.00706\n",
      "Feature: 52, Score: -0.02529\n",
      "Feature: 53, Score: -0.02470\n",
      "Feature: 54, Score: -0.02428\n",
      "Feature: 55, Score: 0.00597\n",
      "Feature: 56, Score: -0.46465\n",
      "Feature: 57, Score: -0.10474\n",
      "Feature: 58, Score: -0.09939\n",
      "Feature: 59, Score: 0.01090\n",
      "Feature: 60, Score: -0.04408\n",
      "Feature: 61, Score: 0.12269\n",
      "Feature: 62, Score: 0.08733\n",
      "Feature: 63, Score: 0.08557\n",
      "Feature: 64, Score: -0.05416\n",
      "Feature: 65, Score: -0.09404\n",
      "Feature: 66, Score: 0.14167\n",
      "Feature: 67, Score: -0.26934\n",
      "Feature: 68, Score: -0.47056\n",
      "Feature: 69, Score: -0.21273\n",
      "Feature: 70, Score: -0.39884\n",
      "Feature: 71, Score: 0.14365\n",
      "Feature: 72, Score: -0.46684\n",
      "Feature: 73, Score: -0.59446\n",
      "Feature: 74, Score: -0.65158\n",
      "Feature: 75, Score: 0.06217\n",
      "Feature: 76, Score: 0.01360\n",
      "Feature: 77, Score: 0.09625\n",
      "Feature: 78, Score: -0.30331\n",
      "Feature: 79, Score: -0.63995\n",
      "Feature: 80, Score: -0.31000\n",
      "Feature: 81, Score: -0.43443\n",
      "Feature: 82, Score: -0.08148\n",
      "Feature: 83, Score: -0.22679\n",
      "Feature: 84, Score: -0.07424\n",
      "Feature: 85, Score: 0.04189\n",
      "Feature: 86, Score: 0.16630\n",
      "Feature: 87, Score: 0.10129\n",
      "Feature: 88, Score: -0.43517\n",
      "Feature: 89, Score: -0.38477\n",
      "Feature: 90, Score: 0.18105\n",
      "Feature: 91, Score: 0.03892\n",
      "Feature: 92, Score: -0.86183\n",
      "Feature: 93, Score: -0.08463\n",
      "Feature: 94, Score: 0.03934\n",
      "Feature: 95, Score: -0.68011\n",
      "Feature: 96, Score: 0.07326\n",
      "Feature: 97, Score: -0.04107\n"
     ]
    }
   ],
   "source": [
    "# summarize feature importance\n",
    "for i,v in enumerate(importance):\n",
    "\tprint('Feature: %0d, Score: %.5f' % (i,v))"
   ]
  },
  {
   "cell_type": "code",
   "execution_count": 21,
   "metadata": {},
   "outputs": [
    {
     "data": {
      "image/png": "[encoded data removed]",
      "text/plain": [
       "<Figure size 432x288 with 1 Axes>"
      ]
     },
     "metadata": {
      "needs_background": "light"
     },
     "output_type": "display_data"
    }
   ],
   "source": [
    "from matplotlib import pyplot\n",
    "# plot feature importance\n",
    "pyplot.bar([x for x in range(len(importance))], importance)\n",
    "pyplot.show()"
   ]
  },
  {
   "cell_type": "code",
   "execution_count": 22,
   "metadata": {},
   "outputs": [
    {
     "name": "stdout",
     "output_type": "stream",
     "text": [
      "Index(['season', 'round', 'weather_warm', 'weather_cold', 'weather_dry',\n",
      "       'weather_wet', 'weather_cloudy', 'grid', 'driver_points', 'driver_wins',\n",
      "       'driver_standings_pos', 'constructor_points', 'constructor_wins',\n",
      "       'constructor_standings_pos', 'qualifying_time', 'driver_age',\n",
      "       'circuit_id_BAK', 'circuit_id_adelaide', 'circuit_id_albert_park',\n",
      "       'circuit_id_americas', 'circuit_id_bahrain', 'circuit_id_brands_hatch',\n",
      "       'circuit_id_catalunya', 'circuit_id_detroit', 'circuit_id_estoril',\n",
      "       'circuit_id_galvez', 'circuit_id_hockenheimring',\n",
      "       'circuit_id_hungaroring', 'circuit_id_imola', 'circuit_id_indianapolis',\n",
      "       'circuit_id_interlagos', 'circuit_id_istanbul',\n",
      "       'circuit_id_jacarepagua', 'circuit_id_jerez', 'circuit_id_kyalami',\n",
      "       'circuit_id_magny_cours', 'circuit_id_marina_bay', 'circuit_id_monaco',\n",
      "       'circuit_id_monza', 'circuit_id_nurburgring',\n",
      "       'circuit_id_osterreichring', 'circuit_id_phoenix',\n",
      "       'circuit_id_red_bull_ring', 'circuit_id_ricard', 'circuit_id_rodriguez',\n",
      "       'circuit_id_sepang', 'circuit_id_shanghai', 'circuit_id_silverstone',\n",
      "       'circuit_id_sochi', 'circuit_id_spa', 'circuit_id_suzuka',\n",
      "       'circuit_id_valencia', 'circuit_id_villeneuve', 'circuit_id_yas_marina',\n",
      "       'circuit_id_yeongam', 'circuit_id_zandvoort', 'nationality_American',\n",
      "       'nationality_Australian', 'nationality_Austrian', 'nationality_Belgian',\n",
      "       'nationality_Brazilian', 'nationality_British', 'nationality_Canadian',\n",
      "       'nationality_Dutch', 'nationality_Finnish', 'nationality_French',\n",
      "       'nationality_German', 'nationality_Italian', 'nationality_Japanese',\n",
      "       'nationality_Mexican', 'nationality_Russian', 'nationality_Spanish',\n",
      "       'nationality_Swedish', 'constructor_arrows', 'constructor_bar',\n",
      "       'constructor_benetton', 'constructor_brabham', 'constructor_ferrari',\n",
      "       'constructor_footwork', 'constructor_force_india', 'constructor_haas',\n",
      "       'constructor_jaguar', 'constructor_jordan', 'constructor_larrousse',\n",
      "       'constructor_ligier', 'constructor_lotus_f1', 'constructor_mclaren',\n",
      "       'constructor_mercedes', 'constructor_minardi', 'constructor_prost',\n",
      "       'constructor_red_bull', 'constructor_renault', 'constructor_sauber',\n",
      "       'constructor_team_lotus', 'constructor_toro_rosso',\n",
      "       'constructor_toyota', 'constructor_tyrrell', 'constructor_williams'],\n",
      "      dtype='object')\n"
     ]
    }
   ],
   "source": [
    "print(X_train.columns)"
   ]
  },
  {
   "cell_type": "code",
   "execution_count": 23,
   "metadata": {},
   "outputs": [
    {
     "name": "stdout",
     "output_type": "stream",
     "text": [
      "The top 10 Feature importances are:\n",
      "\n",
      "driver_points, Score: 0.372\n",
      "driver_age, Score: 0.194\n",
      "constructor_wins, Score: 0.183\n",
      "constructor_red_bull, Score: 0.181\n",
      "constructor_mclaren, Score: 0.166\n",
      "nationality_Spanish, Score: 0.144\n",
      "nationality_German, Score: 0.142\n",
      "nationality_British, Score: 0.123\n",
      "constructor_mercedes, Score: 0.101\n",
      "constructor_ferrari, Score: 0.096\n"
     ]
    }
   ],
   "source": [
    "# Output importances \n",
    "imp_list = []\n",
    "for i,v in enumerate(importance):\n",
    "    imp_list.append((i, v))\n",
    "sorted_list = sorted(imp_list, key=lambda x: x[1], reverse=True)\n",
    "print('The top 10 Feature importances are:' '\\n')\n",
    "for f, i in sorted_list[:10]:\n",
    "    print(f'{X_train.columns[f]}, Score: {round(i, 3)}')"
   ]
  },
  {
   "cell_type": "code",
   "execution_count": 24,
   "metadata": {},
   "outputs": [
    {
     "data": {
      "image/png": "[encoded data removed]",
      "text/plain": [
       "<Figure size 432x288 with 1 Axes>"
      ]
     },
     "metadata": {
      "needs_background": "light"
     },
     "output_type": "display_data"
    }
   ],
   "source": [
    "from matplotlib import pyplot\n",
    "# Plot importances:\n",
    "pyplot.bar([x for x in range(len(importance))], importance)\n",
    "pyplot.ylim(0, 0.40)\n",
    "pyplot.show()"
   ]
  },
  {
   "cell_type": "markdown",
   "metadata": {},
   "source": [
    "## Random Forest Classifier"
   ]
  },
  {
   "cell_type": "code",
   "execution_count": 25,
   "metadata": {},
   "outputs": [],
   "source": [
    "criterion='gini'\n",
    "max_features='auto'\n",
    "max_depth=13.0"
   ]
  },
  {
   "cell_type": "code",
   "execution_count": 26,
   "metadata": {},
   "outputs": [],
   "source": [
    "# Random Forest Classifier\n",
    "model_params = (criterion, max_features, max_depth)\n",
    "model = RandomForestClassifier(criterion = criterion, max_features = max_features, max_depth = max_depth)\n",
    "model.fit(X_train, y_train)\n",
    "\n",
    "model_score,model_acc = score_classification(model)\n",
    "\n",
    "comparison_dict['modelname'].append('random_forest_classifier')\n",
    "comparison_dict['params'].append(model_params)\n",
    "comparison_dict['score'].append(model_score)\n",
    "comparison_dict['model'].append(model)"
   ]
  },
  {
   "cell_type": "code",
   "execution_count": 27,
   "metadata": {},
   "outputs": [
    {
     "name": "stdout",
     "output_type": "stream",
     "text": [
      "0.47619047619047616\n"
     ]
    }
   ],
   "source": [
    "print(model_score)"
   ]
  },
  {
   "cell_type": "code",
   "execution_count": 28,
   "metadata": {},
   "outputs": [
    {
     "name": "stdout",
     "output_type": "stream",
     "text": [
      "0.9426204399888611\n"
     ]
    }
   ],
   "source": [
    "print(model_acc)"
   ]
  },
  {
   "cell_type": "code",
   "execution_count": 29,
   "metadata": {},
   "outputs": [
    {
     "name": "stdout",
     "output_type": "stream",
     "text": [
      "Saving model ...\n",
      "    MODEL: ./models/random_forest_classifier.pkl\n"
     ]
    }
   ],
   "source": [
    "model_filepath='./models/{}.pkl'.format('random_forest_classifier')\n",
    "print('Saving model ...\\n    MODEL: {}'.format(model_filepath))\n",
    "save_model(model, model_filepath)"
   ]
  },
  {
   "cell_type": "markdown",
   "metadata": {},
   "source": [
    "## SVM Classifier"
   ]
  },
  {
   "cell_type": "code",
   "execution_count": 30,
   "metadata": {},
   "outputs": [],
   "source": [
    "gamma=0.0001438449888287663\n",
    "c=0.029763514416313176\n",
    "kernel='rbf'"
   ]
  },
  {
   "cell_type": "code",
   "execution_count": 31,
   "metadata": {},
   "outputs": [],
   "source": [
    "# Support Vector Machines\n",
    "\n",
    "model_params = (gamma, c, kernel)\n",
    "model = svm.SVC(probability = True, gamma = gamma, C = c, kernel = kernel )\n",
    "model.fit(X_train, y_train)\n",
    "\n",
    "model_score,model_acc = score_classification(model)\n",
    "\n",
    "comparison_dict['modelname'].append('svm_classifier')\n",
    "comparison_dict['params'].append(model_params)\n",
    "comparison_dict['score'].append(model_score)\n",
    "comparison_dict['model'].append(model)"
   ]
  },
  {
   "cell_type": "code",
   "execution_count": 32,
   "metadata": {},
   "outputs": [
    {
     "name": "stdout",
     "output_type": "stream",
     "text": [
      "0.5714285714285714\n"
     ]
    }
   ],
   "source": [
    "print(model_score)"
   ]
  },
  {
   "cell_type": "code",
   "execution_count": 33,
   "metadata": {},
   "outputs": [
    {
     "name": "stdout",
     "output_type": "stream",
     "text": [
      "0.9521442495126706\n"
     ]
    }
   ],
   "source": [
    "print(model_acc)"
   ]
  },
  {
   "cell_type": "code",
   "execution_count": 34,
   "metadata": {},
   "outputs": [
    {
     "name": "stdout",
     "output_type": "stream",
     "text": [
      "Saving model ...\n",
      "    MODEL: ./models/svm_classifier.pkl\n"
     ]
    }
   ],
   "source": [
    "model_filepath='./models/{}.pkl'.format('svm_classifier')\n",
    "print('Saving model ...\\n    MODEL: {}'.format(model_filepath))\n",
    "save_model(model, model_filepath)"
   ]
  },
  {
   "cell_type": "markdown",
   "metadata": {},
   "source": [
    "## Neural Network : MLP Classifier"
   ]
  },
  {
   "cell_type": "code",
   "execution_count": 35,
   "metadata": {},
   "outputs": [],
   "source": [
    "hidden_layer_sizes = (75, 25, 50, 10)\n",
    "activation = 'identity'\n",
    "solver = 'lbfgs'\n",
    "alpha = 0.01623776739188721"
   ]
  },
  {
   "cell_type": "code",
   "execution_count": 36,
   "metadata": {},
   "outputs": [],
   "source": [
    "# Neural network\n",
    "\n",
    "model_params = (hidden_layer_sizes, activation, solver, alpha )\n",
    "model = MLPClassifier(hidden_layer_sizes = hidden_layer_sizes,\n",
    "                      activation = activation, solver = solver, alpha = alpha, random_state = 1)\n",
    "model.fit(X_train, y_train)\n",
    "\n",
    "model_score, model_acc = score_classification(model)\n",
    "\n",
    "comparison_dict['modelname'].append('neural_network_classifier')\n",
    "comparison_dict['params'].append(model_params)\n",
    "comparison_dict['score'].append(model_score)\n",
    "comparison_dict['model'].append(model)"
   ]
  },
  {
   "cell_type": "code",
   "execution_count": 37,
   "metadata": {},
   "outputs": [
    {
     "name": "stdout",
     "output_type": "stream",
     "text": [
      "0.6190476190476191\n"
     ]
    }
   ],
   "source": [
    "print(model_score)"
   ]
  },
  {
   "cell_type": "code",
   "execution_count": 38,
   "metadata": {},
   "outputs": [
    {
     "name": "stdout",
     "output_type": "stream",
     "text": [
      "0.957685881370092\n"
     ]
    }
   ],
   "source": [
    "print(model_acc)"
   ]
  },
  {
   "cell_type": "code",
   "execution_count": 39,
   "metadata": {},
   "outputs": [
    {
     "name": "stdout",
     "output_type": "stream",
     "text": [
      "Saving model ...\n",
      "    MODEL: ./models/neural_network_classifier.pkl\n"
     ]
    }
   ],
   "source": [
    "model_filepath='./models/{}.pkl'.format('neural_network_classifier')\n",
    "print('Saving model ...\\n    MODEL: {}'.format(model_filepath))\n",
    "save_model(model, model_filepath)"
   ]
  },
  {
   "cell_type": "code",
   "execution_count": 40,
   "metadata": {},
   "outputs": [
    {
     "data": {
      "text/plain": [
       "array([[-0.0464,  0.0973, -0.1959, ..., -0.1404,  0.1092, -0.0401],\n",
       "       [-0.1175,  0.1463, -0.0524, ...,  0.0782,  0.019 , -0.1719],\n",
       "       [-0.1557,  0.165 ,  0.0277, ..., -0.1313,  0.1159, -0.0555],\n",
       "       ...,\n",
       "       [-0.1775, -0.0109,  0.0241, ..., -0.0506, -0.0103,  0.1615],\n",
       "       [ 0.107 ,  0.0937, -0.0988, ...,  0.0698, -0.0226, -0.0167],\n",
       "       [-0.0738,  0.1086, -0.0053, ...,  0.1945,  0.0067,  0.0783]])"
      ]
     },
     "execution_count": 40,
     "metadata": {},
     "output_type": "execute_result"
    }
   ],
   "source": [
    "# get importance\n",
    "importance = model.coefs_[0]\n",
    "importance"
   ]
  },
  {
   "cell_type": "code",
   "execution_count": 41,
   "metadata": {},
   "outputs": [
    {
     "name": "stdout",
     "output_type": "stream",
     "text": [
      "Number of Coefs :  5\n"
     ]
    },
    {
     "data": {
      "text/plain": [
       "[(98, 75), (75, 25), (25, 50), (50, 10), (10, 1)]"
      ]
     },
     "execution_count": 41,
     "metadata": {},
     "output_type": "execute_result"
    }
   ],
   "source": [
    "print(\"Number of Coefs : \", len(model.coefs_))\n",
    "\n",
    "[weights.shape for weights in model.coefs_]"
   ]
  },
  {
   "cell_type": "code",
   "execution_count": 42,
   "metadata": {},
   "outputs": [
    {
     "name": "stdout",
     "output_type": "stream",
     "text": [
      "Number of Intercepts :  5\n"
     ]
    },
    {
     "data": {
      "text/plain": [
       "[(75,), (25,), (50,), (10,), (1,)]"
      ]
     },
     "execution_count": 42,
     "metadata": {},
     "output_type": "execute_result"
    }
   ],
   "source": [
    "print(\"Number of Intercepts : \", len(model.intercepts_))\n",
    "\n",
    "[intercept.shape for intercept in model.intercepts_]"
   ]
  },
  {
   "cell_type": "code",
   "execution_count": 43,
   "metadata": {},
   "outputs": [
    {
     "name": "stdout",
     "output_type": "stream",
     "text": [
      "Number of Iterations for Which Estimator Ran :  61\n"
     ]
    }
   ],
   "source": [
    "print(\"Number of Iterations for Which Estimator Ran : \", model.n_iter_)"
   ]
  },
  {
   "cell_type": "code",
   "execution_count": 44,
   "metadata": {},
   "outputs": [
    {
     "name": "stdout",
     "output_type": "stream",
     "text": [
      "Name of Output Layer Activation Function :  logistic\n"
     ]
    }
   ],
   "source": [
    "print(\"Name of Output Layer Activation Function : \", model.out_activation_)"
   ]
  },
  {
   "cell_type": "code",
   "execution_count": 45,
   "metadata": {},
   "outputs": [
    {
     "name": "stdout",
     "output_type": "stream",
     "text": [
      "Hidden Weights:\n",
      "- [-0.04638988972454278, -0.11749391928370677, -0.1557246657910906, 0.16377345965794307, 0.13181834503567652, -0.04777003801918405, -0.1269644731535279, -0.23126867724367317, 0.08781695822122018, 0.17386814864641623, -0.0015635551139832483, -0.07112698976289764, -0.1019146069826931, -0.08673428425044612, -0.1044364191746929, 0.16069686807895864, 0.12408087038150117, -0.038118039253880465, -0.1686500885512028, 0.17868518686394547, -0.13272388822325404, 0.09185563703536549, -0.10245610961629001, -0.10055887822423637, 0.17277326740330115, 0.011955894657151616, -0.13860878024053389, 0.013551091331076372, -0.034207818624382734, -0.1266509676211526, 0.09006802897241543, -0.05621130762447655, 0.15119047122606077, -0.12170656463551276, 0.17159294364648317, -0.03309697062718102, 0.07698011322194527, -0.10833262152267396, 0.020949204740987562, 0.15861857159812331, 0.10149906779626985, 0.14639848843850023, -0.13074150920184252, 0.136596866025083, -0.10306580820779086, -0.025803392141959085, -0.12112050679505096, 0.04750920818031048, -0.17545862172738927, -0.006068705990010668, 0.011819359281808063, -0.0016537075546177425, 0.1719535649422734, -0.04467009574989361, -0.07815466920319766, 0.02380178694582264, 0.010081528601119208, 0.16383357062212278, 0.1669415043921486, 0.005530533712476464, 0.07013847781009111, -0.10735612926813029, -0.05109933865269093, 0.17866553304680402, -0.09383057139927725, -0.12235090807061104, -0.09065554783734496, 0.042962654928777815, 0.0929732707591904, 0.05960398127479267, 0.023237427114107208, 0.039630586477388145, 0.152749352316095, 0.10871765974222841, 0.006181013774476054, 0.05325472026574853, -0.09337834376159877, -0.17555346413799894, 0.1499667312747285, -0.02374172947956234, 0.050078645145254466, -0.09801256942774243, -0.15905241338018572, -0.14032205871726583, -0.013844930899396932, 0.1107430803079259, -0.09934813470956118, 0.10688740316849085, 0.07488513640112575, -0.08711130648191365, 0.037388290758154995, -0.05337594383730133, -0.19951981937194152, 0.13555648429618514, 0.15726302130941458, -0.1774568518666164, 0.10699313319871247, -0.07377974582796945]\n",
      "- [0.09732104858864045, 0.14629533189970992, 0.16495770281332098, 0.028518698638007583, 0.11174368818317036, 0.13461572012438658, 0.062009975674221146, -0.052721689290097795, 0.07864343590683302, -0.11800492898515036, -0.11959563376884176, -0.05525604792365449, 0.13100256656090187, -0.04508758542522722, 0.1881716283971924, -0.002248389727381694, 0.03558486576540771, -0.14562430109402416, 0.08953641278560745, -0.022350395253508605, 0.041958603627288045, 0.02974214505858134, -0.005875030104649724, 0.03994878786250572, -0.09649768663649905, 0.056320344694993016, 0.10941037073142648, 0.05573283628848853, 0.04159230314000546, -0.17292089728697982, -0.061406003894503715, 0.08135553062784526, -0.017938857940810557, -0.08493899648810324, -0.13586355296778105, 0.06269944895298525, 0.12563014556710886, -0.08190378361671388, 0.11538911617784312, -0.11043600569916227, -0.14235564964236913, 0.17640017825088838, -0.009487475453138815, 0.04432282181996069, -0.11630222578845624, 0.11719760097733432, -0.08895292965391521, 0.18064324950297733, -0.11051738489405617, 0.07972782182003157, -0.17147069790585084, 0.005150943883944596, 0.014117731342292121, -0.0418605211890076, -0.12088016492065091, 0.016130520602691236, -0.16265640960559238, 0.11969814903852975, -0.029851819727222572, -0.12723037867514517, 0.08925407852482746, -0.04809691172043155, 0.028560349715970497, 0.14591246910217925, 0.0010566031834595107, 0.11867201412964813, -0.06728014919085946, 0.02219070728157452, 0.13364225111496614, 0.010621860230144465, -0.07491385641476393, 0.16436229128941582, 0.12248779400111742, -0.02315763250589161, -0.1384679044190895, 0.004395631221364709, -0.12763269493169452, -0.176428918595925, -0.0057338168854612175, -0.03272286247986779, 0.1775626369203882, 0.034830518485939536, -0.06219073181671823, 0.09409730462793367, -0.17064773087945773, -0.13127803797475682, -0.0005601690515888726, 0.1258868356669804, 0.12180656307537384, 0.014702056761828747, -0.0889336621980072, -0.008379031732547596, -0.07650623975570932, -0.039735798994649275, -0.14785861747213075, -0.010856351253670654, 0.09374147465908889, 0.10858127318590234]\n",
      "- [-0.1959392109106988, -0.0523903073239777, 0.027718476906957418, 0.14098704293421382, 0.08664597578733733, 0.07178736736786748, 0.14215353460122285, -0.2144211608675217, -0.14121336130770726, -0.1810061049732567, 0.1546908034280818, -0.17220918328720855, -0.17196772786754352, 0.010000649569610815, 0.05855197826579125, -0.015649882704092573, 0.1770654602416675, -0.0911035385413675, 0.0106992796363854, -0.07420486183856656, 0.06260809679722205, 0.0588249604160073, -0.09892804654611312, -0.11309755173003808, -0.06398624269081406, -0.1152588160961995, 0.12247923500881985, 0.006748734657144822, 0.07748558229317293, -0.007172724759554721, -0.0547440072162612, -0.1621515885518066, -0.1661716798120785, -0.05072930349847082, -0.08949772215086027, 0.156186317381231, -0.04671969338042504, -0.07686683259407372, -0.04373519296993061, -0.07646194478395847, -0.12441549578934934, -0.008766239710470313, -0.08756579170824526, 0.17233757664676125, 0.09986592189939537, 0.11492627491219198, -0.06672053983400557, 0.08671665966006778, 0.011772105208695299, -0.10446829100704469, -0.04736207292060733, 0.0949061969753871, -0.014711514785583503, -0.08009969345864572, 0.10053212762774108, -0.017748543654593888, 0.12798547856491693, 0.08173099017505184, 0.0822859493998876, 0.0740783953937848, -0.059214275958115514, -0.11813445724207483, -0.1817680821237928, -0.0203696895323474, -0.13387128233759915, -0.16759911092026294, -0.12390570047978827, -0.17005114522739953, 0.12355786079321882, -0.08127504850537212, 0.05652877099441752, -0.1342083655938479, -0.05867210373967548, -0.14232976525817864, -0.15427060349003002, -0.017519510282657805, -0.09249297333872034, -0.050143961963398175, -0.03518907673519975, -0.02632863228868795, 0.1401444183688162, -0.11017663692783203, -0.11624775378381214, -0.17845691230991143, -0.1524471549299539, -0.15819969003375953, 0.11911564379991929, -0.16306842889093376, -0.02213124694626674, 0.039537557601698844, 0.0874253591860799, 0.1725837405930217, -0.07410940114008492, 0.07012547162124103, 0.007343260805341567, 0.024071716827507146, -0.09878033449589213, -0.005344706032271965]\n",
      "- [-0.09008699501634025, 0.10121278522727757, -0.10574751029752849, 0.13081892247000845, 0.041023918673931146, 0.07161228383757254, 0.16770384767687643, -0.07398926290120268, -0.08368977050058878, 0.14957823265175374, 0.15370343524177033, 0.028895830880511786, 0.15162332866700143, -0.1043944349670792, -0.16808609945224315, 0.0324992437735569, 0.03935892876082217, -0.14976504906917495, -0.179551350731693, 0.009456853800537207, -0.026786170383159676, -0.1511558758080301, 0.12893134387351535, 0.11802184494763208, 0.1643851131376691, 0.10890615137193899, 0.05471330621317307, -0.07507429165459564, 0.130725735802824, -0.12207932775423433, -0.07611335605867954, 0.01264272648580359, 0.12381976780424483, -0.0416602608989399, -0.15078622774502534, 0.05819829990687228, -0.02805319555084547, -0.046928080662820476, -0.15887299925112106, -0.1861748466371291, 0.17308733292780337, 0.1050701742608823, 0.10591929381655955, 0.029070801877384055, 0.17958483784960086, 0.14477299663518609, 0.058979488972047855, -0.1543937729639334, 0.023010536461958695, 0.08849173948469181, 0.17694152853191253, -0.061770768926223914, 0.11833996822601237, 0.09798488632668569, 0.014425796584037344, 0.09008330550188376, -0.015531798721278866, 0.11982949977342548, 0.029113113976705744, 0.13175509323523452, -0.011835241378613687, 0.15498445212628006, 0.031016963422217547, -0.023710372233890057, -0.07454825155916789, -0.05470420361457921, 0.11896523038059202, -0.004343170140947385, -0.13653739170171691, -0.03935984786224433, 0.0051917981361933735, 0.12307305537876148, -0.04388806147439295, 0.16835949796828795, -0.1856310680155457, 0.011913748294437039, 0.15133916424307506, -0.17168084156598792, 0.0805158060290802, -0.06336641337398424, -0.048225602541669285, -0.05934696673117626, 0.0057402212193075775, 0.16550984559175666, -0.1474148813156099, 0.1001955678930067, -0.1379844207886729, -0.021973313154600282, 0.12722896859126695, 0.07403314099635201, 0.16304760595464646, -0.16398547160957594, 0.032097902147290754, 0.015256111374953618, 0.19349018393642348, 0.06922167960579542, -0.14613646268048436, 0.11404159986998313]\n",
      "- [-0.12846490279699851, 0.08606147932662578, -0.09120661540733445, 0.14995340434328408, -0.1256402356515157, -0.11519465538617704, 0.08050799899646115, -0.04678670393423255, -0.10588040840487473, 0.15054871718285348, -0.008493147600701141, 0.0841275195187786, 0.03764493159031971, 0.060384236167699515, 0.1346046901286766, -0.08659923288893547, -0.1126244010735315, -0.0742034530784835, -0.08311090411565442, 0.05369465143050559, -0.16091242975233633, -0.15384130315298208, 0.17193094025545716, -0.09453069694132843, 0.11902486806806532, 0.03794943356649711, -0.11118243735720361, -0.1416842312568484, 0.06843735472421675, 0.051423680612219864, -0.03934040717627854, -0.1848290090312509, 0.005770871563870352, 0.026366728640574356, -0.044614807137005975, -0.07348852630852075, 0.11940190589268736, -0.07362146132667054, 0.037298863158948536, -0.02640178707583132, 0.16165204893040006, -0.005890971011713297, 0.06603074285961961, -0.17735136828109113, -0.18098489851205407, -0.017783567879623135, 0.06850019165868916, -0.17570724067228505, -0.04654441128588104, 0.0005521709880471771, 0.07242802890923772, 0.12509319807015779, -0.09697544721180082, -0.06630507222703237, -0.03038869998967934, -0.06154127333101677, 0.13353803200045047, -0.18165284623594866, 0.17677768059538898, -0.1031624783040377, 0.11297137645456398, -0.11307659995374172, 0.09275827304782484, -0.18049121110029284, -0.03573631547679252, 0.13692076739826786, 0.08368241266686084, 0.008984018461317573, 0.14389335102339082, 0.1343802673536114, 0.12951505567093186, 0.12497413915159088, 0.07675557141027205, 0.1333907878876654, -0.10625663996284924, -0.07416927294313325, 0.07984581943728489, -0.002370870050699094, 0.03479977336194235, -0.0947583963605795, 0.03726547764026447, -0.12303176666897239, 0.04980823647879734, 0.126882341565817, -0.043008959390768035, 0.17641337651076094, 0.027261696379904752, -0.09040582035424646, -0.1550825506463237, -0.15091840038131477, -0.15619871800771476, -0.11275440190977268, 0.023675643976649764, -0.06136411520843598, -0.008096191665789565, 0.14013744145368826, -0.06899775315086738, 0.12497327817933589]\n",
      "- [-0.14372250128572314, 0.12440730140894192, 0.09000393452659905, -0.017009980209624662, -0.01634004256370696, -0.0262609230814796, 0.09239375310392049, 0.2041605165588742, 0.1309759403723859, 0.09803226182403675, 0.11051516132191865, 0.05669223343600176, -0.03619419207169385, -0.14576156812653465, 0.07312030224576467, -0.07097582618449623, -0.02572479657321523, 0.08403516145357068, 0.013858055806167505, -0.15101116933155506, 0.0028270418204462944, 0.05350452520504786, -0.16207622399766267, -0.07657871988780081, 0.15405708721240874, 0.17775043738465116, -0.08590273834787397, -0.08046561085931428, -0.095141044075151, 0.016793036334889166, -0.11169593139650189, 0.181963986203339, -0.059849652091289465, -0.17301971876680491, -0.07788694776141325, 0.04553290672939552, 0.08499584196747896, 0.07019657169036232, -0.16812246394767175, -0.10644261990175996, 0.024224132203933987, 0.05931280462283527, -0.16195514470965297, -0.020766624116236806, -0.0915349276843108, 0.08477088230278237, 0.1226495174187335, -0.05620092230428444, -0.07799193635564566, 0.07530134190571079, -0.04787629379364469, 0.1782055431543569, 0.10757408577461143, 0.10697162212057895, -0.1625298200627239, 0.14917782593848053, -0.10866385417522335, -0.12838826523310243, -0.12019240483460313, -0.1905557781910583, 0.0588191640112214, 0.08643373742477226, -0.05341662889002579, -0.026203629341577807, 0.07332084081240144, -0.14478101821881006, 0.0770609677781537, 0.05495594203743572, 0.06170704205803162, 0.12523837745016117, -0.13657252429404637, 0.10774394111144757, -0.13122995352962472, 0.028526423925799117, -0.15780942291583777, -0.11259163153199733, -0.09818343203561683, -0.17227615599079502, -0.08376540920490526, 0.16676022606990826, 0.009370447263117731, 0.06794769808932408, 0.036389730068759195, 0.06491809118700517, 0.07419998010850448, -0.10716781161442368, 0.0519256087553884, 0.004357680404623003, -0.03757433663150107, -0.1418170899733114, -0.11517919150469902, -0.1310718258942588, 0.13009343921473077, -0.05072451507379372, 0.11363917147320125, -0.039087954986948, -0.12004616458539073, 0.03306271936760273]\n",
      "- [-0.12454374258320981, 0.05451371949369863, -0.110038938845267, 0.013554155756095573, -0.04022690347742386, 0.03233692484952538, 0.15197937977740608, -0.1736240785504331, 0.09845719829942894, 0.019084511012325882, -0.02863276800874584, 0.044005210527689013, 0.19378090238459117, -0.15471177006498757, 0.0289609671955436, -0.04522785658451627, -0.057097549988899716, 0.046851436677361254, 0.09880898667543432, 0.10709381740190649, -0.007926755233726187, -0.03891408284958812, 0.06686311958615396, 0.15995879432711424, -0.18455354524907047, -0.09812823262819394, -0.03470531299520759, 0.10864500519552711, 0.15265248496802364, 0.10255150043405108, -0.07733465856029581, 0.022018252874469617, 0.1671608041323894, 0.06332492178363122, -0.0015351431813416788, -0.052661301857200096, 0.15479632765281692, -0.1756409409513658, -0.049469502840214875, 0.05395370230075315, 0.034759923447638064, -0.10007611404193137, 0.18889225248302302, -0.1768582190188971, 0.10465445669730995, -0.002100791827910638, -0.1064053602847527, 0.18426745621682936, -0.1052584808660256, -0.026028098486596908, 0.061846879539358364, 0.1623706620249702, -0.11592542644802661, 0.15724353648317263, -0.18606194905594833, -0.15830857525138264, -0.16213097797948256, -0.057760596681693956, 0.09475910785938285, -0.08235521094055961, -0.17399042977860704, 0.17350773663845717, 0.1034616954195467, -0.10189464262983362, 0.15304886502707427, -0.061812685140797574, 0.06710166466612913, 0.011948974745960869, 0.06443891788410006, -0.12594029769240717, -0.09140355107421716, -0.011988048628603552, 0.03067268820981699, 0.060591939058411565, -0.005152756759178916, 0.04512356509064848, 0.10558194976559755, -0.02125058973629052, -0.014862509228901073, 0.1047413248160079, 0.10841888375033874, -0.16711121724447034, -0.14485809823969784, -0.17577801824924882, -0.1681260512109667, 0.028818719813354588, -0.10395222945673029, 0.048981593533261286, -0.06641767699583778, 0.13878179787245676, 0.010767949813671329, 0.02260057230190367, 0.0503672745327499, 0.1450086120717454, 0.042864608890984125, 0.06037296936460948, 0.1511950227856816, -0.038395479161258884]\n",
      "- [-0.02800169702258406, 0.07439367392578297, 0.01940540984426862, 0.11121704636818189, -0.14810632566497234, 0.18032885168779025, -0.013775554136877166, 0.3313716445321114, -0.03331324980941398, 0.05551653749836032, 0.07426232032951821, -0.09693873546915675, -0.17279357098609816, 0.1567938311428217, 0.11587747552773618, -0.10045838904624727, 0.16652498193221602, 0.05216602269792462, -0.17718130059075546, 0.1060118187264873, 0.10575634294942807, -0.14205581622712563, -0.040261622707182074, 0.1370674067853165, -0.04078708065566928, -0.020459547710721337, 0.016425100113768326, 0.04016133731033373, 0.11535678658220047, -0.031151896168302617, -0.1179056619055469, -0.011517578231192848, 0.18584448755576932, -0.13202297994234133, -0.03799755968216864, -0.0602351323200302, 0.20201259248219383, -0.05027719126307092, 0.17951628384108942, 0.0815809661005504, -0.04741440758573598, -0.15390980755580072, 0.07347792091422753, -0.06819564379605422, 0.08053541730789524, -0.16397093179573236, 0.06946375813867109, -0.048621789351146, 0.08735176933183175, 0.014950127530924841, -0.09420233809648004, -0.0473849317581433, 0.03281561959989332, -0.004888017288741053, -0.045093665246354074, 0.02604078077789001, 0.022620236761578025, 0.0901893531194239, -0.06746085407250223, 0.024012166791580667, -0.08554160752618185, -0.01464087564952977, -0.03830957338541281, -0.08406992902914265, -0.03763217177243387, -0.11893867616113928, 0.12513619618599428, -0.1643870880930923, 0.046984554030099046, 0.08729418437676582, 0.03371005095719484, -0.00642883204738648, -0.09138569507488106, 0.195288887383861, -0.1271632315737213, 0.19454466972208437, 0.009058605116099997, -0.037178707843353066, 0.1751687288741772, -0.03488148978717207, -0.13392036284564102, -0.030705616965238908, -0.09987460827384817, -0.09386150658695908, -0.1766222437401519, -0.16722666134082573, 0.03545469514730336, -0.13405707268124173, 0.11524322739783892, -0.033235424549146034, 0.0842686333811363, -0.11132852691115622, 0.20114910996953603, 0.001947322816059967, 0.045446605848843996, -0.12644242024253322, -0.06705218469931727, 0.048435919200458734]\n",
      "- [-0.03847988327073138, -0.0513760634061142, 0.17531875897085808, -0.07616590662164614, 0.035431486898721776, -0.1101144156865418, -0.09937598079189498, 0.09105516506145764, -0.06869824322450867, 0.10878851941018357, -0.042137306645187625, -0.1201683804773262, 0.006206437418901732, -0.09890972438648923, -0.0948461611944497, 0.03058280213986293, -0.04149501405004486, -0.18120361764703252, 0.02075489060327334, 0.12821224512576346, -0.09238498075205269, -0.04712621693066797, 0.045971578814563166, 0.011752468368060933, -0.09576667890547826, 0.1459303005856687, -0.0052790680899102455, 0.11117154546065518, -0.07078997309980455, 0.18023887986984954, 0.17364953089406818, -0.12798740286761717, -0.09573032040223566, -0.026764718468633385, 0.15680134090333342, 0.03809326904138409, -0.11699358610800012, 0.08892224427457393, 0.13871739902234675, -0.14438975302476068, 0.1675632515273663, 0.17731981883074677, -0.09597069576497766, -0.007205298953052613, -0.09191290304466447, -0.15809007804827083, 0.07928469520718259, 0.08274155617782605, -0.06380349492034412, -0.1663533715195863, -0.1527238448524407, -0.031123403644199948, 0.041210948633413305, -0.02456645597518875, -0.08978501815021951, -0.06142343952079647, -0.015646034680376807, 0.17662907105597786, 0.18103803737843538, -0.06997336283022942, 0.16661338291851546, 0.11893490171588285, -0.030565994181817144, -0.082128833789915, 0.0820426636892518, 0.13671171007010874, 0.14637593767705065, 0.04376901003954795, 0.1640822571010982, 0.18274996727817833, 0.04756672042437936, 0.18428357555137737, -0.14770714731099974, -0.1246633321386917, -0.021863366073511296, 0.0034142518154753527, -0.031658388948740054, 0.17282841773574878, 0.0662679343711281, -0.1235174977181046, 0.04405308749566235, 0.013120417014388467, -0.000806525217492616, -0.13277650216395756, -0.13222233928879992, 0.021719224824401008, -0.1602716454031937, 0.14791193699275487, 0.13216469448399526, 0.08309573809151995, 0.05299434875078374, -0.15738720196764167, -0.004774364130044742, -0.007474456559782621, -0.08414558510666638, 0.11897554010346016, -0.06940439129933221, 0.07354105465261183]\n",
      "- [0.017445993336485967, -0.09053875113253573, 0.12857483017442142, -0.00593689909705736, -0.0715162282552677, -0.09434769768009604, -0.11591789887544104, 0.13058214812755745, 0.12076907433584769, -0.04010475955390104, -0.00304637619920809, 0.007128818151348761, -0.16595822427702914, -0.0457187315948487, 0.037486175361968625, 0.07424205531240576, 0.1815816613372821, 0.064130582302659, 0.11086927946860332, 0.14403708142584826, -0.03773169823570266, 0.06478908367707086, -0.09214440747877597, 0.13484581946014496, -0.07484648225021992, 0.03755989337690392, -0.013038553743803933, 0.008179688718122514, -0.07277070209625745, 0.006785545341969855, -0.0028392518850168086, 0.07115143323978183, -0.10623268902991424, -0.021505105802373723, 0.10842780986618426, -0.12512785231828272, -0.10126302086891524, 0.166326503042733, -0.12623533386596994, -0.15442494856146893, 0.06198918137404019, 0.11640032561482035, -0.17807345448188244, 0.03172395272186889, 0.019442858016638292, -0.0908260037554275, 0.020064407404617655, 0.08468186736860546, -0.005151806073505289, -0.00621081432151368, 0.008912210063659219, 0.08400167865780639, -0.018242644994232157, -0.15369604901831724, -0.005879480219475517, -0.04883987784276181, -0.17989619926453837, 0.08668485330829966, -0.05417938236223074, 0.12378315505158487, 0.14459056270433646, -0.02612583314566601, -0.07131145198745988, 0.06214294654817545, -0.13576004999827657, -0.13804169557505983, 0.04550330242659202, 0.027296020955927904, -0.09255644913282621, 0.10793071333412953, -0.03255628902107884, 0.16379185257470444, 0.06512186329647031, 0.013506628079562015, -0.09647392669288017, 0.0676966065144984, -0.11326777517889579, -0.16635342756131954, 0.024987954953037225, -0.13999186125053834, -0.025638031957052398, 0.018689433695775907, -0.18171004565740628, 0.07723388154368938, 0.1606489878417817, -0.020898626960754032, 0.11021093085917934, -0.0903705398539154, 0.08435245570873083, 0.0770997613661034, -0.1798212978244731, 0.0058160716056081885, 0.016808199760489754, 0.18013454397784867, 0.11909569983774625, -0.06486970757255095, 0.05852612046408093, -0.11630665976119778]\n",
      "- [-0.02602223815829498, 0.13574152639922119, -0.09564141918459573, 0.04165049542575662, 0.14381195846707678, -0.09271749012910921, -0.14588444473959683, 0.07583347604915479, -0.04281810423426504, 0.10655229211450823, -0.13199389100883446, 0.15688359962672271, 0.030140170015351693, 0.017884925710365943, 0.11802724559292664, -0.15890523244691115, 0.0070403566497905384, -0.0033404996085468976, 0.061512514379565675, -0.05410112268061624, -0.09721189785529104, -0.1088873937687878, 0.06180216112605648, -0.05965921364518719, 0.0952820901814934, 0.07787689345749226, 0.1333442734420818, -0.1044445936032408, 0.1495736710216176, -0.0101107880138408, 0.1581156937106215, 0.15883606654306612, 0.03595277484670703, -0.05431111417834775, 0.13549638750375081, -0.009791779550072006, 0.08834036192097448, 0.11499210363836886, 0.1163288477059813, 0.14747706441795244, 0.0730961684848307, -0.08377208029011726, -0.008893771270242212, -0.09271800161168077, 0.03868489304139028, 0.1785203374705599, 0.04728382575661337, 0.02310642708372649, 0.11528752411462938, -0.12856270203230427, -0.07434521122708147, 0.15485278277348352, 0.14602384392540926, -0.08893737406971636, 0.1554957455723895, -0.07395027705263266, -0.16358320583796246, -0.011036102092163122, 0.17349850313406492, 0.1225648427285034, -0.06470421474202832, 0.11411021873451668, 0.08807937706546091, -0.03292698366244079, -0.15151664607130114, -0.08740031384663552, -0.06901468032193803, 0.011197822718245935, 0.1115838805270917, 0.084204546527691, 0.14938888281925203, 0.09472992381605888, -0.10529181431035772, -0.036008012617413, 0.02914695502019282, 0.007946796093242895, -0.06713744104681643, -0.14396136817784225, 0.1442929553855057, 0.11656541643054465, 0.13491589836370665, -0.03962716923443959, 0.08773868556571875, -0.1582354978424553, 0.13373352576283914, -0.10659151604390152, -0.0658024944682979, 0.0868169939097242, -0.12883417064432728, -0.0032520197757674512, -0.06234834047551751, 0.11701830157695717, 0.14271005242940496, -0.028752487495261343, -0.1008425425738653, -0.08995893917899282, -0.009873465087973621, 0.11082970863954925]\n",
      "- [0.08956470637474478, -0.04508586776350982, -0.008536842590032317, -0.17602974806161792, 0.10653138463540551, 0.09155307159137065, 0.1266341893677403, 0.19563160384575193, 0.11881346597323462, 0.08350700441008904, 0.17002774737409482, -0.09242891973985862, -0.11278921422413864, 0.01745665800245871, -0.1407850300717365, 0.17283756174869677, -0.13778723621904762, -0.11138824059609972, 0.15717936979658956, -0.04685312882149017, 0.06008092860292892, 0.157251408273863, -0.025656656468576414, 0.169354825768467, 0.09136973321323999, -0.046197568873902244, 0.14155102238513365, 0.0356595174187124, -0.12381721947393498, 0.09328433559544737, 0.10720825569537819, -0.03966366272671974, 0.14749494520050954, -0.05695256202457451, -0.12239957001486419, 0.16362053587883377, 0.11452288163913335, -0.08454399479469274, 0.11642471822703675, -0.044591385409591795, -0.14568912646034618, 0.02219366827334401, -0.08011660672635024, 0.022063441924743424, 0.086880278103907, 0.06931388263367573, -0.18035613798859434, -0.040120267497978694, 0.021759341249322408, -0.12121586400350166, -0.009460531558934598, 0.10657135896070913, 0.02402487133502444, 0.1320344539047435, -0.015639538776681543, 0.03435535649360422, -0.13599899338384866, 0.16378187857959212, 0.12067884908347183, -0.07124863668702394, 0.14846578636929544, 0.0926251537621755, 0.14630497779275126, 0.01270003840549298, -0.028894458687201332, -0.005380066597541722, -0.04246656101148457, 0.12609222240813053, 0.016578309192511933, -0.06176832055059869, 0.11271439473637199, -0.03294460041569658, 0.14186886681668395, 0.0210948513655005, -0.0028663999492463733, -0.10729475369915556, -0.15987133735941547, 0.1450898142154658, -0.06229980349745787, 0.09108202567402533, 0.09184669429883048, 0.07744520338548454, 0.04811030865795166, 0.14514886217063616, -0.03248154449287279, 0.009101431868265545, -0.022053945615372546, 0.11179538826286037, 0.06414919069860449, -0.1237883810947783, 0.03470629056285461, 0.04949549841428886, -0.14171446142386532, -0.03451083464850068, 0.05245625053197235, -0.018475859117862276, 0.07150387412426856, -0.1319610896928368]\n",
      "- [-0.1387974756853393, 0.1911393130223718, 0.05388392170497229, 0.03273674446555127, -0.045122722478266736, -0.014045448592976458, -0.15012889584408023, -0.15226245107640826, 0.12212364977217456, 0.050037453397657666, -0.07491511256416024, -0.04618459853239402, 0.04352699952212428, -0.169058072555257, -0.16273816302451558, 0.09786142022774014, -0.14297538894583509, -0.10839527740662833, -0.15180732716580012, -0.12272533441491527, 0.18908017466422294, 0.1555452346400288, -0.0943983062119132, -0.008973280541008008, -0.02260700739795057, 0.07902261102096561, 0.11479132659326845, -0.062489624767850846, 0.03729575522875733, 0.022165797336449973, -0.031063731936555733, 0.07147211214952967, -0.08120788192799486, -0.10205135425416914, 0.013176153617887246, -0.04432503823105594, 0.014633836354057744, -0.11173479187337423, 0.15610787200374296, 0.011982044700132111, 0.09859599338580986, -0.03380463603184597, 0.04374662685580799, -0.04368153527330468, -0.015590849192439245, -0.09029164360627033, -0.10450072436701381, -0.12419339912403674, -0.013289352388251031, -0.037180019534872766, 0.1530491422122351, 0.06503909941396255, -0.010350950206862271, -0.08458095426936153, -0.09847660764629776, -0.09685541568733136, -0.18803294025269568, -0.0492939000192001, 0.04896526497154191, -0.026420082467612595, -0.0035711163484033635, 0.1755186876203066, -0.01398108419480279, 0.15298669224694786, 0.10671536506180722, 0.03960608804671156, -0.16404480400121285, -0.01593576205140443, 0.12489027979752229, -0.14083931566172014, 0.01681768496679471, 0.031031805858602733, 0.04504501834552109, -0.15765737477737032, 0.1008221453215516, 0.018845338321048677, -0.09093935678042545, 0.1007974671338062, 0.15926905151438206, -0.18231813648844777, -0.11345764122516873, -0.15156265432496782, -0.139988143168808, 0.02120736893186487, -0.12959030485279843, 0.07298877762202702, -0.03405278433282319, 0.1756907978996365, -0.03173879905025492, 0.11697578134087135, 0.09301363047031347, -0.15762498854370421, -0.14749562709990197, -0.17265683293305856, -0.13892696421039527, -0.18219217369462912, 0.09099601883863505, -0.05610700997496509]\n",
      "- [0.1331216257742409, 0.06800694027334363, 0.12444759433228629, -0.025774591292966612, -0.12893435406933748, -0.16327619317116143, -0.09469364062183748, -0.2322246205165574, 0.012236421858456508, -0.023229633609092366, -0.152093640821666, -0.030141220061054727, 0.18785475817851482, 0.13078574993074918, 0.11677504024808867, 0.11596357146094716, -0.04211303264929189, -0.11319857441642922, -0.08136536729711889, -0.0928065184641639, -0.11714387683017793, 0.16824877244831535, 0.14443336308643215, -0.07036822244337089, -0.05119827891840415, 0.16981299492781338, 0.13982550896717802, -0.1705456693001327, -0.0870597292846101, -0.052964415613960564, 0.08670343654426378, -0.0883095109141215, 0.024409292900518874, -0.15368952072014017, -0.11223253103107972, -0.11695443661802911, 0.1331707692525646, -0.11993182161385305, -0.10130852703195334, 0.1718445124287632, 0.08926597188958338, -0.11747410591958776, 0.07054616815272906, 0.003771380536272916, -0.03626115083180746, 0.07666949498313934, -0.02209904672245119, 0.1730680322237702, -0.11081427484608372, 0.0244618398523117, 0.05877934814245101, 0.13094822309455567, -0.03164823015881895, 0.04860056092615857, 0.12054095763728445, -0.07546524534579988, -0.12585623686270292, 0.050587397985032305, -0.17148462117564015, -0.17286680114158404, -0.10945915460628289, -0.05575714892312304, 0.18536971481394254, 0.13148952827218388, -0.09540827115725604, -0.06633826459385085, 0.15936203891894832, 0.0363157947095994, -0.09118402784711188, 0.13020135780273612, -0.03440798606712418, 0.12052888670471926, -0.08628897888535329, -0.024952193971449575, -0.06958226144196673, 0.16772668932702633, 0.06277546920989348, 0.15754555911358775, -0.12088602139665514, -0.15045660548969894, -0.1467237426977977, 0.07418687842082264, 0.14673349747877723, -0.14683335103685272, -0.05623828525766046, 0.1559371273430471, -0.05485458270837553, 0.17923496975795342, 0.02768482812712091, 0.1127740261313832, 0.003714962593187543, -0.16237056641461833, -0.12131070896363101, -0.047993706413265204, -0.17504230631508214, -0.08958023763443838, 0.01736856347955796, 0.14523650009170772]\n",
      "- [-0.18066879606515354, 0.03422989140996826, -0.13029173840972397, 0.11130648627963191, -0.10913860054201487, 0.0006258805974415318, 0.12047532328200604, -0.05950321707500383, -0.15134516843040965, 0.044243345549517935, -0.12663111186718992, -0.02205945176588099, 0.11171966104544848, 0.1685964732042092, 0.04772250777555389, 0.09236858829936767, -0.1387380905126711, 0.12732029114054033, 0.15617249667622365, 0.17677607891854652, 0.1201314349566274, 0.08517274006765688, 0.175506617300979, -0.16137038316097876, 0.023594382933108695, -0.1071210695477536, 0.026743865716204046, 0.1436507126340586, 0.11718255907562367, -0.0015395470890148012, 0.05286757011279802, 0.17060969720324795, -0.12034839127723504, 0.015027141388533288, 0.14286651226930755, -0.009709771384830692, -0.09913497895413047, 0.1397833705940225, -0.009603132065152651, 0.1015736417480649, 0.08082086378774307, -0.022100101440428503, 0.1101901049904867, -0.11616028741490136, -0.07170660831199242, 0.059758066079762036, 0.07921430030567315, -0.1627651578124225, -0.03951026599736474, -0.06507436136320756, 0.08203877080120003, -0.040443687738859126, -0.17371578172624194, -0.003142580388247101, -0.07395869006332605, -0.07860701059586031, 0.0262201608035248, -0.19251203341651454, -0.11249420152183166, 0.017416550827580965, -0.08513366387097124, 0.09419123493455785, 0.10726670916907853, 0.03719190862982926, 0.11154584604563406, -0.10091570329214525, 0.06498953395242267, -0.13372084333144998, -0.1807379339417447, 0.04435938198639564, -0.041016565666802354, -0.08205230066013798, 0.0291652580218233, -0.017722598130168694, -0.09924909988940339, 0.07015622924100991, -0.04829244581409071, -0.14235915680213215, 0.12713925383192975, 0.1522734203726952, 0.022018367383393057, 0.156051584307926, 0.022003661401347074, -0.01997181653782824, 0.16323572032366215, 0.11045535918256338, 0.16655354595931127, 0.05444628444190543, -0.1857414533489753, -0.019664114234017822, -0.16834834159382067, 0.013983767859951816, 0.02227388589281359, -0.1182385324690304, -0.009911216071045186, -0.18256967419352255, 0.005071218043492283, 0.010821606702380356]\n",
      "- [0.05695011580996441, -0.13281766663136085, -0.17695103924941374, -0.06915980122346113, 0.01245002261838236, -0.10474633056229168, -0.07567473657280484, -0.0475724225180535, 0.2006363580449764, -0.17434664796800714, -0.17919660034646026, -0.13162375081818353, -0.009010213455668548, 0.11325975510873444, 0.0034967015565770345, -0.15487175149413035, 0.053935950930656035, 0.18369650291874937, 0.10059812866254166, -0.07173849346337147, -0.09791841496077033, -0.03947876341424338, 0.03189837753919885, 0.18393935226633074, 0.012162861219455055, 0.11688766399573138, 0.17097025753615638, -0.024082603619196338, -0.0542561752583731, -0.11843325800627061, -0.08129766460007606, 0.0643216651049504, -0.12171368583840989, 0.04155830205228551, -0.1872221309108246, 0.12493004963965676, -0.06627461440548622, -0.10176767291235392, 0.12295783378019662, -0.06631203140908702, 0.07461670623254196, -0.0743714817902451, -0.1722292662580601, -0.1278550486508349, -0.09814786203830558, -0.17039074128133813, -0.11473885680435242, -0.10350645475978909, 0.001670019131591432, -0.1297132634214043, -0.1461568579659143, 0.0027962811030707866, -0.049533425743313396, -0.14680130118169796, 0.14937249365580738, -0.18298188265258228, -0.014551037702659942, -0.11785407925803885, -0.1620151944318526, -0.1206785171678833, -0.0951961858345422, 0.1602997301879779, -0.06543850063599049, -0.015198725793007151, -0.08778016477973084, -0.05590302519765321, 0.15784500667864002, -0.09303797503198369, -0.16925865084632805, -0.04712165909162166, -0.14244184296865714, -0.0860080751738823, 0.03431329148853883, 0.032442457451519344, 0.15398393060867602, -0.179850621696954, 0.11809797876110463, 0.034549405859808896, 0.08081958579666816, 0.12874154920460665, 0.16926533811701772, 0.1731898368517227, 0.1783549596524439, -0.13122155240836336, 0.0527384352251891, 0.18088630816654017, 0.1480599411412154, 0.05793858827887704, -0.09223506176755408, -0.028396558284820978, 0.054534279144483805, -0.12893542310965106, 0.06142753898925025, -0.1442372536491531, 0.16946943929867295, -0.1068881734106474, 0.10800135953037203, -0.08435536727198736]\n",
      "- [-0.025887056730947048, 0.16428034566129096, -0.15898483048985446, 0.14696783476965597, 0.08162073839192602, 0.10953163020250054, 0.1823941296324636, 0.09601971673525085, -0.13345809221505822, 0.11733520816432198, 0.07034547851108994, -0.04542398583903004, 0.09013358039380243, -0.08527841418135812, -0.09641412748536857, -0.005491992421336597, -0.032327014316145826, 0.15117778574124546, 0.03885533152926731, 0.14803196873460028, -0.16157789388669416, 0.09400168469833052, -0.11116126721616804, -0.016967387853233682, 0.02395842905543719, 0.1728327976740612, 0.041550437276288384, -0.025083688849218397, 0.08949018719769844, -0.03961611920905905, 0.002802463756660454, 0.04562518149255583, 0.09884700192177139, -0.13193834414941896, -0.14905796602687585, 0.12698241597776339, 0.0018588347448238098, 0.09803043214714949, 0.06973339115132507, -0.15520374439256476, -0.13104007245923682, -0.1841019357725717, 0.07874978288736145, 0.10066706469091015, -0.15014192159298284, -0.04777764620722679, -0.043418862639590036, -0.06873554608168798, 0.18208811557799623, 0.09157350556746503, -0.006978660859240488, 0.012293360649430724, -0.14231278070648484, 0.14735810507742117, 0.13698672639766415, -0.046697262161639295, 0.18232681640514387, -0.07684140955647387, 0.1072120723774819, -0.14638612091178316, -0.1636160424046963, 0.1162341976402457, -0.09555866575849577, -0.04208489119996918, -0.15553108333397225, 0.024829383631957205, -0.06962023026802222, 0.1244529060106451, 0.15007606179497857, 0.09641637572554387, 0.1642879036733105, -0.10761823303004134, 0.1226681930053913, 0.06466473900166833, -0.008948212655610983, -0.046614041745912625, 0.05596857880392404, 0.005137331210224343, 0.13763850163038835, -0.07126408057929316, -0.05824457748658962, 0.14480159310185461, -0.17458533052409173, -0.027175735002922263, -0.013367163821268156, -0.026919560547413603, -0.06353063181314197, 0.044974733076838365, -0.15761610351348138, 0.01624189631531252, 0.0029089666871454757, 0.07583441580775546, -0.08319430908004799, -0.04753902635779157, -0.0690944372938999, 0.13191943768781203, 0.11142422332253377, 0.1688147639917571]\n",
      "- [0.011956224187544337, -0.016431382767380386, -0.0029861839657253568, 0.024528006871711906, -0.07670861536963716, -0.07674932536126082, -0.09084682546288667, -0.09185521107638633, -0.09729254359533682, 0.1519071154186689, 0.0169441033394049, -0.10329213615212325, 0.09579181148196787, 1.7201522389894722e-05, -0.09381873868496993, -0.01902792988783195, 0.19540149181631183, -0.051743607893360515, 0.1276109198364411, 0.16103136850470265, -0.12513973817091703, -0.08221315373011484, 0.1480073937292866, 0.10019931064552375, 0.039070153498518015, -0.16995869265058558, 0.03779856617969337, 0.09644934025391345, -0.12577169990817164, -0.17331287451013563, 0.06596148137897397, 0.1411336598700226, -0.1421817244211931, -0.09204524845913195, -0.05684927169341911, 0.12299982807220725, -0.0840101757074673, -0.09753667385351635, 0.037100563601870154, 0.017438385564201398, 0.05927201883880957, -0.034690140035249784, -0.05769410072912772, -0.0579238412890189, 0.05303940047581077, 0.10737002776304468, 0.01626885688932802, 0.14659210770104794, -0.06511636315452868, 0.16220109217197426, -0.031714666719497284, 0.0406163088703514, 0.022456476340089137, -0.15415892566190315, 0.04015061108049466, -0.16301874661748333, -0.1670484238029953, -0.05308403829823887, -0.148613355554825, -0.15326842463656995, -0.01868326948557123, 0.11857524955743524, -0.04456607919168568, -0.14462768657058553, 0.009673996939692855, 0.16689769784670888, 0.17237042593016472, -0.18263520362889663, 0.041009215126016414, 0.07807393127667149, -0.09673616903518105, 0.03281500389387652, -0.1323482783261877, 0.031819812693857766, -0.18553467417501046, 0.05052304382181311, 0.04879529863480418, -0.06851181646036539, 0.019165000413908728, -0.1541110704369824, 0.1703575623042638, -0.10285476473762101, 0.10448159310918488, 0.07857468780211145, -0.042162374908961284, -0.12792604184233036, -0.11409373701334874, 0.012406689879449592, -0.05458654138679037, -0.06275602747828864, 0.10163967185959277, -0.08169510825984785, -0.01878344634022472, -0.13365914099746884, -0.06343925232867083, 0.09774135636625077, 0.15544338716164674, 0.0688776105358379]\n",
      "- [-0.13607498707979582, 0.04679184147606364, 0.04125056936424074, -0.11812837109295336, -0.08547626965113776, -0.1715733447269435, 0.011652846955376911, -0.04257293394113129, -0.00360620983862895, -0.08599021113540131, 0.11990993446915667, 0.12811377319282277, 0.006532648132534142, -0.05282661147928136, 0.13433173286557493, 0.06420047810608953, 0.16102923942317446, 0.10994865287054423, 0.1431053080186832, 0.16564861532156616, 0.16097970376752327, -0.07393553584480003, 0.08304156679964787, 0.05155771964245922, -0.03995492759263025, -0.10311343854684094, -0.07193406689987031, 0.17392472402355608, -0.01018627089935198, -0.013394968211144703, -0.0731949327890704, -0.09108525014861427, -0.09599062116819768, -0.07648484624718553, -0.04162277948583445, -0.17885408808782732, 0.014915792264278114, -0.17467944972402719, 0.05727505388425409, -0.06129314639159228, -0.16626890161809527, 0.15547983844843757, 0.1843738716613466, 0.049959125283891855, 0.05817429770237565, -0.15776829928055155, 0.16974133759451251, 0.08200007006317492, -0.1214745755512576, 0.08918621776223562, 0.05302516077177519, 0.1351901993878718, 0.048138189800031095, 0.07313539212458263, 0.09348484014776906, 0.13895543522858708, 0.13150727677675447, -0.00944577420642341, 0.1076689535606213, -0.11057466168499791, 0.14973284766740083, 0.17175502477072657, -0.03373382552771373, -0.006065032640557005, -0.18048890101432477, -0.07240602824257272, 0.13070616925554024, -0.12611034105297864, 0.08234934205047116, 0.05226005794968216, -0.12755096305185273, 0.17182139604618302, 0.049156609233349434, 0.08454973929308486, -0.16256082533363922, 0.024350745650115555, -0.03410368172895923, 0.01975860298247297, -0.1033809491668674, 0.11112936262899784, 0.0018407528434464312, -0.17784197564630158, -0.15907414432526748, 0.07498087624113293, 0.14920022299216407, -0.027274120773622484, 0.019353138413082883, -0.04931145327534929, 0.08810581770345285, -0.007880606857083389, -0.03841988183264731, -0.015150573542583347, 0.07629171162813578, -0.07625694490497453, -0.1608792741385618, -0.05478121169411081, 0.15412269425508082, 0.019770046738054985]\n",
      "- [-0.09652450487932943, -0.02283183105426687, 0.01586758950581441, 0.09705141018088802, 0.13379529140433127, 0.04065139108835517, -0.04572539104595404, -0.10770876080514674, -0.030773442348047096, -0.1493888974990782, 0.028468252093044835, 0.10841555982753098, 0.006446775526317236, 0.041664486289396174, -0.02140589329292, -0.02305896919369573, -0.13471719920533307, 0.01898756750148253, 0.1582371167483101, -0.11960463290343203, 0.14519620334484412, 0.03625783985044232, 0.08568801602895745, 0.08703329211544686, 0.09381754824393826, -0.13052190114931683, 0.05602078509669533, -0.15379249616148075, 0.10151350030968971, -0.07093455195814563, -0.17450374211076122, 0.1572303915144657, 0.07211145314465402, 0.11065746188176463, -0.0803094302905693, -0.0731739181639383, 0.06682494608505565, 0.08883947662814343, -0.10103303728213447, -0.16693400141144682, 0.06624075149441161, 0.12340968399543469, 0.12001553604397362, 0.023992111824593022, 0.0558122419182126, 0.15268746393660948, -0.16097682036212307, -0.06565600219097409, -0.11006749719361782, -0.15819761373570831, -0.0875659452129932, 0.03975132626822221, 0.08286193702831732, 0.1827259590867672, -0.11164219144799349, 0.08671497980147298, 0.025783746816070735, 0.11138046695998868, -0.17159152505186429, -0.12342726435406713, 0.008003894313923607, -0.07423932820690066, -0.0004842850202527751, -0.028880652262654516, 0.07874067301589428, -0.052034007287950663, 0.11613558697025342, 0.12519262423631314, 0.005161000063548455, -0.09712037349764886, 0.004288103814197564, -0.09462347493765078, 0.11678360265408605, 0.03248841239909973, 0.026305082148014598, -0.12936809496617932, 0.039911475558661084, 0.1225289103177867, 0.004177301151906647, -0.1661150585377719, -0.10305177268647828, 0.17488899863017857, 0.1672388348410271, -0.06170847898068792, 0.18069326760745302, 0.11762905321584104, -0.12892093796354995, -0.18946252014907314, -0.08398500325563409, -0.012964326252454368, 0.11528827482500345, 0.058459953913856534, 0.0884879817078762, 0.07326656155135294, 0.06529523913711388, -0.02502090231929937, 0.15037485844217538, 0.15692380167736011]\n",
      "- [0.0764896181376452, -0.08400424667351933, -0.05723612014184164, 0.04912197965305687, -0.01577779812521135, 0.13047769298554285, 0.12225978932128205, -0.2761718057731765, -0.09110698221182617, -0.12535793091921088, 0.12301979699784342, -0.06670617479684146, -0.14890056079725433, 0.1728698905891678, -0.16811872681022177, 0.07866674514530589, -0.03482901920173469, 0.12831660865503006, 0.1959165288237574, 0.1516391491761925, -0.08658776828346104, 0.02271850767990255, -0.09561043378026095, -0.16136816825279773, -0.10222139042325168, 0.09556402445966154, -0.16515642842212974, -0.12585087693078076, -0.03792105144567532, -0.004259388264829488, -0.08289554777162107, 0.059204480511053585, -0.1908376204131392, -0.11535546727993205, -0.15104716698215467, 0.1771923683701782, -0.11842972970152618, 0.07573247539170744, -0.19358813977423053, 0.0923999828540024, -0.18159296336953384, 0.0375219122125429, 0.03542555694703192, 0.12832343808290145, -0.17989731461172206, 0.13939752108584888, 0.1328096063122845, -0.15077054547302754, -0.09969562139423208, 0.12199158010341465, -0.04051919587867325, 0.1603927830416596, 0.03797478996147084, 0.07962619391782551, 0.01992434884222194, 0.028292171053938584, 0.1257975083001172, -0.07379443817859942, -0.08812320674679604, -0.16142322533778933, 0.013630265319916197, -0.02349958388178714, 0.06680574130101698, -0.09701676129789297, 0.09320444698033725, 0.07529434998379234, -0.17307774947596616, -0.08575359180003753, 0.008863823728522617, 0.12448947960746752, -0.020402566058995084, 0.11313918047172938, -0.06794937944412686, -0.03793987956836089, -0.13114160894690396, 0.13662196991297493, 0.16021083397806082, -0.150214586055999, 0.11312786350645676, 0.016517111059058037, -0.18653649799363792, 0.0034529182876138964, -0.04507175075167974, -0.05420398986002393, 0.10946166615119905, -0.09195019076393185, 0.030237626377693994, 0.07997797089071139, 0.004413678757882825, -0.0857249076170864, -0.06609811611247175, 0.17067511543576874, -0.05972570185369781, 0.11166674254997287, 0.10285115929918491, -0.1502877587763186, -0.01334584653041048, 0.12204212751614547]\n",
      "- [0.17538085265667983, 0.15325839107769892, 0.18491192355153235, -0.16026610506895372, 0.03260972012618014, -0.04402175175866874, -0.05648540670873849, 0.10948829863998742, 0.08948503695527728, -0.059557794963493, 0.06615634257931009, 0.055175722790938235, -0.03304356179339338, -0.07276352385426645, 0.1484119453356026, 0.06858757095975981, -0.016567194989477042, -0.006834394241545738, -0.13004868206841944, 0.04300656947507698, 0.16349573661390232, 0.14256063100130828, 0.12292936276819046, 0.14709943835064793, 0.06498109602966742, -0.1638239822880534, -0.13276841987988686, -0.06630423499106568, -0.11833622811854812, -0.18046345336732625, 0.10956959328221504, 0.10515750985056882, -0.17597565714579189, 0.023424012192702855, -0.14364431894631988, -0.14728047637886107, 0.0018771281292466909, -0.15107342956819408, 0.09242311976562978, -0.049612673082453276, 0.10484347607028513, -0.07355356223658707, 0.03562418810141634, 0.14146829941313863, -0.018341208765763874, 0.12738655514251293, 0.17493840472595543, 0.1366129345721624, -0.15838887596302487, -0.15463222023412393, 0.1819997285352525, 0.08461309210919536, -0.10586197455394561, -0.06657891759615765, -0.06529072056224879, 0.08772156544730333, -0.1620318417145311, -0.14973255062312607, -0.08128017069727815, 0.17614003438753656, -0.10258512677000524, -0.14597804323919453, 0.12655188293445144, 0.10472228489428421, 0.17684899495838807, -0.07447644286931394, -0.03618292685620877, -0.09314834672279483, -0.04872722411832223, 0.07693710068883117, -0.15774591327445192, -0.17899245299494343, 0.0010273608649383462, 0.00011233153649555457, -0.13132836773553, -0.04306735384171462, -0.07009053322649661, 0.06115936620440084, 0.11026835263846028, -0.12771956285715125, -0.07683846669079238, 0.01948451278983446, 0.06134177490966362, -0.15302110526011545, 0.12395741243457221, -0.12644362542303814, -0.0983010068975599, -0.032071570108387404, 0.05188718494303991, 0.14060404918013958, 0.13496203272893076, -0.11976693834032853, 0.07939839697816745, -0.07326624006680822, 0.15041180860296086, -0.06551654533929725, 0.09162699472807953, 0.07834238402536989]\n",
      "- [-0.07682329128805951, 0.02560162782772303, 0.03070805564514477, -0.02911013997949622, -0.09826784725290301, 0.09400316170664373, -0.030404110791514026, -0.083111804146062, -0.10366292770083965, 0.13473284789574388, 0.10608692537086223, -0.14695445913556565, -0.1335172186858643, 0.058705313229851654, -0.10935062155462613, 0.07441666966262056, 0.021943776529524114, 0.033627992045825894, -0.15533393012678737, -0.10666783213031052, 0.1301048943644303, -0.09491479078591192, -0.09393070106740718, 0.15918390816736464, 0.16991806687748423, 0.18330423268467022, -0.13729894001093396, -0.09539137215865261, 0.05500801469375537, 0.0150929068555, 0.1554005721475584, 0.021163325370252756, -0.0777539949987131, 0.026844576822194436, -0.06724419702643147, -0.009452182197774972, 0.17826283804591056, -0.06777357009653798, -0.06884073819592477, 0.024134780559159477, 0.00013965160145707042, -0.09740996256171844, -0.11212523971149709, -0.023421106766465336, -0.1373560581369438, -0.14617959240229197, -0.08580480133376978, 0.10021710250548864, -0.04896136436255279, -0.02938527593236343, -0.14145812320124573, -0.034090582469169135, 0.09574374727973547, -0.16010922855621826, -0.008963664386756574, 0.14836222179344594, -0.1530507247773898, 0.010199369545032474, 0.025175576405437064, 0.0596900018739278, -0.16877483916380137, 0.13869938569689366, -0.16288665235148794, 0.07634640491597168, 0.05999414160745953, -0.05377055170178197, -0.1319267929615181, 0.07694288456137151, 0.10076764448429583, -0.07969602900552802, 0.02655565419139714, 1.667312568400705e-05, -0.005699612875876998, -0.03259214328314244, -0.12132316548506102, 0.07726229956406082, -0.05456439762745628, -0.07429333227518768, -0.12900772755684517, 0.05948615088684308, -0.17660147345178295, -0.13759830310858748, 0.07835280581497717, -0.1530920009771589, -0.07050508141240597, 0.05486253324059153, -0.1599004050883372, -0.0835257091093246, -0.10734847252618225, -0.17044933186165417, -0.18121381226562125, 0.14872440922824925, 0.006214178602474943, -0.058991838428526955, -0.018327167995871838, -0.041006414301782076, 0.031772531256159406, -0.15680191293168114]\n",
      "- [0.08553340971882308, -0.19774159624744972, -0.04730380370455201, 0.06249778149806492, -0.15054077333425847, 0.0005749407418788954, 0.01732401424351399, 0.21194059000061527, 0.028837105825478354, 0.03370466220659738, -0.051977732330696, 0.02150566123717101, 0.09732430234547684, -0.07164102653554569, 0.11897009536944077, 0.044700044505126005, 0.10490368000402717, 0.10080167700528705, -0.16050303182377035, -0.062388674210303474, -0.016502095896148483, 0.10671251320267547, 0.04006172200814563, 0.018781893669235623, -0.17870236925849103, -0.038941076257219, 0.05834427069883874, 0.0019093177435238445, 0.09486296143783009, -0.07091095347363648, 0.03885915557110778, 0.1231273110553845, -0.055542888560753505, -0.06213834399341685, 0.16580794556433232, 0.11151720130533815, -0.06085048573296294, 0.17117570330328938, -0.033760534606325984, 0.09905083693631542, -0.11547282563689791, 0.16517955032567005, -0.10480534529130153, -0.09590007092373996, 0.008897353277651624, 0.036143335543034054, 0.14180761506363887, -0.16066225225583303, -0.08114950710865178, 0.15910945814139954, -0.11257913569297172, 0.033703434069087955, 0.028371427719209964, 0.027303882732329737, -0.09659765943130577, 0.07712267420705914, 0.14270527938452218, 0.17220877635605103, 0.023196864134340977, -0.047303476356066056, -0.1345179408815754, -0.057942035957825835, -0.009902160758787882, 0.17034308426999317, -0.0044889794116903916, 0.18265527849739627, 0.1602259526010024, 0.1623490557737306, 0.09917279936745832, -0.15406380019000998, 0.07625082835262248, -0.0795643934492492, 0.18128576205520594, -0.09905853181614536, 0.10184424311966446, 0.12056954028105553, 0.12015574893335987, -0.035888616615541956, 0.1911630821857773, -0.10657726148801397, 0.034565853505727814, 0.16096326546702827, 0.07082415083203196, -0.16865554615726458, 0.157816318380969, 0.156029158974127, -0.1591008154945811, 0.11358519770336535, 0.01033652542694508, -0.05069264452022081, 0.10058229823755582, -0.05240850559802305, -0.13417750622078572, 0.09232608600139224, -0.15729332166303797, -0.14594575512213423, 0.09060691574247229, -0.037662270134598094]\n",
      "- [0.14110335290262213, 0.042794698837872645, 0.021220077441702293, 0.1598771613703937, -0.00566691261332672, 0.014854855178060584, 0.1592488184352913, -0.07974561848877203, 0.08917504338202899, -0.07356481017386633, 0.05056605212692749, -0.06537789623492671, -0.0013588263619560832, 0.10238502824263784, 0.1458130573635818, -0.12968528924609513, -0.008152660357626927, -0.1497151456972648, -0.179743402349624, -0.13333347393725256, -0.01606780976603042, 0.16631199042158804, 0.08305140395313468, 0.16626786278897512, 0.08733178512295164, 0.14420709644975577, -0.11908747283316162, 0.11906123480240395, -0.07426986349601515, 0.026401645745658626, -0.13249183615220553, 0.0816872211807509, -0.05001556692504356, -0.054423317449025205, -0.10722352926026239, -0.14263027516491025, -0.16562866807804955, -0.12136454729422282, 0.043888071392673214, 0.159609092424977, 0.0918168703532769, 0.019637067987101048, -0.13342362766300242, 0.04702265916973789, 0.18090519656182777, 0.072989396195002, -0.08488298725094076, 0.14070542955496979, 0.14075144618653695, -0.08197601354719534, -0.09706503554577257, 0.15919041379454268, -0.14385766178905354, 0.08391032430200188, 0.1513446666895029, 0.03087072054326273, 0.030084989085312354, -0.03217772926661463, 0.13881557794121105, -0.167507434053904, -0.10700104635678412, 0.15057498318658888, -0.029983591587078456, -0.04999423107359136, -0.15951624124592265, 0.04257927219958297, 0.007349439268858866, -0.11348108938390289, 0.07826863643678587, 0.1525905474268931, -0.0036523998993650488, -0.08576626136774877, -0.1582355587607098, -0.10031081823917792, 0.16998965750808903, -0.10793232672453332, 0.01202829507836988, 0.1338947755328927, -0.17195868113963111, -0.05471576233407661, 0.07675349059112214, 0.17640827521044117, 0.07507596157290942, -0.15612263049416594, -0.017326287437051602, -0.038394052122307835, 0.13192947471818217, 0.05650393094541038, -0.12619292255884132, 0.10773731565212066, 0.11907033715980316, -0.13148110344717887, 0.1762321059929751, 0.10568914367221847, -0.1743112078196797, -0.05379720743600233, -0.0378604308116167, 0.006348634310844295]\n",
      "- [0.13931438582707734, -0.058559203705196204, 0.0942534213809486, -0.18460898766090744, -0.0027145617856138495, 0.17179195301284228, -0.18069467243747622, -0.0837609277549749, -0.09896050723225194, -0.13859821554655244, -0.11401695606758479, 0.12493248718115707, -0.02460689683403298, -0.06273107916839388, -0.00725818172324241, 0.09711140213952117, -0.02825573225774823, 0.017250589984199628, 0.1769767313228026, -0.016997064448041752, 0.04684961523509685, -0.1886690037791355, 0.08959952689796648, -0.08072614400690381, -0.1475177567257433, -0.11576108704511698, -0.05979019790176356, 0.13270343888523103, -0.01862794761283798, 0.08451446449971974, 0.09681007993897214, -0.1343209279602637, 0.10949898455931265, 0.17457149994053764, 0.0901857143864552, 0.059831857091318275, 0.11493456645935451, -0.15538719483495064, 0.05585121056861967, 0.04038363948423479, -0.07200136116188678, -0.1036817692781457, -0.041979434262488444, 0.046222764963906725, -0.00034909317402405295, 0.14045218829116607, 0.1152931314887199, 0.028753860333937106, 0.10663021666898866, -0.13869176594183122, 0.07348902978592475, 0.03856726278459606, -0.17975657046174046, -0.05075689902457852, -0.03614331108119156, -0.14120945172688992, 0.018167076338797977, -0.08817874767040454, 0.051904336085776215, -0.16384232548816308, 0.13857303578437297, -0.11053638281985802, -0.029459240515452935, -0.026720660742258876, 0.014701520740179446, 0.11952972277177616, -0.00243073288361526, 0.09562508522408096, 0.16915036375719977, 0.10570174183714236, -0.1590057495356192, -0.03878616612548245, 0.016716893185080337, -0.018481043086980654, -0.14324023702816419, 0.05614821993788777, 0.1609316987921935, -0.1430523972037736, -0.04476029578038944, -0.14705226824156736, 0.059967428105766905, 0.12972932123937403, -0.18042033503501498, -0.04179527750209367, -0.11829987375984126, 0.07770661175530613, -0.13617131087455606, 0.15025586376576683, -0.1676189259878078, -0.00851907075852479, 0.06945839142413757, -0.02862582031546528, 0.16631912539512847, -0.12356875304447908, 0.14654834415039542, -0.009712007352639848, 0.1481968922454057, 0.043394091515959174]\n",
      "- [-0.16450187961938215, 0.00762354517793852, 0.06738104197292794, 0.1790870965591956, -0.11530169887453834, 0.111148027128435, 0.06965902794643283, -0.044006966601725914, 0.049320868867817474, -0.064507924925392, -0.08292957952006086, 0.06281140492792757, 0.15148404033784937, 0.12762283163463223, 0.023732465869423472, 0.10791107428490244, -0.08110263495087691, -0.04865209758939259, -0.14217803008099267, -0.15014916170395148, -0.12234440790695225, -0.009925065181452187, -0.0465020602116322, 0.04288003563087568, 0.0182096527929953, -0.021971364986435534, -0.16533991947327403, 0.0375006315165058, 0.14765670270533154, -0.027487357502116883, -0.002157739599444134, 0.03206225665575757, -0.17791504788545343, 0.028633966694903146, -0.09648145743215711, -0.010355193324188581, -0.005679413239071554, 0.029317123001516114, -0.10686414553765329, -0.0716539703774029, 0.13479132453545958, -0.09042045614113958, -0.13146001901457632, 0.07578414388290869, -0.04165451458088788, -0.15081275819142342, -0.00845748328495303, -0.027998744859205487, -0.13499415155491357, 0.09242525609089872, 0.0854586442416981, 0.06961374008185883, -0.06782378251099712, 0.057709269839407454, -0.02104082719431845, -0.03453946272478794, -0.18367808499976157, 0.09755230280373897, -0.12252919857879012, 0.11747800695564851, 0.18423256517044737, -0.053961004107809865, 0.028588354436277143, 0.011434132126297705, -0.13102829660494805, -0.1816384208749949, 0.0100465796826109, -0.13881896747477687, 0.0919490057049611, -0.007892774009405266, -0.1185486328871934, 0.018973298419145638, -0.014066369194142489, -0.027160329282001634, 0.13333212984149242, 0.0040655784437934345, -0.11069773897914617, 0.1387497486462702, 0.0837778915054462, -0.08732705311378283, -0.06685809116862024, 0.06453961421256055, -0.11406102331326762, 0.11942522823275864, 0.03097905133083931, -0.03748203341199241, -0.0290032377270031, -0.12186377838488878, 0.10152756473356152, 0.09735062467360533, 0.163049820817015, 0.12813636258961883, -0.14028313689605518, -0.04201019641663223, 0.05814162537544519, -0.19295272489219756, 0.12696698045330201, 0.0684990240567899]\n",
      "- [-0.15960531419389862, 0.1281428682636144, -0.0939662411303328, -0.05121635145324084, 0.03525714825992317, -0.1766208204727894, 0.16184641473866834, 0.1525870176053847, 0.06105355441750542, 0.021274122476856745, -0.11753566796664176, 0.046564282271759155, -0.006788926883487016, 0.10159775672749528, 0.021676501150556048, 0.1475553850920632, 0.147953042743349, 0.03321889680979928, 0.12041417010299171, -0.13100736232320326, -0.17964571736674356, 0.0631056727258182, 0.10568205344246719, -0.03618582239509798, 0.04411143567050368, 0.1311695636873267, -0.10093387685883376, -0.10162916429570057, 0.13695430611740134, 0.06878993993018344, 0.10241182281929849, -0.07390196547440331, -0.04012267637986232, 0.044427743882776205, -0.16351900362264513, -0.10714108929192931, -0.16306600766772947, 0.16500903979424095, 0.11892035602215778, -0.1378395853262676, -0.10471934182900455, 0.17218433239597844, -0.008290524668783068, 0.1544646381182229, 0.11340167266966543, 0.12396875834379362, 0.02846213829416054, 0.07779296717764168, 0.12064732778365486, 0.15809267722141343, 0.10119673992703902, 0.07696102831992245, 0.06437384126848576, 0.02116933133175957, 0.09308628271297512, 0.03190639379440686, 0.058260337002878936, 0.03824300952939897, -0.17596290489938213, -0.03653580913742972, -0.17954364235616907, 0.0659698499853374, 0.1610733224248403, -0.05841326034261306, 0.10629462156544797, -0.12163833728851974, 0.011983135535538474, -0.04183308504369947, 0.18599499463559174, -0.01989981623106292, -0.14459879917340313, 0.09768286611989421, -0.036633580037124774, 0.10780002626672346, 0.09192938952358694, -0.11009610116169292, -0.10961742113350967, -0.030454405598565045, 0.18948511146018956, -0.12445931818413734, -0.1290006048262626, -0.034144817060550406, 0.11775788545387825, -0.06481145440622528, 0.06935547234588796, -0.057474225638687426, -0.15841919268514315, -0.05947647192811649, -0.10579039973670848, 0.00566000662444917, -0.12116945156501233, -0.17031813981622293, -0.006979726449494357, -0.17548859964628666, 0.14607585169931286, -0.006102134884237547, 0.09186894282042056, 0.06765196391453399]\n",
      "- [-0.10598501045904968, -0.05461841503377449, -0.16751133638088603, 0.16745491011295985, 0.016746170222954018, 0.07858700395673902, -0.1528813281232905, 0.023741260886136005, 0.036149425221852535, -0.06006647839753051, -0.029080182635478583, -0.1315877341920221, -0.030348026698927538, 0.10792192925266623, 0.049408552501664975, -0.10092930008805416, -0.18070762692959524, 0.16820195313651565, 0.056293818234227896, -0.11044780532213576, -0.08204811222950893, 0.13021521238933664, 0.14115242745581105, 0.05012758476006117, -0.09732055194513063, 0.04360913322383529, 0.16578563851843175, -0.11076872294678204, 0.0707685037674837, -0.08497391380113925, 0.13425998407035028, 0.15446347819649456, 0.05751944451852939, -0.014556050023277532, -0.17905523963239614, 0.15332370231337245, 0.14750649120908668, -0.1315124197013337, -0.039388166999003375, -0.14924633116254063, 0.1539063789032863, -0.09913415893719417, 0.04199703329442572, 0.11218079101783246, 0.1644155419994695, -0.06972187370800202, -0.0974217231143245, -0.14931640816576633, -0.15150058579800668, -0.06532042043131325, -0.05161088096953657, -0.05756160304749795, 0.15559659103877468, -0.17112332356593968, -0.12580696772817887, 0.043751391293124754, 0.1320161072008876, -0.18625840633309176, 0.10006775307876792, -0.14542380664609114, -0.019145491426609963, 0.15899200266487293, -0.05867099755546061, 0.017716845223392685, 0.027001143305912374, 0.08392460342407941, -0.0031204887815958833, -0.0683980076513837, 0.03836111016052038, 0.05649976151185078, 0.03266240959270041, 0.17333660685207003, 0.07375087722713766, -0.022339002042374996, 0.032178776633428136, 0.09837401039894415, 0.12091562772153809, 0.15992324163234045, -0.12107058770289864, 0.004040629128437591, 0.06179127921755003, 0.16259744191391223, 0.10543065192533688, -0.002295077091201116, -0.024732111729636703, -0.135917788588625, -0.12722315324594502, 0.025596896469739, -0.1265056154886437, 0.18104328735216035, -0.05979402701708487, -0.12455941949596902, 0.06359716541169075, -0.02964605777763765, 0.1328287845379825, -0.09329549294121617, -0.08921718365754988, 0.14274851932215213]\n",
      "- [0.12883949158308686, 0.15826363941395707, -0.04731286053306275, 0.03662700313442033, 0.07219867176259376, -0.011180095058844148, 0.0038761558813402187, -0.18614659531079086, 0.05320063018612109, -0.029391363582251938, -0.08462217112627839, -0.034719102157683465, -0.09938556681578055, -0.00987729706036672, 0.12876877539105464, -0.11998589006085787, 0.12268092093700263, -0.03508163796963979, -0.005065289521930209, 0.08094336024144722, -0.1803477248990958, -0.12432945064853997, 0.03319829297327144, -0.06584134954372972, 0.1458745299839586, -0.008788189405245554, 0.0004455237079750787, 0.09119914073015378, 0.027080120147184677, 0.1848022731450601, 0.16656598591962077, -0.1200366031109155, -0.13635964588618377, 0.05641030118558808, -0.12966097207018512, -0.11717565458624148, -0.0464275736227349, -7.826091749260277e-05, 0.04070530562956071, -0.06485810915434334, 0.17069157174866986, -0.13900298038874265, -0.13498693676137216, 0.04024167175727624, -0.082037746854095, 0.031175008816041447, 0.07892657116242434, -0.06757287586395191, 0.08568743128754228, -0.10619784675640132, 0.129954171256473, -0.11669322540515475, 0.16241898573928176, 0.15989796481311006, -0.0038730214811431435, 0.17179712474484074, 0.17619880106332036, 0.18062239731826224, 0.019107263042458248, -0.11591227519957091, -0.04900089397490945, 0.070449966284486, 0.16614365572785778, 0.15688106182969924, -0.10482838264002642, 0.012132186024189792, 0.152305227426249, 0.15005615625095406, 0.03764958539860535, -0.041408567616243314, -0.15587695876442467, -0.12597606734831654, 0.08147350250576657, 0.057660676422389354, -0.1703988036509981, 0.009107264874562879, -0.14428156358055066, 0.1531707733789171, 0.14994790293242505, 0.04408749396442883, -0.16547511353912617, 0.12085089434031746, 0.11329603433000451, 0.04359716901325606, -0.044943790407436936, -0.16814107936299205, -0.05314345276576069, -0.06144468072752656, 0.1553193567213956, 0.13664769157845663, -0.09830183805570969, 0.038402163919228974, 0.0040215333306022685, 0.14072356910330133, -0.0031757434609220956, -0.12222422465250114, -0.010021073001761712, 0.014292780641152119]\n",
      "- [-0.1529871638484792, 0.05271313005554204, 0.04441142906005895, 0.11917141343928633, -0.12480261020552433, 0.16939519376109796, -0.06175497037637079, -0.07997603594270558, -0.07000150184852708, -0.04855236437210068, -0.014580497333931111, 0.16206503556097693, -0.18545906524283265, -0.09359762062114739, -0.07626724278821942, -0.04387103529612865, -0.11552781517624512, -0.03483423658331144, -0.06398540819158836, 0.03492341221781829, 0.060782974605491466, 0.1275588682297463, -0.14628100708134795, 0.12633640367014387, 0.0354189479311508, 0.011375306449497736, -0.1346376807481057, -0.10052029648853979, 0.11047767309984335, -0.0914531851827743, 0.06896108785392102, -0.07737503007572141, 0.13086018895113383, 0.03502477502361857, -0.010055256624592761, 0.05760952949279853, 0.15398169049107377, 0.06554206456933692, 0.16175105938365567, 0.06512815835410839, -0.06958582340469187, -0.11044584184046652, -0.05894055510985703, 0.028202078095146774, 0.10707869330043247, 0.07936329385658468, -0.12606818388871074, -0.15069359380545383, 0.026081011218999063, -0.1198982554242397, 0.07067994452945457, -0.030587811737621255, 0.07904902010680927, -0.04041218240071509, 0.11815403563340159, -0.10978885309043651, -0.03075803097395156, -0.004968715961558138, 0.03308426056861491, 0.07244867218600079, 0.009967427890723593, -0.06006396995345976, -0.1013946669521638, 0.09590660775705331, 0.07815255428056106, 0.18547943204222592, 0.12790840186764343, 0.06926032997327933, 0.05157375627414392, -0.16889884522208545, -0.0451132112962603, -0.03557674752573344, 0.0069869199572285025, -0.1287236706033191, 0.10504639690417385, -0.1086486807529622, -0.006521481646136, -0.040071852209172774, -0.10382574775949514, -0.043456399330008354, 0.06140240101354831, 0.12060412202826797, -0.17341513435052422, 0.02767982115988073, 0.0798316633703327, -0.12927369673760386, -0.13761577419298815, -0.07206688534518975, -0.17572623197152618, -0.18169674868240723, 0.12415598758080454, -0.027907321287852553, -0.055145445107561177, -0.164968820182619, 0.06748727748574589, -0.10009604026220274, -0.10494877486122517, 0.15487703307469614]\n",
      "- [-0.02442887945950884, -0.18289377654031586, -0.10812444487279405, 0.03221698000180882, 0.0826081691994682, -0.10424232348206887, 0.1298097888630331, 0.025444430125076092, 0.08114963835645068, 0.13314804915830877, 0.16519351407841756, 0.18605421377125758, -0.018964511657619663, -0.17541218248707002, 0.14430379054610262, -0.06683660724672019, 0.06805812272187235, 0.10613595863087297, -0.051661934587181046, 0.13161301557197358, 0.016804293919114106, -0.04653070159710956, -0.1356852831681983, -0.16634031068040867, -0.09307905542507781, 0.02120993251113724, 0.012932037267563866, 0.012294702719927117, 0.15798441340655114, 0.16116585338675868, 0.13237724825938163, -0.16008290573862224, 0.05410252768557628, -0.13018828227810678, 0.09553877703571276, 0.08506213345025346, -0.02828333644703288, -0.1207157679961265, 0.02887312780554991, 0.06812886875147953, 0.1410766026187765, 0.09433827928617199, -0.16060223610052643, -0.10420103518646921, 0.18920167107642397, 0.10164908219288851, 0.015172715515118883, 0.06458298360869608, -0.15355781915961841, 0.17847455717647748, 0.08347477531181068, -0.12502684107721523, -0.06887268442339818, -0.0476765418100225, 0.06461389983903024, 0.058696940408620425, -0.06442577713614352, -0.07220090297665825, -0.03725353846946772, -0.03343167460085273, 0.041567879415818604, -0.16957433548866704, 0.016653236593236417, -0.11803155029564048, -0.062382482496510204, 0.00043666281299126826, 0.11135283428934173, -0.06676390084414272, -0.06093950285176619, -0.07506516744318188, -0.1308725982412964, -0.1275007880900703, -0.15913837577649095, 0.12355488051378612, 0.1198782586944217, -0.03108267895223589, 0.1270763656039963, -0.06803434516894587, 0.022257630017200665, 0.17200994213635817, 0.12440628035170684, 0.038483493725460005, -0.17097216421817554, -0.13320865774948798, -0.09124587591393281, -0.028878520938357424, 0.08356825493598813, 0.0008393165199803848, 0.07782829831389391, -0.004344461068606592, 0.09203060530913576, -0.013142731961246901, 0.16046585873398453, -0.0388809621726729, 0.08701196896096323, -0.12983600627881905, -0.1401210447709809, -0.13295598419513519]\n",
      "- [0.1902450091246166, 0.14661189895872637, 0.0866878022264106, 0.043123690856583144, -0.13122441738497975, -0.08780545539866143, 0.045376039754402575, 0.17289332228798093, 0.12481030222025578, -0.047241171338688166, -0.05465460897181394, 0.06017001914694102, -0.18703993826285956, -0.0475927895996837, 0.04677447012740649, 0.11380575246134314, -0.06729444866009386, 0.04594698581638204, -0.1041638387412844, -0.10916730943111114, -0.07011852544135833, 0.152410981675975, -0.13284769585272466, -0.1762598152887122, 0.09898811747586014, -0.023738272576400436, 0.16090845890581681, 0.08742268384571213, -0.18090682103969574, -0.09526767022429854, 0.10671186964410855, -0.0012676537480031775, -0.12381699058053762, -0.08037388009363333, 0.09956009610799196, 0.03378756931601119, -0.14477775087694134, -0.16999314782788466, -0.054668303618901265, -0.10220004912618925, 0.14914441620125599, 0.07324881339133062, -0.016602460976151426, 0.05613175320166879, -0.15071644732453404, -0.07132110881011208, -0.018332430144723702, -0.014522063291355383, 0.12993547730504407, 0.03399409421168587, 0.10923457832861835, 0.14361693284932722, 0.038405686134128765, 0.12245582524156151, -0.0444236532060898, -0.09011469613735958, -0.02643159789164467, 0.06509761691365139, 0.028120152933310796, -0.16330210732164063, -0.04041962773004026, -0.06802150742330539, 0.07327036901719679, 0.10016052635016001, 0.05430085881212034, -0.025376892810871177, -0.08979491927291523, -0.17447998339015292, -0.15834270687502866, -0.07765776805795477, -0.03501506815484313, 0.11308209488276087, -0.06543137513061088, 0.07562208091641641, 0.11521486261968142, 0.08077923209012049, 0.06280920353939265, -0.10713327469185444, -0.002302699539371969, 0.11562974009193992, -0.1397523167702762, -0.14353904020015706, -0.14413631867627644, 0.038809948090929004, 0.07376353993601521, 0.08262806767684441, -0.14773008190010717, -0.18848901189396763, -0.023967477516074278, 0.15352413662220799, 0.1155770562622474, 0.11546531183976341, 0.10439943014993774, -0.07297957944391613, -0.04007816285878624, 0.19313815723189223, 0.0565304682442297, -0.03590450686119722]\n",
      "- [0.0048232714933003, 0.0784089125889741, -0.1590394471183024, -0.080177378357346, 0.015163665543621287, -0.15294246241533907, 0.06524089779077873, 0.06909702544370372, -0.006058432646818484, -0.05108422091446111, 0.181694156620939, -0.13861311629591672, -0.06885810998451575, -0.17498964170701437, -0.1474846213868772, 0.04377711174995909, 0.17770614202003016, -0.03565099184921881, 0.15354261166936392, 0.05477203577769021, 0.10415104025096757, -0.18103403065432208, -0.12709296248115604, -0.16650979525968726, -0.14803125715245657, -0.1139285029625794, 0.13345602276710683, -0.09741665775865817, -0.04026050915618097, -0.004245908101587263, 0.0793020317687466, 0.014114616741049696, -0.11329861772831556, -0.01071383740596992, -0.05851015752030764, 0.04602828296010357, -0.10018886129277527, 0.1417289186188117, 0.0431915564440675, -0.15752474661685065, -0.03733125411717436, -0.0215624447663765, 0.06081630607506031, 0.11417239361132862, 0.010712961542527998, 0.03717248225782414, 0.13104696417739384, -0.012612270740245223, 0.14363897428518105, 0.1310509467664979, 0.04868743760433249, 0.06764598754772168, -0.10048674215504037, -0.003711264524135499, 0.07463341235193707, -0.03101522909268099, -0.1067896429744486, -0.07612510606669587, -0.03327280162388492, -0.03420388849030037, -0.11714515455102097, -0.005763835709313577, 0.14448909536096707, 0.1157682299971182, 0.1072621375130557, -0.11811383248168233, 0.10922451818941721, -0.047897577983606145, 0.10104495734342203, 0.16966495194337974, 0.04659011867324611, -0.15286099032835998, -0.19549091470996605, 0.10239703369074268, 0.009252140371344659, 0.17892465403856483, -0.013455271219842635, -0.11245532933971501, 0.10642811803449725, 0.005776096984433224, -0.06064565571431224, -0.18518202005141465, 0.1345616025849818, 0.00950736173753594, 0.02765944657050395, -0.163148247285769, 0.09113295276640715, -0.16961507921608493, -0.13723345258573819, -0.06682364707208525, -0.05290117759628537, -0.12134042708209224, -0.16349406235740946, -0.17782328615785675, -0.12416425865869285, -0.13683117404911294, -0.020949652120135918, -0.1457345042817161]\n",
      "- [0.05590284820824039, 0.19232430026920597, -0.08689682939824984, 0.030814679138873903, 0.12322059226298916, -0.024824495175573065, -0.025932734728315008, -0.19126333676525223, 0.12277054638716418, 0.04542304696159063, 0.0650464017171491, 0.021933613546311393, -0.019063933834261658, 0.0754840870885972, -0.1049075650208172, 0.09627995401075841, -0.1362660907175449, 0.07680419876739285, 0.08463941020955973, -0.16222776006377457, -0.1328790319107708, -0.16165848798322874, -0.13751678085737445, -0.12124208632112102, 0.01142249233185932, -0.13856917065898436, -0.043329326249002265, -0.12125176765569787, 0.016392508472318233, 0.11780707572787198, 0.13525676137752995, 0.01948844227903284, 0.0850390502050394, -0.13441618980385697, -0.008746333738606638, -0.1413586937808089, -0.0678662173077468, -0.17842230139905685, -0.009566755276739447, -0.070989014434053, -0.055142360655721985, 0.11754187147666877, 0.05070100269552327, 0.1483774438257291, 0.1145236391541999, -0.08495549590362755, 0.0032901322661179275, -0.08540509060192183, 0.1332547750028645, -0.0779581519629402, -0.029511943450951397, -0.04461295479664159, 0.08045584331484902, -0.014451345117460483, 0.15459481025911814, 0.17492901498616029, -0.11160444923356981, -0.013638161843630797, -0.014513974082893115, -0.15984303710373413, 0.031092680104484707, 0.08460513971395589, 0.10261707538912435, 0.12469818448638251, -0.15137660264752853, 0.030149084741108598, -0.13316109621882996, 0.18496943068445154, 0.07082090252766574, 0.0942626802654367, -0.05378286950819238, 0.13750819437921807, -0.08622413067260025, -0.06040273730598913, 0.03767374248885058, 0.00952674019574635, -0.11717855333854503, 0.09879434590258553, -0.14458038942080884, 0.009124153619975558, 0.04051621722022592, -0.11443722456816437, -0.006062496738185563, 0.09189915915197286, -0.05870402243660624, -0.09162999112316783, 0.11570052540686517, 0.11704006078683898, -0.10598397542336266, 0.07889508055728447, -0.12487601910449686, -0.06149308039721946, 0.03762151898769916, -0.04369307883206878, -0.07047025077255249, 0.006507399955148788, -0.10520253121192122, 0.07898120256994048]\n",
      "- [-0.06220292059700904, -0.1253526101795896, 0.10925490553652667, 0.09090135307217834, -0.18192487566955107, -0.1453365877791831, 0.05539144395543093, -0.15618779774236932, -0.1710108146272664, -0.11131515732889158, -0.04320212629115176, 0.02528756452509885, 0.16945849804212895, 0.06731653790681229, 0.04054728828720868, -0.028103730999325092, -0.11836549079161446, -0.03767681805215545, -0.1794510191630193, 0.004343273998254843, -0.0950805059879173, 0.18005170085481711, 0.10591501231285828, -0.038750797059777325, -0.15198468299104545, -0.12826226350047626, -0.08138116677440094, -0.17322477765432515, 0.08502450342355097, 0.08368999268439095, 0.1598067363366856, 0.1530345311774412, -0.03185807118632108, -0.056489368464039645, 0.11979133335418976, -0.06969130466792683, 0.09437439019062835, -0.09014931103953065, -0.019396694683608568, 0.02067773482630946, -0.07624151127408878, 0.007274262542139545, 0.11256860585301288, 0.15621888535875697, -0.04734503919825692, 0.1887201730060702, 0.10342495338076046, 0.1115647864242949, -0.051925379363779736, -0.16582103188102457, -0.17559025256514968, -0.11578475369122777, -0.1262977308072028, 0.05202683881009114, 0.15117424849436426, -0.06153440378553113, -0.023403842842657098, 0.05480855489882802, 0.03485936109273175, -0.08788829661153412, -0.17422358371049157, 0.1456025769367544, 0.17273148867771593, -0.06913749314103437, 0.0021832811526403557, 0.10239856824199114, 0.1289751509049763, 0.011649191257929712, -0.15409477757916681, -0.0317316605014805, 0.14679258510291815, 0.08852476064274915, -0.006141115027796644, 0.061227904408438956, -0.01976499963880698, 0.11227607402108494, 0.01696702925785145, 0.09483615919663027, -0.11065168755095188, -0.06277244018279865, 0.057362251158588014, -0.14962758954635585, 0.08850144900876265, 0.0634287436331428, 0.0662928177476185, -0.17485245725399498, -0.15808930387157957, -0.18524924484558208, 0.08906481213004996, -0.026860848528957575, 0.1695212156741062, -0.10988340982303309, -0.09841421047009197, -0.09475511863717125, 0.015326858425414862, -0.11765783425815594, -0.01580782452600612, 0.10632446375046983]\n",
      "- [0.07672346599537419, -0.1262836460944951, -0.11540259615084358, 0.1315500911922505, -0.06997755572747542, 0.05264840874902341, -0.07033085581399434, 0.027290999833243443, 0.12751606283137856, -0.0003002902897884851, 0.13944582144039852, -0.0017580300739623745, -0.13321496006301298, -0.01737843013530325, -0.0946792929754777, -0.14948284640885398, 0.1412761543040544, -0.13488442968557968, -0.021638006076180577, 0.13558816483938727, -0.07854077031456544, 0.04050529719483139, -0.17688327340067236, 0.16582784709740314, 0.03115913605373961, -0.16571731886252322, 0.09293949871678733, -0.1264835838882822, -0.15311040342537036, 0.08044114056761072, 0.152335567044035, -0.05437415765393279, -0.005602246701758853, -0.10445956453804514, 0.12593027341197213, 0.03797032121067126, -0.1127323166818917, 0.060907322953038516, 0.08952276511308609, 0.09600861104522461, 0.1764503544147591, -0.036345625517075035, -0.1047968814188795, 0.022642042498771678, -0.025815538165704158, 0.11949688934730032, -0.03762311258342203, -0.15785576468061238, -0.1075275148249163, -0.012639631215431626, 0.030799785767258774, 0.136968011467086, 0.09342310458508095, -0.10569502740729475, 0.09886272135806225, -0.05103791360238002, 0.06930836357455274, -0.1353455731541481, -0.004562265560319016, 0.0020203341818012983, 0.14641158912942995, -0.18032818718124854, 0.019882005029009633, 0.04041135255752831, -0.14616986452188888, 0.1570165850525403, 0.09135822071523933, 0.08938484179612077, -0.12797119019736541, 0.09192665384241933, -0.029529934324176752, 0.1319358801840993, 0.10719996119690099, -0.10226013253683398, -0.06809871176020077, -0.05706416757543829, 0.17303130920838025, 0.15981247509910032, 0.030623776934942882, 0.010887917265617504, -0.10920999857453013, 0.09365285651121023, -0.10431003073131537, -0.007609485566986538, -0.16888921524580924, 0.12481643942422765, -0.16157330299181957, 0.07237984020031168, 0.1367698029165792, -0.1519369760849526, -0.023283390756477465, -0.14497427268025231, -0.14779028771592, 0.1249729007477626, -0.09240486491112382, -0.08571141727343012, -0.13550946733341787, 0.005817760117174043]\n",
      "- [0.1459517859965088, 0.14851277805395102, 0.04404223612040185, 0.08892514249638762, 0.11052957853597604, 0.11252583804152422, -0.1550413167881362, 0.22443800299802724, -0.15156154146380849, -0.08339659826660656, 0.05767697892160032, -0.019951978889662596, 0.061516288158804264, 0.11752478730305758, -0.11578550411755421, -0.1456981319834355, 0.015998419095869295, -0.02736856455329195, -0.09544001729657908, 0.1665857735708692, -0.11562570019757341, -0.025324919790066493, -0.0840083319022463, -0.15085424420472443, -0.0937519821279686, 0.020853797843959417, -0.10198390610287728, 0.12724762013949986, -0.03409214163757034, -0.011577049276192538, -0.025153732967001914, -0.0038461393055648583, 0.1666116728338302, 0.10817899174247304, -0.052399620812199926, -0.027261591582234714, -0.013555032849893713, -0.06745252339117477, 0.15674135831410768, 0.01856222370967787, -0.07152727208161125, -0.1471352098254631, 0.015564795687470153, -0.0884558674824909, 0.08572882809992957, -0.024813963696402836, -0.08729449928990829, -0.055191245592412605, 0.16220359576016727, -0.10506830159841146, 0.011347031020557685, 0.07260022530045555, 0.13106499829749274, 0.004111329325367117, -0.062447788433354995, -0.02091730166300229, 0.06807480805996753, -0.007205478900983949, -0.1685301227320317, -0.02879566362860667, 0.05290066673712045, -0.16163222177361594, 0.14684610706686838, 0.045395911253824604, 0.046649691909057295, -0.11665916780493697, 0.07708963760521816, -0.05479663282654847, 0.08412052281921503, -0.05593987037702889, 0.15932330462138794, 0.1316494748331833, 0.04352070933115143, -0.09759406388601351, -0.08851166778163427, 0.019271188363046362, 0.10113294959261108, -0.16263729085789727, -0.08488515786418227, 0.11708042394447984, 0.07106614657378134, 0.14600835697764095, 0.07582675060587536, 0.16338107359770224, 0.022933929595089622, -0.04651056047581707, -0.006898959602486875, -0.048686143068402736, -0.06534370723994566, -0.05020020064187251, 0.06185239243177649, 0.005086805740867668, -0.014513276284793746, 0.06755522642475259, 0.13482674625558208, 0.09277097193598766, 0.033449449501988374, -0.04993878747139131]\n",
      "- [-0.1759814046829962, 0.07207266960601481, 0.006428823248589078, 0.07011226966052968, 0.12313752705310939, 0.07474956007967563, 0.03761560380617551, -0.15942903766448682, -0.042354081786271466, 0.0354871085670647, -0.07975764413397055, 0.025709335640424828, -0.004205605296072848, 0.02180658478868058, -0.11832391378518188, -0.04806715621036718, -0.07619619267688353, -0.06352761913693017, -0.17961787851163954, -0.18343257412476685, -0.15338038545684113, -0.12448121155885662, 0.14304590106148002, 0.05397920143149987, 0.05244871751764175, 0.13086915172822985, -0.09565505745453093, -0.14709663213201424, -0.08380117357710284, 0.09693810274103623, -0.15314658582464052, 0.1298727310743576, -0.12847494833199805, -0.0660341172660538, -0.18032869820598857, 0.06402176214724997, 0.13805072585124484, -0.18024650079602283, -0.011130641669041014, -0.07614676180997404, 0.15984751534750843, 0.143188626700775, -0.08126318999219509, -0.06296541943252404, -0.15293613843597628, 0.14296176521583032, 0.10528587513532979, 0.04051061709257923, 0.11128683739523129, 0.004051858204652528, 0.03269981566436374, 0.18770816625789738, 0.0040982417663013165, 0.06169518009303124, -0.040208919573069345, -0.1701149786187329, 0.10004170087251607, 0.0911274943662405, 0.17813493095778474, 0.09908802387956005, -0.1507770528374807, -0.08349401990417886, 0.05821528775578489, -0.14072432340344987, -0.07121411368038322, -0.17800670462740656, 0.00338739789985076, -0.011235935024058483, 0.014721580357615014, 0.013622325781968748, 0.11824000583815306, -0.13447700243378216, -0.00916453298006769, -0.09738629630739203, 0.1022082621359235, 0.1265659380894286, -0.17038263318479707, -0.11174307590483963, 0.14479948215652577, -0.18473949454519073, 0.028027775431420786, 0.014869681024495715, -0.01747249916332724, -0.09132824060162877, 0.03892129364948011, -0.07773553743359006, 0.03236857858479842, 0.16244829819750925, -0.06065032753642545, -0.06722558409488741, 0.04872907404004855, -0.10761014458038405, -0.16669713796355246, -0.007423629356501785, 0.031067938438881764, 0.0012100999014350393, 0.17604517140304926, -0.17331696702637775]\n",
      "- [0.062133191644549765, -0.15298756599114052, 0.1726445070736577, 0.14555997899042558, 0.04866710783312632, 0.09646601731318503, -0.1096924862306653, -0.08040187718294836, -0.03327299935087081, 0.17202544890955807, 0.07816438008021691, 0.1262753281466252, 0.11802329705423688, -0.20584207890170161, 0.0965772975686128, -0.10765247032746011, -0.16631328445661767, -0.09625723066136917, 0.16676415602288, -0.07889155283087859, 0.14352664138619034, 0.05129475829086855, 0.16044507611728864, 0.016103815240078246, 0.0867213804628668, -0.05538748984037183, -0.1442895918778121, -0.09767906793798689, -0.02770854388093143, 0.1393076831017044, 0.09859487798256532, 0.006278655293948597, 0.14760280268423892, -0.07177350275960907, -0.18860153822196737, 0.11310124776272353, -0.0018893006442507044, 0.013896926944313456, -0.14627381003491371, 0.033443091944538456, -0.05067420600186961, -0.07950878179037904, -0.11615717710947185, 0.18792757631531687, -0.038144138043331124, 0.0771110384890159, -0.01237073211038434, 0.07130875822171162, -0.14117203520159108, 0.00821453147928948, -0.04932813536935342, -0.17756510386507018, -0.1442410314271908, 0.018742240561180207, -0.012548512074033385, -0.03976040302842099, -0.11353895345194966, 0.16491285182255666, 0.13687747228004776, -0.11258297860959172, 0.023293877713637823, 0.01789383369098286, -0.1150556349723078, 0.16599546651720193, 0.0634500018616645, -0.030936482447254377, 0.023357003711526558, -0.11612235820780722, -0.13516392016058487, -0.13373580503959953, -0.1397381863380073, 0.03575993707381458, 0.037697173550061414, -0.09463968675236362, 0.13619421034846568, 0.1560541192062145, 0.09549473963617408, 0.19959759986124198, -0.0024019591126359214, -0.033976687142093065, 0.10647702772742587, 0.023281012367109853, 0.16102877677682909, 0.08776571705419968, -0.08792508380944947, 0.10343378410059635, 0.0803525714105712, 0.1564949915984222, -0.056407677499318236, 0.03336897827019235, -0.09944448447045957, 0.15111331252044682, -0.1770367901239288, 0.05963377858921334, 0.09321149370884513, -0.15901561303532202, 0.08936554827250626, 0.06911290362795773]\n",
      "- [0.2035754516661604, 0.09437535856787138, -0.09195717792344524, -0.06774897333487419, 0.11363170936896033, -0.057497976397953676, 0.024044102222404527, 0.15189095158094137, -0.17648730952146863, -0.001652813891656584, -0.024797709852326964, 0.1207192455832861, -0.11089238383112364, -0.12522762461248385, 0.04834679000479157, 0.11792265046993607, -0.1111864918759436, 0.152461958107384, 0.09183091382997564, -0.11352499338118732, -0.15373565304397033, -0.16606530811656053, 0.03541990780425481, -0.06665456727297091, 0.01655796402990558, -0.16192558537860785, 0.132218232614122, -0.1703348467257482, 0.005471788446342342, -0.015746869369490477, 0.01788725827453254, 0.06799518663830155, -0.16155977746135927, -0.0438140798967972, 0.09195013113259169, -0.10941519720078402, -0.1324438735003162, -0.06078548125084741, 0.03594625311910755, -0.08646764294067828, 0.16285308754400224, 0.03181646630181291, -0.08942497056543137, 0.016093006096914407, 0.019268427009681587, 0.16674265964856058, -0.012466204631421618, 0.057134273457685555, -0.05936447991525051, -0.06751704232336157, 0.01436814861902489, -0.08809216034065293, -0.011618419445970543, 0.07458050925684007, -0.026534923699519833, 0.04490286064463048, 0.09429614687054565, -0.17134515051428678, -0.05233337085583353, -0.004832474055748636, -0.138370648754378, 0.014582486217095137, -0.17248673129777078, -0.06265492755855685, -0.17095710601296352, -0.11238257004160702, -0.11333899702153605, 0.11919198987979704, -0.15420888236898678, -0.08133090892179784, -0.1455477952999655, -0.08158299194726658, -0.15737560173269632, -0.024472493959339255, 0.059882728693369636, -0.10600361553833713, 0.16159454986750238, -0.0004349677258531097, 0.16942712921745234, 0.16987942972630743, 0.08388921603468502, 0.004302896802504586, -0.07784340030655912, -0.11014353801569604, -0.05288235597957654, -0.09132464476198986, 0.004592581707386802, -0.0418154373296237, 0.14466841055802043, 0.16628621338105434, 0.11667073444316554, -0.1700502512393287, 0.013138195578639555, -0.1400833052431983, 0.12503599313779895, -0.13467030730136936, -0.17279205532814204, -0.08952620146567693]\n",
      "- [0.08747580794939894, 0.09997703056635304, -0.1574205641467181, 0.06678273766369694, 0.17631737362448022, 0.12815379249858816, 0.1459553552983512, -0.052915985038820404, 0.1604122868991673, 0.12129097280464199, -0.0630699444915058, 0.03788618018042297, -0.14774532866635548, -0.12137750365156247, 0.16278162083083234, 0.038356110106326405, -0.12642104570597698, 0.0737138713415453, -0.059058483548586914, -0.16479716373920367, 0.06957699297790397, -0.07033275961387678, 0.17012656034889162, -0.11239132673013166, 0.06203748343418012, -0.02830409410505702, -0.016746872382628574, 0.0688074513659514, 0.06016943405584224, 0.007538903355823432, 0.010779937517560536, -0.08634515100630934, -0.1582825204991257, 0.07639337766154398, -0.09154675663514805, 0.14727701137133573, -0.17785207362322775, -0.13246736762963895, -0.0901283365107202, 0.053430514879909165, 0.11614181259700156, 0.17935732662620282, -0.1501351835458049, 0.11876858083951032, -0.09477605929836819, -0.12360840186516572, 0.03364903863728321, 0.07922155578431422, 0.12422695408541223, -0.0695608654761568, -0.11779868676656087, -0.16327137962935076, 0.1305596586123453, 0.039330782269340024, -0.023638295452833614, 0.02853430673191256, 0.10925877133612383, 0.12223131178469634, 0.017373976234848633, -0.1289638616700938, -0.1413299165438258, -0.025067763005467862, 0.09901023545887759, 0.07170143540014925, 0.1405097057590404, 0.032522617220797696, 0.1233789905249134, -0.05572788195163273, 0.03773600910973868, -0.02951096155065609, -0.13481006446462396, -0.07991264754391436, 0.06608426435033805, 0.12346146288740692, 0.008412270410429329, 0.12866695720453286, -0.1115311618264571, 0.02041193023804749, 0.09248169399684307, 0.12742658814153396, -0.06031906786617011, 0.15952042808627745, -0.15098138932615693, 0.06419016298227803, 0.1318823429762661, -0.08261126673854821, 0.02470258388777209, -0.024814593341568054, 0.0929827086373044, 0.06893131522899786, 0.18802293715947943, 0.15014802306200273, 0.17310559284018845, 0.09227596165385521, 0.14885831838645464, 0.1370927966300482, -0.15965512583130312, -0.14091439183648366]\n",
      "- [-0.07928516778595135, 0.15583523292242576, 0.0873144396451348, -0.017918369756293913, 0.11517702646216989, -0.027110092433023977, -0.02503393198771608, 0.17445081159055992, -0.05655084309517017, -0.017949502571914314, -0.062205539528512606, 0.1623777320952958, -0.03941343139698632, -0.057906399352570935, -0.053822346493168055, 0.06991196451758161, -0.11289836153791921, 0.03570577039368585, 0.10819567940217213, -0.18569977585795475, -0.14332004664909181, -0.06435490457024695, -0.16512246770065356, -0.10522365501427593, 0.11639162674151163, 0.03654565154469138, 0.02301413682720651, -0.1015680700178737, 0.0009396111217956456, -0.16004923118234607, 0.12639349249930648, 0.0012903908324854447, -0.0994056690818102, -0.16438609648494767, -0.003609896864852606, -0.041174134660099254, 0.08032483755302688, 0.1783428762062681, -0.17206885788954873, 0.12758067901294826, -0.12247478662078219, -0.11666028530256835, 0.16521438390607504, 0.03443198589345171, 0.12564270549424608, -0.07712964947846924, 0.11520118065846116, -0.1732556600636919, 0.0061359237066949705, -0.1741350508191503, 0.05352501757116362, 0.09561882946544688, -0.12170858180706103, 0.12555146187219124, 0.11310988560539895, 0.138230084750693, 0.025273681068984064, 0.16476584496293778, 0.15931706290922634, -0.11855676481717434, -0.08816909470560962, 0.14206097267465917, 0.06301650016398933, 0.1564545272181371, -0.009702134788152602, 0.048603296760707154, 0.16849563953506108, -0.17102500025383136, -0.1625703165265226, -0.15250616144386553, 0.05101108772274425, -0.1826596919584959, -0.06162547800655062, 0.16814930412357768, 0.14727673544790473, 0.1838954278609675, 0.16972561366173403, -0.05479388623709498, -0.004401052816665777, -0.09967440101699485, -0.09720995161107589, 0.04615894761121889, 0.02180843895468279, -0.09415337155232138, 0.04528646191345785, 0.16185771321766862, 0.016415382993059394, -0.14454273062124307, -0.1021171386978694, -0.06067588521612991, 0.1696676458499824, 0.031306099443905964, 0.13612689555331867, -0.0718062930980106, 0.16794383809892233, -0.08926376356797137, -0.16862053166493327, 0.08284272324219238]\n",
      "- [0.11233171295556706, 0.0828322039314796, 0.10024892108258807, -0.04707572118504928, 0.13523343819689998, 0.12171768887781702, -0.0868833086130448, 0.05574555540148724, 0.0125532909353819, 0.06351035124997718, 0.0771060882971313, -0.1603397316619436, 0.11420147269669896, -0.1618692165493802, 0.03450051079924023, -0.003909379162203411, 0.14736418670624676, 0.09230134690341915, -0.06950970492767795, -0.0002702417846906525, -0.17961107412874314, 0.03952488468492213, 0.15971753442514483, -0.1695700420146232, 0.11412145714382863, -0.024331974625281527, 0.0846389430753589, -0.02764584296053178, 0.041720675777767856, -0.03692207957367588, -0.17611000134793875, 0.041538762569709606, 0.11325672226472305, -0.1210138636673783, -0.11671950800044882, 0.16913452391156544, 0.17777853851195285, -0.12368884129977469, 0.10999143465933907, 0.054502798829563534, 0.018644874990950158, 0.17194047497248968, 0.08334281975306009, 0.004917566306562838, 0.09490535258519474, -0.14670504258722736, 0.03333960466523927, -0.08413481811995827, -0.09452182012381312, -0.03012958631050158, -0.16188760579314918, -0.1301684418908776, -0.1727798375456684, 0.14358626716129408, -0.14279624037410352, 0.05452945045745433, -0.013536154228264952, 0.1812632043744494, -0.03667628529010319, -0.030407295168208986, 0.09882939204225613, 0.08568601293018495, -0.07557950632253753, 0.06732188558868092, 0.11024487285363248, -0.037214839703312616, 0.010908667493336858, 0.0694175458867163, -0.10668876189608639, 0.13465503723394184, 0.07002477942842684, 0.007287865114540728, 0.01978533483769645, 0.051433364857871575, -0.1683087857215444, -0.013066947850226412, -0.1054377032310337, 0.06331323704092474, 0.07347695212625398, 0.09220324748065138, 0.04156740420665082, 0.04384825387863234, 0.06537407851285768, -0.10989364865188377, 0.05151464948924599, -0.12347413115654352, 0.08718747096094463, -0.048637649860009555, 0.017197581032018742, 0.0639503526670701, -0.060645763644782004, 0.13994897293715539, -0.17976052272872517, 0.0017051362628497776, 0.046168386352216415, 0.1704911239550293, -0.0768129781441954, 0.08939089748351003]\n",
      "- [-0.14772044158433145, -0.12102603585286673, 0.1515860006311238, -0.03718261026079851, -0.1347042683456714, 0.05274458694681436, -0.044264264104881546, -0.2237507995245569, 0.028922433409906315, -0.12098185165003589, -0.07484723718817596, 0.17917104984424798, -0.09945502025643059, 0.04379471645848984, 0.029548574873312482, -0.15284662130610807, 0.14106711905069932, 0.020820423246773287, -0.07646917556422797, -0.15630712885232206, 0.02479376595333098, 0.04963728352190149, -0.0882916187269392, 0.08063267840579232, 0.04311668917210961, 0.12223676668456927, 0.10362395151107597, -0.12375074432288555, 0.022387019736913333, -0.0107736089529115, 0.13183584688545147, -0.14999910044947018, -0.025514690318814984, 0.07451380484548156, 0.12123558911220916, 0.046540774938709784, 0.09968478998614265, 0.08114146729877886, -0.08205622440323186, 0.026413778580496535, 0.03960131732458187, 0.05655210412420659, -0.14201439195554397, -0.05555832227895865, 0.16688565439289713, -0.06374195967944378, -0.022749836737357972, -0.16716951653062906, 0.11486276038458368, -0.06863714429098233, 0.13835340806747834, 0.12588239068695445, 0.08482668861368656, -0.14186944137855825, 0.17731062959732874, 0.023421911637061994, -0.13501788670295925, 0.16690000097357796, 0.16987824672525234, -0.12012898683440229, 0.07440643419169131, -0.12915786675205265, -0.13902612661992542, 0.17303548386309525, -0.09564899496130717, 0.05447876147535947, 0.14631350503208185, -0.1287216312044337, -0.005984694758385038, 0.15207808013067328, 0.1104055608339351, -0.1727659536598808, 0.014901737409642686, -0.13775924216443067, -0.08267889053612822, -0.07063777998234173, 0.11002630999120352, -0.029189530552348394, -0.1706372746568085, 0.026261555572599127, -0.09947865570308978, 0.12254087999101573, -0.14430327495142145, -0.04686785549279161, -0.14638927001032145, -0.16561863250815875, -0.11377456399247622, -0.10064927504284876, 0.084741219795368, -0.1714201310657658, 0.16309242326356815, -0.16429045186333652, 0.11748376075690332, -0.1581019700777769, 0.19297386945324105, 0.12912339729993155, 0.15558061510910004, -0.04775505582604329]\n",
      "- [-0.02899348557444846, -0.17122214352172263, 0.16403753667933121, -0.031219879763466976, 0.05631039656122521, -0.13045829908333229, 0.14569768376111192, -0.030104039443239538, -0.1157990064235548, -0.02150506370136382, 0.11327442220546174, -0.16774905248582753, 0.10623766898538714, 0.00029074443929753537, 0.04117168097462814, -0.09766418744171639, 0.07570749183192517, 0.07859888428615396, 0.16458201651128362, -0.0814837371573682, 0.14624724875805845, 0.1253399660608845, 0.1135150051051474, 0.05436880252242325, -0.01654165807670066, 0.1590382996506147, -0.017500238760032642, -0.04723019029614219, -0.022990423824100537, 0.13929341668879322, -0.1734308575669874, -0.17341776768853628, 0.05006994240218878, 0.10182246184046675, -0.0009199021205668772, 0.1004519699737782, 0.09791380692643019, 0.14244087573960182, 0.1002420966718301, -0.07888988103642364, -0.03419096343110355, -0.13807959717031443, 0.11296126822875285, 0.007960547854793188, 0.012987260778903314, -0.053258743459717144, -0.1258487404912576, -0.013250254284883294, -0.08367710877341995, 0.046641993735729456, -0.10088647957531624, -0.009337056609154029, 0.02586463903928113, -0.08948983324580216, 0.06772911143938842, 0.04843005728211542, -0.17176862069729096, -0.13307102242717464, -0.17713496795488456, 0.02484453001285979, 0.019782289408021028, -0.0962857183515895, 0.0680064375928786, 0.07461704872285546, -0.058206136001009136, -0.11347071982966128, -0.07080704672621499, 0.11275684671089227, -0.1549818219917465, -0.11683599886716908, 0.015078997358338148, 0.14811514848868051, -0.12996775128951016, -0.03540799508043035, -0.053254954310364554, 0.14238542497588377, -0.12359953551454665, -0.007272616595556403, 0.040148360189687884, -0.004033512566550603, -0.1649478136539057, -0.0474759994539232, 0.014345992826267888, 0.007230402484172967, -0.0969102895896633, 0.169611444654645, -0.18428221438191483, -0.064593977823088, -0.02020670541295217, -0.048657503337384916, -0.13314349031452125, -0.06648727236209694, -0.0977147532538558, 0.11138244436931109, 0.11397008383357024, -0.13745136956120096, -0.01922280478135397, -0.11079301660831622]\n",
      "- [0.1372476030191057, -0.17775061817348797, -0.1761806258891867, -0.06652214548043148, 0.09727017727650908, -0.15932625527841204, 0.1487329598222344, 0.059735378142018854, -0.09423881371435051, 0.15871591818807593, -0.09066824579019092, -0.11973139018727613, -0.08046146128412593, 0.026059882865926875, -0.1797635484318576, -0.011155052093156587, -0.0002963822124690888, 0.1639509037037712, 0.18665841634526883, 0.06088178474116852, 0.13874743596885794, 0.15651370829209202, 0.11141701762411908, -0.011481606607135441, -0.03591437794942533, 0.14059877053853923, -0.11308559492649894, -0.027270060314923555, -0.18848723049513655, -0.14960907325856923, 0.0619264823879415, -0.15558038107270108, -0.1295349484095076, 0.05444196996173175, 0.0030918533449578772, 0.00048559003165386154, 0.05435813421505805, 0.12514281638427469, -0.0044700410654651005, 0.1383745803346986, -0.1928994298899146, 0.1079885424769779, -0.03802237446736768, -0.18206215257303995, -0.14176365263972474, 0.04756501859335347, 0.0855760618330166, 0.1673334609635683, -0.17254515053724592, 0.1271416368517564, -0.0703220455858104, -9.539552505457854e-05, -0.1689815422120126, -0.16336948183137065, 0.11998143389815313, -0.1672614623172809, -0.018316439646030275, 0.13540130083659913, 0.09759769648955925, -0.009639272712436333, -0.0885383862200106, 0.0034078653583577093, 0.09566164427866279, -0.11367748688918133, 0.10142296754398042, 0.10554720263408078, 0.020871955025754237, -0.18245863018570355, -0.044134764517746415, -0.01789518758718387, 0.06553260426692864, -0.07807507001083376, -0.10765844308120966, 0.15827923810168248, -0.1849241114302605, -0.11094768254483772, 0.01522792146768719, 0.032982193319235124, 0.16675623330626232, 0.049023209716616806, 0.10587166458454582, -0.172921331490323, 0.08220176948298609, 0.06783003880333024, 0.07677097526989954, -0.0696655350580706, 0.006647751212877401, 0.04034023367003719, 0.009019156161423571, -0.12594460996964596, 0.179405684197857, 0.0033157876800653987, -0.13276473844399023, -0.0028899284337000316, -0.0818408988304883, -0.012004951244230387, -0.0468615769881509, 0.016973023406346002]\n",
      "- [-0.05783772805645517, -0.17499970626374073, -0.10437856850247797, 0.044987487629979506, 0.012765743200621805, -0.17756772939711205, 0.14498029230421225, 0.21778255487038672, -0.1806730625461385, 0.035275623622313984, 0.028728119403486182, -0.0093195419562519, -0.10233304986851495, -0.005254628149194946, 0.11112922477723142, -0.11548095642387293, 0.10921174396524161, 0.13033517253352248, -0.0030295310723167015, -0.08887383440238195, -0.06711117459827436, 0.06429618850906671, 0.14340195259261107, 0.0708356030902481, 0.14153601154370246, 0.07156927121673827, 0.11893535270004965, -0.012762393410767878, -0.10731408297130406, 0.09265450727021522, 0.04886714967505052, 0.011419000459248676, -0.11250854083405488, 0.12763351246292598, -0.06866286352970795, 0.019489241847474966, 0.1262119242413127, -0.10666640669948603, -0.06743546986247963, 0.18409964894089545, -0.05047333853036031, 0.16024068736999159, 0.13083250910941663, 0.13746033557182402, 0.15704820163661698, -0.008890903779716087, 0.12817322429362565, -0.16182720502713382, -0.11746635726159194, 0.008879448660015067, 0.13524130258240455, -0.15453038102983072, 0.1761064686165511, -0.10448206564250964, 0.12446564007179957, 0.1828008462479401, 0.06559419603851824, -0.12066040807443447, 0.10232540571647639, 0.15420884648436523, 0.0023260651648280397, -0.05166367333861522, 0.014857501695449337, 0.07262047687407945, 0.12731471208443942, -0.15485369620254927, -0.08470186299542833, 0.03451797148757685, -0.16407066432982734, 0.13891549921729446, 0.06889916853827224, -0.01288712555715751, 0.055448712100193816, -0.059953019684949586, 0.02388156348840475, 0.19146001463471415, -0.060471582396533025, -0.18882783173870693, -0.12195924756818231, 0.0664529702676433, -0.081792867685335, 0.10539875209678354, -0.13105235248899172, -0.07231303582687004, 0.07912876211256806, -0.03472015025248662, 0.16596979240744122, 0.11499293215830092, -0.08606188287592995, 0.08808528805839314, -0.1887754297841863, -0.109020043255702, -0.03869654625463838, -0.010758281793683508, 0.1750705767961803, -0.11911915207993386, -0.01102132794909438, -0.16715321668147504]\n",
      "- [-0.057460368386163925, -0.10225262854207813, 0.03559271860031217, -0.030855989834916827, 0.09434554810150887, -0.16048125959940782, 0.17641010378862196, 0.12961412530507904, -0.01667149843839939, 0.10954664045739623, -0.00811947820667762, -0.12401189437001403, -0.16374936832197112, 0.1341382426105571, 0.1764718522329359, -0.17775328661879114, -0.008973432447043985, -0.13040581532218173, 0.15831506449271565, -0.09393002447286487, -0.1751531232607769, 0.03471688858435124, -0.015621040755538615, -0.14942830265115112, 0.07933419104126722, -0.010965252145782457, -0.1775542860869687, -0.02824917173091308, -0.06569262250546397, 0.025040151541593933, 0.05544452310400931, -0.1675179455372882, 0.01946615815683063, -0.13541878014086792, 0.010166873033740358, -0.05776574488117485, -0.16082962575316503, -0.09098029526445474, -0.06312963277709159, 0.10787028321053645, 0.13107972154862405, 0.017904805151674134, -0.016178832653638505, 0.03089678511300726, 0.11964650037480092, 0.09063138467824026, -0.15598928787802033, -0.004156366357729494, 0.17374934785849688, -0.15151824408193565, 0.13809965020954382, 0.0543635064178565, 0.027648549865912652, 0.07922691516032715, -0.0104361861065031, -0.12679303093489605, -0.09893105890807795, -0.051987417060624735, -0.11703990167967147, 0.05358296199303165, 0.16009423768391753, 0.11744764423267567, 0.0631959550840188, -0.04480422489752398, -0.027098146102056932, -0.11471507035800228, 0.16856601972394786, -0.00760722541192836, -0.1326263088344922, -0.067063304254115, -0.05997859235887383, 0.04584420332689169, -0.06498294681488677, 0.05147018457758264, 0.17842104920284746, -0.022717591888882362, 0.0510644674126867, 0.0028803648510922794, -0.0025332497089748406, -0.14157410982061158, -0.032547908946191514, 0.13912351070713116, 0.10635552522136453, -0.04658272164664723, -0.020818511382888174, 0.10244526471996548, -0.16627988563511675, -0.15332414456296295, 0.0777400563864318, 0.06800884180821938, -0.04388723239597657, -0.02760874815704496, 0.03918234367651078, -0.126228574553709, 0.10019209137903186, -0.12450204482101355, 0.13238086179376957, 0.09828364167967617]\n",
      "- [-0.10420276773496108, 0.12079103055353349, 0.15858362122704042, 0.17375706890522855, -0.21011068567901653, -0.016087872811032085, -0.07470969816789741, 0.1982332577282963, -0.13004286840790408, 0.01628431078252722, 0.12698985258882778, 0.08391392080353238, -0.014318625297563236, -0.006983370747847815, 0.031114363067350773, 0.08298992182103179, -0.0648182773861445, -0.10036236507714043, 0.13388011010961579, 0.01365130282509451, 0.1117818805177635, -0.025815829851119312, 0.1617828523757469, 0.1478929132068961, -0.1065205154088851, 0.06213439560571835, 0.16471504789276614, -0.14839457462376038, -0.12230888790382742, 0.04858651676508566, -0.041266622845948085, 0.06527380362324818, 0.10698614379247728, 0.05919400498408374, -0.17701771696161642, -0.13197334406456077, -0.06532804849242367, -0.16503346480929287, -0.15811253811690948, 0.03026814328260006, -0.15017103868507622, 0.05605081560989123, 0.11378020629793079, -0.16514307822691005, 0.013481850655202002, -0.07437481209628288, -0.03341365917863837, -0.15931526828634904, 0.03977273381255883, 0.17199815487179218, 0.11881356877831649, -0.08180011488887777, 0.04369695154258626, -0.16423155177318507, 0.1884524489843957, -0.028708697418348878, -0.021220893295753558, -0.04748294873747659, -0.13569595298666243, -0.1659536490742314, -0.11725697282531537, -0.030631791746097207, -0.033857358609322555, -0.0899823262226706, 0.15299674237912486, 0.19242101958527555, -0.10717845442323586, 0.17512994578311286, 0.18160628871946144, 0.05767350004997783, 0.05732309112781173, -0.19827575508284362, -0.05520209152236087, 0.17567684137383832, 0.13519116459786287, -0.1325071907260106, -0.13856924453048355, -0.14704070379153103, -0.153914248734378, -0.0012159707037546006, 0.14791300420960177, 0.031102901263495002, 0.019606064434120753, 0.09661880637883571, -0.17123939108558545, -0.0703718179088454, 0.05338640038072467, 0.11630778279040704, -0.12270725652989918, -0.037771933602227394, 0.10930706770623747, -0.18106728442121875, 0.04455405089094158, 0.06585149921496697, -0.10888742588820888, 0.10906656091394183, 0.055088257376240554, -0.008835794364010788]\n",
      "- [-0.16672182514841435, 0.015776907363562163, 0.1563682788995799, 0.059297007763145386, 0.09291285324607171, -0.14087427111629625, -0.13331387053612662, 0.08440825215169687, -0.06851542396877697, -0.042429464874834844, 0.17483986160981982, -0.18076341481485414, -0.07867101018123666, -0.15261073750196943, -0.09648787185908358, 0.07717491127369949, -0.09024315988559115, -0.15906945153507204, -0.00919955142080729, -0.043804717168178214, 0.10770620824767085, 0.17224275837323247, -0.07690498835617128, 0.1342948552681452, 0.012689464760160989, -0.1730105183874052, 0.021124273969633414, 0.09536371248511404, 0.028530398823995006, -0.16312230359051733, -0.061742696298470796, -0.1364860590976549, -0.006029349911561841, 0.13843262738829792, -0.07062037110380971, -0.030605200435655386, 0.07422037898043164, 0.1628466304189917, -0.0011767607712483373, -0.12255909090670045, -0.13177520204781318, -0.17096955285719004, -0.1194669249817618, 0.10986920183161995, 0.11497182310793558, -0.118910701335146, 0.15800837717389102, 0.05940403775656658, -0.11637104889734726, 0.11637022100397669, -0.07253943912710922, -0.08761887105331251, 0.08244533027923472, -0.125884377864751, -0.07672713208091315, -0.07519027519623683, -0.0015511261155081704, -0.08266376158803815, 0.03544757566497202, 0.037939412147898706, 0.08132234563637625, 0.16147563598164166, 0.12571717556161305, 0.10891728563428626, 0.02624958191610324, 0.1595014935310151, 0.03479346051693653, -0.12216008803327245, 0.03141092518148311, -0.007439216590952057, -0.038637925360465813, -0.14556719528338616, -0.04107565078307249, -0.014511447423753177, 0.023805655195667824, -0.12861626271660725, 0.02717360716378257, -0.02588684655050353, 0.08543826754273055, -0.10228577040688529, -0.12399067906230904, -0.007562706854086926, -0.16356600778616415, -0.07112726652050169, -0.16070376808623954, -0.13543204410725346, -0.020264349323999196, 0.12800958743620194, -0.04777841114622046, -0.10568673724458454, 0.06656676973145285, 0.03788945561884427, 0.06342163319040897, -0.046532942615146, -0.1766773048625432, -0.07542372046175298, -0.12580742973396208, 0.13001701137992763]\n",
      "- [0.039591781801123, 0.03458622895388323, 0.03193771778070484, -0.10339480484105898, 0.10675463631068041, -0.17509200785770196, -0.13245542257305026, -0.18739195624320365, -0.10648709719359468, 0.13721875561549426, -0.12390632555594835, -0.09157480289393038, 0.06117977130271639, 0.12431311389864529, 0.0770727752831685, -0.05941082207584466, 0.16870184337899055, 0.18740432793930256, -0.033107801013886794, 0.08554952126442986, 0.1347737347267612, -0.13611209484841144, 0.15817377029113341, 0.06199483235895235, 0.15202454015296787, 0.17628431348432758, 0.14530989058612634, -0.13379991412224124, 0.042776294212383166, -0.1448869009168508, -0.004005182007775096, -0.10431100824183659, 0.11932839172021786, -0.10996890016836965, -0.0666061241724892, -0.1177071205234432, 0.12628264056221544, 0.13440743683193965, 0.11700250516804452, -0.07910445266284963, 0.06410903238296306, 0.1866394637190406, -0.027250580052264575, -0.1440366622298039, 0.1501691687526899, -0.05860383591797663, 0.03614750737614755, -0.1447083132915991, 0.08585230594243629, -0.05167386355839766, 0.15878048120673358, 0.1269601449386183, 0.15327881645440458, 0.10494539285920174, -0.19129401135313925, 0.024223033273899425, 0.15999616122928406, -0.05219019412733544, -0.005398560620966548, -0.018141929783898784, 0.13832028811390365, -0.1155176267567136, 0.01128718410326657, 0.1175713271623218, -0.16033970260068486, 0.15115932784604236, 0.12229580572919908, 0.06650751492473143, 0.05601491977549909, -0.057509194108491514, 0.052571855128640224, -0.005339634501100943, 0.11903252865797473, -0.008931392443801632, 0.04469630296629918, -0.028069757850775996, -0.16979398331929135, -0.14526051218172276, -0.20145019403118244, 0.049269543026426825, 0.1528819699616403, -0.16390581790040099, 0.027312432226138286, -0.15615554450460997, -0.1541993933316403, 0.11338824544981307, 0.14537610427101677, -0.08595112507044553, -0.06126259957604115, -0.14146676540851455, 0.09926190821215639, 0.15805046976848142, -0.16351355524478628, 0.05354463307874276, 0.1830422359426884, 0.1464256475870355, -0.038866398078153924, -0.12751943997582024]\n",
      "- [-0.09464535706740396, 0.13657515498017755, 0.1517431792303741, -0.027889208005958756, -0.09809136400874208, 0.09846185621833564, -0.06098957726092665, 0.05181154246186796, 0.11301056918967893, -0.14342548153528173, 0.03574213965527299, -0.14571495424318778, -0.139309014723238, 0.06520167461529916, -0.18044072763477817, 0.12692875478620894, -0.04597650965850513, -0.099118758541126, 0.07327790685041814, -0.0031679062586717735, 0.06283970766944662, 0.14827417453873937, 0.03475861934543201, -0.053418353618643485, -0.12467849976731973, -0.12278940521349349, 0.037304436658437745, -0.023104955725034657, 0.0011810274210092718, -0.07813303717503434, 0.14189160191349218, -0.02618318380842781, 0.057991303287640954, -0.09767792897253857, -0.08291090302409383, -0.17257270268937527, 0.0722055008364085, 0.03884848697631007, -0.14850560875346797, -0.0500465372550697, -0.003526130126810518, -0.07484830583327688, -0.05394786062473059, -0.17068954488895463, 0.09985063719664851, -0.0188855642851761, 0.014741189455779775, 0.08725307722820538, 0.06708347117743994, -0.057599931190143276, 0.09987366672472538, 0.14170587239498933, -0.15735546182948368, -0.018700947222364393, -0.1420920855389044, 0.022553076302132147, 0.14289930267801457, 0.021465676474171545, 0.028651811537932455, -0.0007591349914369501, 0.06258581024838407, -0.0028402448904668197, 0.15082476808803974, 0.1619588911268287, -0.015818458127139383, 0.14972858374551756, -0.17737182603646248, -0.15541867197786124, -0.04206194629330709, 0.10993281460926839, 0.16406504239697367, 0.04414204703084001, 0.13872931367663957, 0.16024374600515176, 0.10926143212591924, -0.1582479375906839, -0.038921397132603154, 0.12464193778687581, -0.011755779521390267, -0.07760092820911234, 0.009359602267171698, -0.06531657649324836, 0.11047765966469614, -0.16613569790913646, 0.13664353718234035, -0.14221149816453077, -0.166298014191433, -0.10466216757908589, 0.04689508869078437, -0.10030577894700704, -0.08697463352027923, -0.1561728021455983, -0.039489548156713634, 0.09856859342699364, 0.02012001627767096, 0.12980523329162116, -0.13448953790425874, 0.07758501919105826]\n",
      "- [-0.07389164509032661, -0.14481503599900167, 0.04543627133571493, -0.06721223804784303, -0.0981679845399131, -0.03804902454227877, -0.09711114331335798, 0.11804718878823543, -0.1662365141199238, 0.010340819672042792, 0.16621307015707196, 0.06868428547639611, -0.14029963105716928, 0.13670576962056957, -0.05154949170324707, -0.029060468651922057, -0.01060922658319919, 0.05609166917134559, -0.030665661588063088, 0.04833880158011319, 0.11533994636213481, -0.06974260815855937, 0.18513634323271588, -0.028059477244831234, 0.1215622479579677, 0.15792657682188957, -0.10026496125223182, -0.08475589971482321, -0.0719811537929414, -0.1728448399330476, 0.03363206568546632, -0.13789554119179248, -0.07984813394391933, 0.000910658629648568, -0.14483001911965204, -0.07069183077972892, -0.11889429352575717, -0.13920841854118898, -0.14987836359980947, -0.06713299503592246, 0.005043204398499049, -0.17607153735416478, -0.16721000733393923, -0.014130669840255638, 0.01614755721805708, -0.020933155268797632, -0.1661918679144895, -0.1042611385159202, 0.0386542465657653, 0.16119615987850244, 0.04781864120878419, -0.17288428611222806, -0.07004260483438686, -0.07883612254407144, -0.09356597491265192, -0.051606728428669424, 0.1403485784019558, -0.15631737855949412, -0.13473587901112458, 0.05500459238064405, -0.11046844738254405, 0.14501906399483538, 0.08763228456500025, -0.10971213289264199, -0.13124565241099703, -0.012614534014885987, 0.15355408883577112, -0.12075459026445683, 0.10517438403518464, 0.0013239293734731003, -0.02754016114729617, 0.11445994197566065, 0.01802298802683097, 0.1629672741246846, -0.07704683044810866, -0.07974641410424815, -0.004321794658783989, -0.059263439046476664, -0.08981491994430812, -0.009852906155320272, 0.08242855897721062, -0.111887330705976, 0.19082908304242277, -0.143335359225046, -0.1315182086381921, -0.1071520004542696, 0.05794750753823223, 0.07714207385854334, 0.17454095544402254, -0.056324097700076466, -0.044146680770056214, 0.13242135241965092, 0.049536055303754774, -0.17531050815274174, 0.014355911962374296, -0.13947872005479273, 0.07140361216785332, 0.08600142686073103]\n",
      "- [-0.019103264294614664, -0.07900920781330974, -0.03188644834573935, 0.11560272373380961, 0.05918985243736197, 0.09070564194333977, 0.022559595515397008, -0.11285571654225911, 0.1991947213335585, 0.18552301260060852, -0.03432472781390094, 0.061166147904528505, -0.16447226976507393, 0.15116822486686105, 0.14261037185039518, 0.14086462061220478, -0.08635471965185981, -0.15013907078094307, 0.04917996226910636, -0.05147331648694613, 0.1497273018182724, 0.01545314360650157, -0.17836418264859955, -0.006199276042100016, 0.1221962552118117, 0.10999566071722049, -0.07178356651978246, -0.07098691237505542, 0.061079653377348934, 0.054235082145393604, 0.05016383686312141, -0.09465616042512545, -0.10477505020604999, -0.04598736009816385, 0.0014821739029482388, -0.12579223156647407, 0.1574684508806088, -0.1244190431621096, 0.014367639328157397, -0.02733348021121736, -0.055683406391159276, 0.11520221582618631, -0.051935590124336156, 0.17096045349877886, 0.0483362148678421, 0.14794616869303556, 0.01875641958919176, 0.10872018850483865, -0.15173207746049716, -0.04874451255212398, 0.15257064298483197, 0.10901752962457101, -0.10272929773305037, 0.052885974354160134, 0.0024289148750107526, 0.1745737676321307, 0.18133710767499, -0.04544912427620225, -0.08184135748866807, -0.11244231469461019, -0.13501221236477015, -0.15937584449987163, 0.011977422312589666, 0.014204660020631577, 0.08973914208463481, 0.15677511219033763, -0.13442797253247726, 0.17789486607325392, 0.1389030780388105, -0.024390598080440105, 0.002883348882106834, -0.03017637082609585, -0.1814587262546712, 0.14665659407724754, -0.09446575941334918, 0.1014582223128124, 0.13193530393169775, -0.017370541420645987, 0.10125651138361066, 0.10717151719660621, 0.07061215842460979, 0.08467861401360005, 0.17422037241775817, -0.007631440861527866, 0.056120587578247116, -0.13522914968171018, 0.06498837167759745, -0.16643403371575063, -0.11543001751801373, 0.1281706993071636, 0.044783347620104816, 0.08957993619560163, 0.0964654598511647, -0.09742053059104636, -0.16328935469186662, -0.0531789554825472, -0.152171871013727, 0.10431386167722395]\n",
      "- [-0.16688468109389185, 0.036197138432392396, -0.004313896690450623, 0.13819225903528343, -0.047078032796867356, -0.017486304259395256, -0.028295999587322877, 0.11222352052416844, -0.11721615465485152, 0.01312376986517013, 0.15856900233455043, -0.04723162551770806, -0.14318708613241143, -0.1661334289200496, 0.02730913272493231, 0.058923596405622954, 0.14595300877055925, -0.10560692899551286, 0.17914692951765193, -0.07285922952096789, -0.013786770731258004, 0.0664518784877796, 0.07633240513126738, 0.16634443001665883, -0.0025456182307302786, 0.11701678161006951, 0.00924558265135282, 0.06927561034066428, -0.11964920667546151, 0.14162250941998245, -0.02407629575209073, -0.18395050495513338, -0.04969224619264814, 0.07126335073286906, 0.1042748187184077, 0.14512009461205094, 0.1464191236956482, 0.028578829581396573, 0.06159331722249622, 0.04443664755568543, 0.0269110767403466, 0.17730624933926023, 0.06169871318981691, -0.14995781397877456, 0.123713580621183, -0.08213388923848111, 0.06408579090872385, -0.10362905171171666, -0.09353191263164803, 0.04876360420501981, 0.10279753281438864, 0.1435222379441652, -0.017168841647988285, 0.14721382866890256, -0.1014362816507708, 0.09574930158292347, 0.09930918678491485, 0.02929130072682236, -0.15671633140222319, -0.04657719953980768, 0.007406724553651857, -0.08033837129393623, 0.08458509320859585, 0.10684193114378235, -0.0549438219160321, -0.10349257596808285, 0.03697140085251142, 0.11382106507021043, 0.15027769449627662, 0.18546377456121463, -0.061304441023242694, 0.16315147993232787, 0.10610317485155085, 0.006523545351644373, 0.03866343252772432, 0.1109808496386686, 0.09241212790574166, 0.08025264784780588, 0.053682696478450004, 0.10796341902967943, 0.1768364243702878, -0.13016867725758302, -0.03497738064867287, -0.04453174345078071, 0.027412561194168125, -0.09952826787439562, 0.15247495699024557, -0.0017978687425061846, 0.015659256870703395, -0.14733800457710433, -0.03725757827423673, -0.09293743290094278, -0.05148003834191847, 0.0655205962555496, 0.05173843511333115, -0.1430291841763708, -0.1616312634281991, -0.014892977895228377]\n",
      "- [-0.004634316850932374, 0.1947911097163617, 0.05020025368466711, 0.1551200885822539, 0.1472278229296737, -0.016036167197480678, 0.08744084630417642, -0.25871559885767215, 0.08357835254229898, -0.10269355916875884, -0.08457228522829993, -0.14192654166712185, 0.05903254241243959, -0.11504613359066017, 0.10829740163833239, 0.03455645023381069, -0.028944011718111454, 0.013638604273350629, 0.11564318162012, -0.11582223585922591, 0.023831325544489825, -0.11030234596489054, 0.01083917070191983, 0.14409110840709616, -0.1758512973956677, -0.08337565369092655, 0.17384677164202805, 0.013360647855537153, -0.19051759585870073, 0.004592080722632057, 0.15973454832519635, 0.15582598359218625, 0.07234593047513535, -0.14253032999003043, 0.1492971613560648, -0.1664960095112635, -0.17401735412451372, -0.1067892968151803, 0.06853995328936735, -0.11458644629713728, 0.10516148008729533, 0.09681663979232016, 0.017108504222727795, -0.16894319037270564, 0.05063318172742201, -0.06587780137428594, -0.10889762192828567, -0.08336842201528759, 0.16076166212659207, 0.1717619525834644, -0.01884038800226174, -0.02626537095613598, -0.1510499621431007, -0.1636300801481182, 0.09924134594573528, 0.14322756400361203, -0.12658660724506643, -0.13601066121334218, -0.1379222376894363, 0.013068116994457668, -0.13578227266355386, -0.10637159700796346, 0.14904044681903755, 0.025748974719102993, -0.10094693581935733, -0.1878340543850138, -0.1054949807930917, -0.09218043091341425, -0.02219159516984497, 0.15003869666253927, 0.030426193545540492, 0.049044022773780685, -0.16899695182565783, 0.0393965769112025, 0.03543847292234026, 0.09540613267848512, -0.13815701688226273, -0.12799428022738446, 0.031478906327977896, 0.09946155649831454, -0.009245816421770074, 0.04357384061149585, -0.1847012870996312, 0.07067767683458377, 0.08217609710716342, -0.08739590423112274, 0.015058412986684758, -0.15526713363780364, 0.07379565290091232, -0.1490362404036226, 0.025314133502628077, 0.012157482124019724, 0.06851267792677732, -0.0806581198766206, 0.01877555008409266, -0.02095241916622587, 0.03958927930476659, 0.03479715105627416]\n",
      "- [-0.12130684295843473, 0.022844948702838704, 0.014300538416180496, 0.05603878725816567, -0.023738348214741394, -0.00663091925182083, -0.10395197682592683, 0.11929579436219262, -0.1739584248208213, 0.13151386585082653, 0.04658933441561692, 0.09460826699908784, -0.030544592862036642, -0.15591940863350126, 0.043360495837883116, -0.11224766598802982, -0.0791411182063977, -0.149171419264176, -0.06829330014100705, 0.16244302330100735, 0.004179434130021267, -0.12306757812709583, -0.00774074075909676, -0.009732602191430248, -0.1313056117428881, -0.10144198239435862, -0.12181278811732013, -0.11234763992805338, 0.08476392191637701, 0.021394959773242468, 0.08963856489932373, 0.040484028566763086, 0.1673147779055154, -0.1333204878895502, 6.387549556786479e-05, -0.1127487298527588, -0.11247220141795648, -0.07162413541484985, -0.06732652707578708, -0.08889852452897536, -0.08695584162279353, -0.18713971008879687, 0.1343958219919418, 0.1448905947955245, -0.114124515062875, -0.09951363533856473, 0.16874458686762822, -0.08896161095120668, 0.08238124654165394, -0.17299920532096386, -0.06942850903160332, 0.05980713804752659, -0.16118620550974347, 0.07275270028892962, -0.1734569158229072, -0.01395831280345314, 0.1274781254497823, -0.09463545818996826, 0.08107228994810332, 0.04192019285964235, 0.1223516321629841, 0.18125504798079972, -0.11045136584445853, -0.101862335949494, 0.1266320814268776, 0.022401787733370367, -0.001427571198740548, 0.1274638604349554, 0.1004117200878546, -0.09252456316112527, 0.13591597952941759, -0.1870393521666738, 0.06617059664473626, 0.03576683327026586, -0.1801452565496926, -0.16140730334891173, 0.03746526652330816, 0.014476089441536328, 0.024624810613531972, -0.00030776975072048675, 0.07966963860834722, -0.020205641631723482, 0.17412380090147858, -0.1524113514290264, 0.03147003506494402, 0.08355181170210944, 0.07732976861934067, 0.11172498324175986, 0.04215425524456801, -0.0486148298741222, 0.00925017529282406, -0.06612264606442281, -0.022955010681105482, 0.09607622728308847, 0.11031459450579956, -0.12140615816038697, -0.034202516290992566, 0.03667830962077295]\n",
      "- [0.038342420450377696, -0.1788424759678262, 0.1595342181625561, -0.08024699641439788, 0.09089049603614667, -0.010216115886992078, 0.07258043203293565, -0.04894713199490663, 0.1007144447921195, -0.08417863642035772, 0.06284125255425999, -0.04203599556512274, -0.05711414319583724, -0.0286154630331352, 0.12357167550638133, 0.01085814436384236, 0.07790693585106613, -0.043929708602924514, -0.14989717032019365, 0.10461386849027157, 0.06830709924422926, 0.006938450590126982, -0.0872898986345692, 0.01052078435054273, 0.16408560647899995, -0.03354175748022908, 0.007479223155329597, -0.013353721304188774, -0.013416294483970196, 0.03993915184937388, -0.05198378136732471, -0.03786874514318335, 0.13510692965914578, 0.08153379130132198, 0.03529653568776349, 0.07180492216077776, -0.07431414940587878, -0.11946460852217103, -0.1678934274413283, -0.14929043267180914, 0.13482078595364785, -0.16894949107320914, -0.08930486896634257, 0.12070329739061979, 0.0756988119633, -0.04996532539619026, -0.12063132000527427, 0.11263011282815395, -0.1266586173518983, -0.061709744885567915, -0.037406525175608704, 0.10344727253643662, -0.06443938282848997, 0.060148298760952665, 0.09301758402337126, 0.03438837892102988, -0.11883117543879342, -0.0656852449619543, -0.18276803793481894, -0.08574020499571364, 0.00730293457332715, -0.012398143149730303, -0.027779242142427503, 0.17440157273478932, 0.11750179263762814, -0.06692968270416108, -0.1452252842356669, -0.17604452945980073, 0.08277779793097603, -0.10278191259457448, -0.07978598960177748, 0.06208497266351004, 0.13522815579977543, -0.12367274950508951, 0.136474452513469, 0.09813426140387242, 0.058769164876802296, 0.007320713397003085, -0.08931824108116662, 0.16265405532659222, 0.0687711909983242, -0.17620609007046, -0.10185642609776184, -0.12208493618883767, -0.11887196681381788, -0.15744618849249986, -0.03277646013615177, -0.17227459708393628, 0.09980324079991253, 0.04478236664957293, 0.11725457280591768, 0.035527424603837385, 0.17591267327487356, 0.02309819066988638, -0.16198619068212564, 0.1318378184249772, 0.19393782529979178, -0.15516535596714398]\n",
      "- [0.08976641003349324, 0.09915443314078796, 0.15164135605668694, -0.08966679370854781, 0.15830617327336272, 0.10982472828742941, -0.08857417424068725, 0.17784106068732047, -0.14649701123415046, 0.0720497077161093, -0.10810383374682382, 0.13256976869216033, 0.02216640685480366, 0.13807131191259364, 0.15269941820250707, 0.14517162508054124, -0.12151307484053847, 0.006394721096736713, -0.11828531006398767, 0.14744307420127925, 0.06516021867713503, 0.1172149130828934, -0.05342906245498714, 0.1317222099316348, -0.16393459527188126, 0.12392141121345766, -0.05364945940581771, -0.06680156807227317, 0.0816550282188413, -0.07121911480385035, 0.06549266638105804, -0.15984655346458984, -0.07798491780499693, 0.16757513346310612, -0.0703093182290052, 0.15583946009052405, 0.10271331226696352, -0.10920324923597166, -0.02861500038861439, -0.07187986345352136, -0.011166489864592764, 0.0254961330866699, -0.06659471724962268, 0.12322502696285362, 0.015115880904138082, -0.03866995475394711, 0.04938535268918992, 0.0030350563550615803, -0.0849302906267586, -0.09232391018405063, -0.1636522063843939, 0.08777717026608846, 0.15662667555660859, 0.13087672969856962, 0.18290267549193837, -0.03329399704891641, 0.15607330956533133, -0.15931659911660567, 0.007620992833397591, -0.013284121228822412, -0.07958027286864812, 0.14132491125966032, 0.1291202149882527, 0.12956411524901354, -0.06393032048075252, 0.02334539734446811, 0.10157141558711642, 0.009723024298842102, 0.17991918830090994, 0.06850545607761652, 0.12390565774245355, -0.11474787354446059, 0.20427088779488428, 0.05319843073689026, -0.11673301818327698, 0.12031987303033649, 0.08486365753889373, -0.036980956746152024, 0.13203304269951804, -0.15888602589459863, 0.060852314091061156, 0.09192621741693277, 0.17614736843701995, 0.17442808931179413, 0.08775267014851747, 0.05247878371765123, 0.11710880028454117, -0.1301803323376082, -0.11810022736093737, -0.14858081120338706, 0.0734221247117549, -0.11596342697421373, -0.04306273820139579, 0.14308676068547677, 0.013993073482077395, -0.06560744750737348, 0.03734626719218565, 0.1835321737460922]\n",
      "- [-0.1616946619890816, -0.0895834753715179, -0.03539603787559495, 0.1313309699372311, -0.05082169335772103, -0.03564236146572286, 0.018089693489520192, -0.0984286344758512, 0.030777144998177797, 0.01243643849041039, -0.17679700307004134, -0.022711368792678467, 0.17349141754465586, -0.15825119442846902, -0.07829506639351214, -0.07217185171113333, -0.13358987726024943, -0.05318017987929923, 0.013617029471293568, -0.104046727824278, 0.010705623618205071, 0.06611168102685942, -0.1021768594347553, 0.1752241868900945, -0.052077437557681364, -0.012256336478040294, 0.09917843298233453, 0.08036258930699151, -0.12431931911232272, -0.05160553968538423, 0.009737687739934131, -0.05450891748123242, -0.04477288926302177, 0.16864027759881786, -0.13830564865730174, -0.09343600726839739, 0.12165183070045509, -0.02053913166310958, -0.10474295277187368, -0.00036688817455012257, -0.015347979750486717, -0.05547584862619139, -0.05231365718667884, -0.014634518914211558, -0.08899162715352388, 0.02633388985158111, -0.07001379684754779, 0.1304787590774072, 0.03459311347927154, 0.15126293578607003, -0.04817004953914757, -0.028968469062910233, 0.17229013231239998, -0.10707245683437226, -0.09706591496303832, -0.07198245374768861, -0.06861098370346684, 0.11135539084962477, -0.06867375939903035, -0.07030874343430966, 0.026759258640985207, 0.13266348058134952, -0.17195958999634114, 0.041764168939392075, -0.0308120087150633, -0.022177979413614542, 0.10746254182454966, -0.1492236870858021, -0.10581819260792046, -0.039383443008083274, 0.008306276584556894, -0.17112019754306776, -0.16323604457068502, -0.07177119752363288, -0.007471656870017215, -0.18589265899301174, 0.025136451405887168, 0.06379064971673849, 0.12889784308174135, 0.15170335005451346, 0.09999198841938521, 0.09639872805223818, 0.16828125042514291, -0.027333257054501656, 0.03450561222315787, 0.16139561308585312, 0.07055009997321439, -0.08703757574425713, 0.10850060260829883, -0.10803203719879939, 0.07153843480287134, -0.016185676506457757, -0.07408717740718633, 0.017933655102543026, -0.025662759374155294, -0.01556758012599068, 0.08527406988507144, -0.08805924571968374]\n",
      "- [-0.009659864123904204, 0.10731758375941297, 0.16786700211885588, 0.009292994070643865, -0.1589564001925048, 0.15013565355458774, -0.0384591016113175, 0.2058398975318621, 0.06102529022896721, 0.1804053630933921, -0.03481007565613938, 0.03734640369829694, 0.1428626688847157, -0.002141507821799056, -0.12847068014326918, 0.1368591640559015, 0.11532502253366306, 0.01271741948392989, -0.037910194929080925, 0.14685573848745306, 0.12175913977034576, -0.1336409633021866, -0.10454653649692758, 0.039460944579616894, 0.05259448679425452, 0.1570804271545019, 0.11164315637861655, -0.10126211744084512, -0.15521565618786948, 0.03349606527095389, 0.14683896114795614, -0.005088610508272134, 0.05302746394294, 0.13843913785674503, -0.13193739054641532, -0.17377108261979823, 0.04544238791213191, 0.014487750738679127, -0.17600913663075313, -0.0026169143733142815, 0.0927756745308918, 0.13114230036657318, 0.001348361446882181, -0.019394834555273677, -0.18811099244568275, -0.07501734931203707, -0.16013824456019538, -0.11981044436679678, 0.10811925890575994, 0.027678367760169055, -0.05967320874595652, 0.0392223816097179, 0.10774760234259016, 0.07411455697260132, 0.06304859165042997, 0.010267756618815084, -0.06783775252259228, -0.08339475315997714, 0.1293769803751467, 0.014978163325820247, -0.08898757844602125, -0.14754667056470058, -0.13518066776778115, -0.001992969297746562, -0.1680875945288902, 0.002160110712903887, 0.0268194697651982, 0.1681815255242558, 0.03522650085236158, 0.0923948094080056, -0.10072265806861164, 0.07838986043969241, 0.03701673404098155, -0.1274873822397636, 0.039990248415265627, -0.026925466804826152, -0.16008437318433544, 0.10044720712627687, -0.005561170385027272, -0.03554260480582932, -0.045198386979846336, -0.04337969557106036, -0.06133344188446741, 0.1552369172914287, 0.017350807805114506, 0.03688743646188189, -0.13582647012607818, 0.18049718650732893, -0.044070870992930826, 0.13550045673618807, -0.18555392996533648, 0.10322553825070939, 0.09230607767848834, 0.15550240133613227, 0.007619935765717101, 0.12989858188416656, 0.15392828770289674, 0.05576878780020656]\n",
      "- [0.08790377045531682, -0.04025685476556537, -0.12341903539242026, 0.11708398300740126, 0.1242456596135172, -0.17056203623479022, -0.16092296682212956, 0.010790086971101408, -0.13529758353802446, 0.06477291620256842, 0.1583288074189102, -0.14561544570802867, 0.10006805058631366, -0.1356634321953835, 0.09118783877231937, 0.15142225260705627, 0.08296196964851675, 0.009074784944714549, 0.11085120098143392, 0.14981349643741365, -0.002092961724281567, 0.1541229342391668, 0.11103279794437852, 0.0766772188389497, -0.10198369450842605, -0.06442424622489981, -0.026457466056762975, 0.12825886033072245, -0.03574758737437653, 0.1132156736785654, -0.08222208464255269, 0.17151709979814303, 0.020712759947928646, -0.14133760463090575, 0.08770574312938131, 0.16736901224506343, -0.09607138712068614, 0.01049711166228815, 0.07719807662112944, 0.17885705520531225, -0.08412223242968965, 0.12776465455734756, -0.12576100410921678, -0.03310145758979954, -0.09543583047038982, -0.08926207620652568, -0.10173280410493568, 0.0034623079342242726, -0.11826790775081267, -0.15554429156016397, 0.13739034735959607, 0.032979042326770444, -0.17156015909429848, -0.15067894000134102, 0.0883383001225375, -0.11766390622662921, 0.04805694821520791, -0.02518324010272059, 0.006864963291027252, -0.06838274387010351, 0.029177716732509372, -0.05432250838309145, -0.03488118096282425, 0.11094827118017528, -0.1207224454509663, 0.03111845244431895, -0.17742887384960898, 0.02436357039589762, -0.16133907133639802, 0.08787396155576326, -0.028651753156963767, 0.010876979511665826, 0.14652244431254396, -0.10055947827590057, -0.17600597866409176, 0.13871068562261046, 0.044330054861544524, -0.01860465616422758, 0.04067052081847458, 0.12491050271634928, -0.002848513142857148, 0.004137911423779327, 0.09832390806120464, -0.09387628745420025, 0.08537231844128008, -0.0727801565535706, -0.12997243972631542, -0.023142727080478907, -0.008151605157414485, 0.06804336819667646, -0.13670965649278002, -0.020991401758937985, 0.04988048992798918, -0.09698526419576217, -0.05763879092922855, 0.028079553545462384, 0.12190948064574969, -0.12918455931312603]\n",
      "- [0.0041972177463190765, 0.12612244945671272, -0.15363282170920134, 0.018576410748647555, -0.015723125719591557, 0.1039054847767698, -0.06472590454451393, 0.02919341021828106, -0.01873178135131643, 0.1159952911375872, -0.04318633924133482, 0.0745158748127145, 0.1585129531483756, 0.12550490843743173, 0.0022207136003433554, -0.0689395615069431, 0.01874949530857541, -0.05055819448270746, 0.1424982851472405, -0.09392396615576551, 0.11936119051880562, 0.00046241351030730396, 0.004802429688165789, -0.06403384798976908, 0.18075742287889773, 0.0467307892428968, -0.11769146730291677, 0.007964929686277634, 0.07330526640459835, -0.09563705290763293, -0.13254899362669542, -0.06517776567148394, -0.02279756054267215, -0.15535495204037963, 0.09946089625310783, 0.08039489591112496, -0.01505266362185579, 0.1974147543359128, 0.17103517830411163, 0.18927305599713115, 0.17037000704096172, 0.1733027470279527, -0.1496379108105873, 0.03754697343029783, 0.05475616284586183, 0.09525725214332333, -0.07852901317963389, 0.13505542376363583, -0.1693393943623749, 0.1018196609331622, 0.13432965760412857, 0.15106899147016692, 0.08384531655505154, -0.16808611941659085, -0.03538937712976218, -0.1029673503668896, -0.15236669993730764, -0.03276525505104422, 0.17963549674105922, 0.11178148744020452, -0.101472729196551, -0.0032200849201096224, -0.14557103989587367, 0.14045560280482072, 0.08038842379845025, 0.17271422356055546, -0.1995104069258664, 0.01910159156927033, 0.17578420177030696, 0.12722967054666035, -0.12413864829411062, 0.09523783403176571, 0.049770492214605284, -0.05849624108254157, -0.00186348353284208, 0.19154990667492183, 0.0432471266361339, 0.027280055477328223, 0.07449498125938539, 0.19631727266197516, -0.12942775843940751, -0.14871713849642154, 0.058599362091752975, 0.17444728750589522, -0.06510242784802382, 0.11909134033551634, -0.12565105112319686, -0.17781746018812775, -0.12592914376350856, -0.037628999790249154, 0.11952310175114916, 0.06486288228084706, -0.007582794429096013, 0.12566860843619374, 0.17188146666311246, 0.04232903777369289, -0.08311486833492765, -0.14773814474220723]\n",
      "- [-0.1582880345926718, 0.09136423349618954, -0.13425740696211877, 0.09446662538156844, 0.14255540814346906, -0.1389284341546348, 0.06095408401419106, 0.1741940812202302, -0.11612870272274486, -0.17300310148764494, 0.10438188821430229, -0.03174244006114255, -0.15144546509766554, 0.1324264357147392, -0.12532282803219458, 0.06865701678962725, -0.10804337193043048, 0.06711763707233394, -0.11926095216706564, -0.10181428856248274, -0.08943765567461058, 0.17079781289449542, -0.14397012602580866, 0.1374982563524939, -0.11922966907908111, 0.16449815074734622, -0.15782139565117545, -0.004067474996259337, -0.13265982100198212, -0.0691980902137945, -0.10681860097406652, 0.05950708471478751, -0.13859746343951468, -0.16341146533223874, -0.11237320918216358, -0.07482233584883219, -0.11697280976776363, -0.12850017696555102, -0.03721671941428457, -0.03154989679268639, 0.0932776264419053, 0.06905510429595589, 0.14708031320673592, 0.08228944599421134, 0.14533898846830812, 0.1465679571313498, -0.0305848133545412, 0.1819652747221707, -0.057859521516453384, 0.08099480535459139, 0.17019031275006644, -0.0873596105153752, -0.1662224573086351, 0.060015486207201346, -0.014975212356804575, -0.0018032449610659916, 0.16025824933958968, -0.05937658922995474, 0.01039041670911742, 0.056121006358034284, -0.10808298579543618, 0.1396765705643653, 0.07902244387441046, 0.10002586440721217, 0.020452530649383443, -0.08518983750961368, -0.11631638008139299, -0.06942777536296998, 0.17666019836875546, -0.08810030118856399, 0.1528278032869437, -0.16862086537566953, 0.1061179656289219, 0.17162387521167846, 0.02133318729150745, 0.1543868979976932, -0.096612466393095, 0.15561732658392263, 0.09498889087699479, 0.1516612340656649, 0.16099600997059366, -0.08651551926284362, 0.13711532235436924, -0.13474379223197672, -0.15496484557188558, 0.13873892384166933, -0.1478562590241584, -0.10085363965815332, 0.08495093603343326, -0.1285164901466529, 0.08371572555090427, 0.1275155513016344, 0.015330032510081405, -0.16843564378910053, -0.020292982226694675, 0.14888405525652434, 0.08884786059475301, 8.197863442281083e-07]\n",
      "- [-0.006793028875983972, 0.034195106917202116, 0.011569790401277067, 0.012319804207703108, 0.06579665144625589, 0.04539822718335502, -0.02090319596771219, -0.15015496379923843, 0.1299287089986002, 0.19658553970125323, -0.12339612857133092, -0.1121560018575637, -0.1491586608701551, -0.1807418880456962, 0.020054605749884928, 0.15286368288107274, 0.05155754179312021, 0.0722954172576113, 0.1444699206444692, 0.027075916848133545, -0.11913947469594002, 0.013295366395066371, 0.09548840585898258, 0.12509593874471164, 0.015514397969847405, 0.05063380491733367, -0.10995633658230189, -0.08696183605050894, -0.11215885014201907, 0.07984511829375134, -0.05302755612411399, 0.04724887467597922, 0.0675347609982018, 0.029709023356964088, -0.041120030819353635, -0.018391358122440877, 0.1465901813166832, 0.08959631727037923, -0.07440416575701497, 0.16812473957655988, 0.030323429107550995, 0.14175390171004812, -0.031527293143335015, 0.10132926701137442, 0.12776079896604634, -0.1489553553548455, -0.0882536497945378, 0.04735175615664746, 0.16372926463933746, 0.05708387396428096, -0.059737409996610404, 0.07556758957056811, -0.11658442525857782, -0.17497138977072824, 0.07350966928175899, -0.1835164674244355, -0.052694082648439285, -0.13345986931489992, 0.02517642703441212, 0.12776330850338347, 0.008651864037528791, 0.18164658699696226, 0.1804741960638595, -0.017923854829587835, 0.12575290846404913, 0.1298601238809135, 0.19459880703357763, 0.13047040270080998, -0.01124761713394116, 0.17055097111167344, -0.16370467257200533, -0.05074456711839749, 0.07741212934782739, 0.17567621641966003, 0.05359585244392051, 0.004134219607836855, 0.1733920697669624, -0.016391073934535823, 0.01574817331325844, 0.05404557095850595, 0.0035981853664034547, 0.06040575966997776, 0.161622265804385, 0.10930990318622685, -0.15335580874975333, 0.0018101927507382768, -0.0977816804177067, -0.0205157206567907, 0.10801046279003922, -0.07924111872763684, -0.10789561219461019, 0.16160590867538382, 0.02843672387067635, -0.16978716991478957, -0.04500200715705951, -0.1183170829795138, -0.203856252205155, -0.062958949138615]\n",
      "- [0.10130596398204594, -0.15902275227476048, -0.19061073148698282, 0.09527601677762214, 0.14065027839425587, -0.18551001878425247, 0.044259667710957046, 0.25526593852894336, 0.01979272592023083, -0.15930197815379002, -0.060728684220530536, 0.010748248852841397, -0.0012494674040974306, 0.010523148923127206, -0.14729360085899093, -0.161961986334987, 0.03453167270705614, 0.053500725919809665, 0.15637568495608897, -0.1418403897805259, 0.17518008646152555, -0.1396352375753844, 0.021672532246405588, 0.005852070911006515, 0.05177315005701386, -0.17312102154805967, -0.08653901389106454, -0.12165810373362554, -0.009055023229571607, -0.045100920518527474, 0.14355901469505442, -0.09353294582218784, -0.12667171466823224, 0.11736513473445839, 0.04963598528398058, 0.047326669184316675, 0.12238958036364517, 0.12606603597603308, 0.02956679305236517, -0.09839034887540231, -0.06040288382320272, -0.07961775281158993, -0.0009423532252337466, 0.07049028633296946, -0.15051781036379674, -0.1027531824014096, 0.058769804688794655, -0.08501737400320217, -0.11468758887215508, 0.17918078404977436, 0.06231690514563153, 0.14793947762674423, -0.17466812165955364, -0.1792823766030219, -0.10693525941033427, -0.016889342866177035, 0.1273273001136531, 0.14687255402847021, -0.0710595070361363, -0.15215128737075295, 0.12484485112563554, -0.06576929585868423, -0.004986897594323343, 0.10763687129294953, -0.01142875378922956, 0.1076273000216494, -0.11412358550767711, 0.003482239021608405, 0.05524338061619971, 0.022257061557868624, 0.038680590127400716, -0.09029537462632575, 0.1819439822742194, 0.1526917703135221, 0.1835147563883369, -0.04570420106319583, -0.03746086392662207, -0.13971871989127232, 0.14811664113455164, 0.1019952094510325, 0.038891116806580465, -0.10447995591661764, -0.1003473843520671, 0.17425790352950826, -0.06303801162947703, 0.0069466495152867465, -0.02382093609480287, -0.04562579044238856, 0.03993476257764032, -0.0692369879542725, -0.1874087800437705, 0.17293113112807648, -0.09818912947358512, -0.016850214117896136, -0.1378406098004157, -0.09127944387460091, 0.1469628209613148, -0.010686274061919906]\n",
      "- [0.004805436754824931, -0.16440497537960805, 0.1670390318864097, 0.0267161353731248, 0.025788121887514098, 0.012571507900942483, -0.12551133456263006, 0.07205808507780202, -0.12285879449819703, -0.06554756815225904, -0.1398750034984758, -0.03971515663357097, -0.06303417100664892, -0.10040479708387604, -0.11778668360448324, 0.13976946512419358, -0.05785671520924497, 0.024528606759493542, 0.17444828099798385, -0.01878751302295019, 0.09213307697205188, -0.10892057348833255, 0.08467019366045553, 0.13947865957679054, -0.0986161847687745, -0.011347531285607353, 0.03939880281325599, -0.010389455649539173, 0.04329916439242089, -0.16808334450427612, -0.08739443755169263, 2.46511946762737e-05, 0.12871519836805284, 0.017062020548315317, -0.14430750748267102, -0.048778522749528805, 0.002232098916430531, 0.0283352529244595, 0.13347412377129925, 0.015224540206751524, 0.06822665941565621, -0.14380827961859102, -0.15677273548522605, 0.026370488442181154, -0.15728843179419638, -0.1352566834311924, 0.1179538998991267, 0.0917636483722535, -0.1381748526256801, 0.13967889774700198, 0.05440402075361177, 0.10915674788680042, -0.1286210386933342, -0.1699697996988862, -0.13894720223004464, 0.18577293377920567, 0.07926632946250106, 0.06100548941917873, -0.0910732115228674, -0.11488388271298493, 0.05441450304843661, 0.1043669721305039, 0.17217028508752477, -0.10026039805325493, 0.1016894586973131, -0.16326065390650532, 0.09949263719526419, -0.18215983297247929, 0.09979488929791101, -0.15591754647766348, -0.14595668427350905, 0.03190812386454081, 0.06162135442795276, -0.012029692527441656, -0.16134314618332826, 0.03349285822433486, 0.13974712244963702, 0.021014600582898463, 0.11790526593323807, 0.17754852228415485, -0.09168816879618759, -0.1007124584615869, -0.03669388248932092, -0.0033968755955553, -0.10336331143702276, 0.02859876688567877, 0.06614840320253507, -0.12842296941709846, -0.14459351607181498, 0.0754402532490576, -0.1170494861276817, 0.14557830442593103, 0.039252101985374946, -0.11765816902392418, 0.15625271326652765, 0.021558593302221544, -0.10886108289955282, -0.1395622545112486]\n",
      "- [0.1361208845035951, -0.12110172079866621, 0.1356462962086873, -0.0031885526494473686, 0.03818335352465993, -0.1828795222371745, -0.01021005077828638, -0.23877419213418022, 0.19249277547480526, 0.20077769524169695, 0.06299061707599102, -0.01713567143497165, 0.1886309398316259, 0.143070778315722, 0.08048780003220668, -0.10886127127889701, -0.14683444682895724, -0.0424628302216518, -0.1526736218642503, -0.1029103134680143, -0.08699375411383481, 0.12327094355206607, -0.01258186723104129, 0.1303467167419958, -0.006624042634790795, -0.06605732575104588, 0.14478937908206152, 0.18772360401660307, 0.09425277114429215, -0.14592161583511584, 0.02424750970913229, 0.08344876134191975, 0.10984137429522729, 0.13255487428528703, 0.08683114620194382, 0.12220295474451337, -0.03029752695806516, -0.02633789326002449, 0.11487501637536054, -0.03167653505440847, -0.1182548262223013, 0.13738692652305073, -0.10198915079426052, -0.034244325332960936, 0.10800239281869907, 0.05670131127898892, 0.12629236083663767, -0.19187042327522016, -0.1402777224638718, 0.0900912390127401, -0.08252254564833286, 0.08032137601036311, 0.08650892241061751, -0.007067637133903595, -0.0748677375470165, 0.11671252161943112, 0.06475112892862736, -0.08373689583005955, -0.024257265375574294, 0.03193098849045072, -0.1482612917850721, 0.1400637366279477, -0.1269837133135634, 0.02556252322916589, 0.015026030860766478, 0.10288413091596169, -0.043366213988791764, -0.12316602007647605, -0.11355458034518581, -0.17106462686752816, -0.06658506856061722, 0.01413884760726172, 0.10247174588831445, -0.02257061033751471, -0.11018817016482584, 0.014450655791035926, 0.06863471587668882, -0.023160632670262818, -0.010927933242537798, -0.04438068183989203, 0.11309800587257712, 0.052143723311526245, 0.06598914771366773, 0.006924872818990513, 0.08743377687859831, -0.13596217176140518, -0.04987106895525215, -0.14667794725650027, -0.17948148068533998, -0.10073236686223885, 0.1523103627091305, -0.09546681581508523, 0.0384087366764464, 0.1450375237966029, -0.1311424227514418, -0.17615300976087217, 0.14504164897165667, 0.008791925562043695]\n",
      "- [0.015017033814232486, -0.15270943001073456, -0.17133548562624132, -0.052594876740510554, -0.12082067185233018, 0.17042311448238326, 0.16386574093459888, -0.1821633307227403, -0.1419519363661835, -0.15908421353716945, 0.06867547076741871, 0.1767916982067484, 0.014253149907199423, 0.15451283261824053, -0.1964421029950823, 0.13385909453477413, 0.1482338953356837, 0.049468291777965745, -0.1562460770703711, 0.17543722601811435, 0.02976800414573247, 0.07063612952157969, -0.04826627430113479, 0.11345263139175632, -0.0002478386950416879, 0.008888732172390291, -0.1366858018550104, -0.1302838960731992, -0.14361760545455962, -0.12390890852943313, 0.03569840445673819, -0.1616914839688485, 0.06219115523650407, -0.10013681727975259, 0.03372560074215293, 0.0764102871902729, -0.1554882147729904, 0.1411905019185327, 0.0716249809727848, 0.1653489673895985, 0.09944004228168887, -0.07377286537009092, -0.13437535474595652, -0.07088815832182217, -0.0761796338208849, -0.11474806108158002, 0.09085037304732865, 0.08166825971866226, -0.042687689172193524, -0.1028677616976723, 0.1432370390703488, 0.10058206193772506, 0.08211780452826631, 0.10010332925952875, -0.11480543706682476, -0.15810494808475173, 0.0050042507723469, -0.14632662471446353, -0.10102593702000556, -0.15276231544086646, -0.13546512882596518, -0.07615716977793247, 0.07837282308120537, -0.0628071677803805, 0.032827216667447895, -0.05076113503523237, -0.07354495109686118, -0.026719175150673593, -0.05584930486051853, 0.007797055906506179, -0.13106933450161154, 0.110177654768835, 0.027381941045492308, 0.09331812088281324, -0.006320006511155337, 0.04939478240703178, 0.04844094648732041, 0.09445610715399222, 0.12547325739506834, -0.16508513173702852, -0.20068846594185483, -0.17208281885495658, 0.024226058498845623, -0.11440344239546175, 0.03886456824275878, -0.04491883099415142, 0.015276076157382155, 0.13391360036625322, -0.16123548742301225, 0.050475257289966644, 0.18970976461472244, -0.032937797682576334, 0.0787294975829533, 0.09226735561370478, -0.011246540286981273, -0.08489089406049073, 0.14484900085154073, -0.06597901970634688]\n",
      "- [0.14126611430065011, -0.1403959442137784, -0.11741945887881812, -0.1632831655098232, -0.03770006003387073, 0.1518131607859897, 0.11522398543306772, -0.16052170376279065, 0.14990800209466162, 0.1259974032619792, 0.07150125348160347, -0.06403278271200596, 0.01757694615700786, 0.038303085653141014, -0.08201744151041261, 0.06424162451888489, -0.01078173827882394, 0.16547915301032168, -0.18244785974259267, 0.006820709998550775, 0.17393505893544092, 0.14259099836027334, 0.17167628696376688, -0.13247382387643944, 0.09660374151339311, -0.07585181985440219, 0.16805067862337125, -0.07480753192579023, 0.04136109158177348, -0.0029799362412927855, -0.043139447322174757, 0.026280603170640904, -0.009844729771903538, 0.13932016760462396, 0.0374586891214288, 0.16964769083278655, -0.07683380981132876, 0.11871652379898343, -0.024797556969951895, 0.12606345910154595, -0.19633519897362797, -0.026907555310687007, 0.123735894959945, -0.07913192844325959, -0.08686068250826735, 0.03999139708102076, -0.07574243693663839, 0.11944774207395918, -0.1663862193235678, -0.14131098649823495, -0.1069168706587414, -0.04334479160544346, -0.04852111971639048, 0.18633112679850064, -0.07637622440290602, 0.05999180302640873, -0.01890974239646955, -0.14039259323402542, -0.15452365968032516, 0.02288715291854313, -0.03793212217043828, -0.11044827646798036, 0.03639046702702718, -0.1325770592220477, -0.11451565351181212, -0.06887448636488892, -0.08683999885220348, -0.15638196406115445, -0.08673398154327293, -0.00032891751070547966, 0.0006218966351709959, -0.11198780016864156, 0.14687076433180482, -0.15294003521945737, -0.08693903850421186, 0.03214518627359237, 0.017750494783379228, 0.10339498330343617, -0.11963739357319572, -0.18487824834380284, -0.15899851181575314, 0.0750976664446227, 0.15744555759595555, 0.04041780023612482, -0.1519079278578944, 0.12111345152234845, 0.1267972962892661, -0.09169376835489274, -0.01552793697777091, -0.044409666327734534, 0.10213445298128995, -0.04081584783632384, -0.12511978493972417, 0.08481114692389309, 0.07406230674362828, -0.07889500264139729, 0.014781521549672839, 0.03434032637908551]\n",
      "- [-0.13668551371321216, -0.10510580719586914, -0.062327323260413486, -0.0437183469113882, -0.18165180072497009, 0.10865878493107321, 0.033315988814055265, -0.11795918898910392, 0.009521424763912637, 0.11682925268505971, -0.08490193342242527, 0.09610208520410547, 0.12927295051778814, 0.1825554046019983, -0.17242693665205616, -0.05975997772078653, 0.09681135578896782, 0.03585473697881958, -0.0697822436201898, 0.16911269159728948, -0.15983016522510304, -0.06232937112891678, -0.16609519023230127, 0.013312870067216251, 0.047396460346788204, -0.14166427368580883, 0.06922403814927267, 0.10688632738625545, -0.03942512422378797, 0.05092867291986673, -0.15786950067161523, -0.16951665243709405, 0.07587904930140824, -0.11763018644533806, 0.07939528307656626, -0.054526153464847314, -0.1391759727486494, -0.16549164901373378, 0.06560993844164657, -0.10612079287898685, -0.11302403017553428, 0.05541858523026325, -0.15143429819837934, -0.08086561806445759, -0.1847633864878802, -0.11510058432422794, -0.11137206453809584, 0.022258184104229087, 0.02703043297856743, -0.10152557346075759, 0.09074404366123659, 0.050645447643061434, 0.08044152141052617, -0.10338130161555129, -0.1292037239345731, -0.10427132836135225, 0.05541317276172047, -0.08309465009958941, -0.029590256377642902, -0.06382735288546652, -0.06871947691721401, 0.05025544085346963, 0.10235896525001136, -0.13370572659404234, 0.014384913956974476, -0.180726332991359, -0.07872522547494208, -0.07660536537389964, 0.018399856307562266, 0.16383121842020287, 0.04942568818687566, 0.02591584270042201, 0.055241540777245295, 0.18410207178317656, -0.026166411443349486, 0.13522063051238073, 0.05942034798493552, -0.11464989482846111, -0.0285077665881604, 0.14335030815360492, -0.15732530043263632, 0.05155296510946026, -0.011421911583328271, -0.0966914603325154, 0.08480611912707446, 0.009367527540423156, 0.13079463307310915, -0.16686736708851693, 0.04971900652574472, -0.04750139097313649, 0.1013522057129871, -0.13308474267121942, 0.05903909497806306, -0.0006780788657988315, -0.1319949074868816, 0.17164133302083312, -0.11512168737701034, -0.13063523003147953]\n",
      "- [-0.14038680770619452, 0.07817896319519616, -0.13126837462322388, -0.15114515187546027, -0.12524925586867708, 0.15277021172977853, 0.16442536915860081, -0.06781885992169899, -0.02945103432902324, -0.005129340420782268, 0.05650669270422541, 0.026676333750912332, -0.005556712358163022, -0.07044637554203124, 0.17776778563824783, -0.12745093787887654, -0.08851708042674246, 0.17849195596125977, -0.15588127621503012, 0.05208037181540158, -0.15336266591001582, 0.011633099608964225, 0.15598702732875275, 0.1445100420748856, -0.0048426399854999335, 0.056500704680800554, 0.09498741885833893, 0.06293934234229802, 0.06889812461313785, 0.13404411707984606, 0.08150867945023202, -0.18829422496610573, -0.044392565128386456, -0.15628415384792255, 0.17500895164749802, 0.1541024771095603, 0.10603742375502075, 0.17090205411059664, -0.098906789525237, -0.029637572032087514, 0.01669539870140871, 0.035508956719654934, 0.014170608551287966, 0.07114985153150152, -0.1423113467181687, 0.11513917723199044, -0.1453964538842932, -0.014285008427313737, 0.07075028664396864, -0.1087739145083574, -0.12629784500464097, 0.08690076707334783, 0.1439884007363789, 0.10745194488600947, -0.1586871160373738, -0.14391137725282807, 0.07260839225606534, -0.16694148019150315, -0.14907926244121786, -0.06516351645479641, 0.14743474243352273, 0.023799047577408427, 0.018181337974565403, 0.15877017344261504, -0.10971972628809246, -0.09933932620746802, -0.16382710143547127, -0.09932033168873425, 0.16343253892092707, 0.14088633887056817, 0.12410172897026615, 0.05393437254309357, 0.13416178974979065, 0.07150662573418269, 0.17391720556908788, -0.05225920263403019, 0.13136533810847306, -0.015287477821986402, 0.04047619640566878, -0.18217121804045913, -0.10830972285918541, 0.05587888150550861, 0.03599282644295287, 0.08598823028372331, 0.15174576954518612, 0.15656071794730966, 0.08061071102362073, -0.025575495019865842, -0.17468997031161368, 0.10170763745313796, -0.16657349980279837, -0.16504432827829207, 0.07896322739304466, -0.007681577002826274, 0.1622150825489521, -0.05055402465246946, 0.0698047513305371, 0.19449664234347142]\n",
      "- [0.10924763012385241, 0.01903794157058801, 0.11589390574750305, 0.18042649803813046, 0.08700788393906488, -0.1323883399323532, 0.14708906187975235, -0.16760139453154002, 0.09067985610969284, -0.1062922005611733, -0.09610943812110075, 0.1344796854183317, 0.12825191725176394, 0.15146186423745744, 0.036052788088895005, 0.05006064010802038, 0.03134698362763123, -0.021718258665688193, -0.07745969985882117, -0.008304700270375194, 0.040292772433798245, 0.05499636303898278, 0.1712464867057482, 0.10219959008984698, 0.05827038812470104, 0.06556348831895067, 0.1796085284088254, -0.08682623800358016, -0.108245514833282, 0.1490206153640987, -0.06832947195277132, -0.15816847765783848, 0.11510046796218859, -0.03144558464946289, 0.029010306090753647, -0.006876066054438763, 0.016534372994001026, -0.18189562903141493, -0.08690733880837992, -0.1235970718959373, 0.09043085065954962, -0.026882246140222214, -0.13307449678799088, 0.09123306011276248, -0.13576954668764982, -0.0735644602166325, -0.04173394719882551, 0.16196470101702085, -0.019323511024802228, 0.025364437820997912, -0.1487538571213496, 0.10563025221439719, -0.1447481141500003, 0.10721162718770992, 0.15553248991237736, -0.058320895524527905, -0.09900889265170672, -0.129853050825674, 0.0823625094193593, -0.10264812288821842, 0.1441003136792019, -0.13077698447421046, 0.17291340963082338, -0.1133866757958781, 0.018853832628500097, 0.0766479425390705, 0.17660129863370577, -0.18011113440823842, -0.041076125680767336, -0.012557229686022785, -0.02092191206722646, -0.018460417752262297, 0.03877703976077144, -0.07780774551724637, -0.16437097830460684, -0.09853046080871204, 0.10814713783472411, -0.079077163278432, -0.1465909057576957, 0.164703706241921, 0.0045320119495939155, -0.06572740424423608, -0.14790660922284096, -0.011673558473579562, 0.12315471431295302, 0.046483623916756665, 0.11313993607694037, -0.04087429274524148, -0.16577968269836033, -0.11040184884814534, 0.13453075406082585, -0.07929662565707543, -0.15074598831075944, 0.03164077554538312, -0.1635210636406332, -0.010254887930159058, -0.022598378450940763, 0.006688096989017354]\n",
      "- [-0.04008621985965828, -0.17191693442280054, -0.05553869702578129, -0.11652879198977788, -0.17449118890529502, -0.12584445331548944, 0.0327151495397362, -0.15386078174201667, 0.08982435007163864, 0.11765996117674091, -0.022522489001584173, -0.05285306600533405, -0.08789619053289531, -0.01959860944423423, -0.07817740995329742, 0.12941686243083833, -0.02681519916488432, 0.09148173393511487, -0.053182000329270805, 0.17553261564775716, -0.10410954956273759, 0.03350108105582811, -0.04490387715871976, -0.03356837974804637, -0.0161529237764332, 0.1355951359379578, -0.0322067935450175, -0.06615899613557245, 0.011698683881093543, -0.07345012244689059, -0.03775568071199438, -0.00887394726057834, 0.10160402402261794, 0.023451461400492004, 0.13272028016935883, 0.05240967709531529, -0.10064484156394214, 0.027663755765812474, 0.1042721864500811, 0.008542708945945502, -0.008843488511310275, -0.04485617661358588, -0.08120262274441567, 0.03387710636884574, -0.12719344303115052, 0.060844413734728146, -0.15141662861466024, -0.18695933704992293, 0.09032311108333908, 0.06352548020207273, 0.08173051691350668, 0.16433163710341708, -0.15173133385392007, 0.14064143052680333, -0.05709040621851765, 0.06462171880433501, 0.09275349483222285, -0.004476974663723962, -0.07651972399354569, -0.18099182721898271, -0.17538651288063237, 0.09064978039227042, -0.022096606186640323, 0.05625079613670921, -0.13127169431527413, 0.12703335159083087, 0.02674353495572742, 0.07276096738557386, -0.1701351424432571, -0.11208886247256435, 0.10144030654486755, 0.0212269696060042, -0.06544880315253217, 0.15222712504435065, 0.1565584400431029, -0.18064489975462886, 0.06271348009149351, 0.1601969003060907, 0.0791087128071063, 0.02349733676197896, -0.016745410369148894, 0.013241767892410026, -0.09994986400860563, -0.09697953669334564, 0.06596448986507826, 0.10582144186274842, -0.06928858544804885, 0.011043992237248088, 0.17861170710939817, -0.019362817278165047, 0.0675625404064246, 0.13400866798303293, -0.16554856507174018, 0.03324045746524671, -0.10097924161262149, 0.16150759764551492, -0.016733220495516156, 0.07825198623736143]\n",
      "Hidden Bias\n",
      "[0.13356919954210641, 0.041001833967790204, -0.020117418064642914, 0.07244234188502162, -0.18430660548575922, 0.11935084568254345, -0.15889803316699427, 0.06198759624519878, 0.042180522345054844, -0.1495685310951307, 0.04612780506582878, 0.2227395605271371, -0.1575806538940665, -0.11881801939192607, -0.09436775916335106, -0.19315044590772967, -0.08337446881150443, 0.10454998980021676, -0.023147711945101727, 0.033216800990169354, -0.17521524839354824, 0.12590402590031052, 0.07317981441479467, -0.0393461481590099, 0.13978284458771528, 0.013399843141153818, -0.12983845604640573, 0.07991165032645212, 0.044086603550075605, -0.0617992647395277, 0.1071922878101907, 0.08076453372463777, 0.05315926245351278, -0.05116335501462657, 0.17413664686389482, -0.0591831031420971, 0.0895410526446797, 0.24743879231344312, 0.12365828368471002, -0.27276869503277523, -0.0037775392331585653, -0.008877484222393884, 0.05410053519221723, 0.17580365200938128, -0.0833068306867856, -0.04406655734485608, -0.07261114010576773, 0.09999177393381688, 0.04518988414361794, 0.2233704645884056, 0.19701807156629092, -0.11024270394107165, -0.024202702471721613, 0.01543321540171168, -0.17315632964058056, -0.032399930559238385, -0.2042170101098117, -0.045144970708712304, -0.13919841584005194, 0.005752266315845186, -0.13233347906568657, 0.0027579801591066495, 0.053019976424718895, -0.003286026372925352, 0.1576867677710681, -0.1823962507732191, -0.03660349536980989, 0.03699114136086413, -0.3191091177459752, -0.11945245665805775, 0.002305112431130283, 0.17366523064249412, 0.05330427149266799, 0.01883052728752458, 0.10957642980577442]\n",
      "Output Weights:\n",
      "- [0.1476433413206363]\n",
      "- [0.13325825183662737]\n",
      "- [-0.03612641277864392]\n",
      "- [0.1646642870497442]\n",
      "- [-0.032933930516406466]\n",
      "- [-0.03071802600831389]\n",
      "- [-0.144154730364887]\n",
      "- [0.009180257376189067]\n",
      "- [-0.04603433137998954]\n",
      "- [-0.19400587382790574]\n",
      "- [-0.22673037280986308]\n",
      "- [0.0382260227090515]\n",
      "- [-0.08319132452252932]\n",
      "- [-0.10367231903016717]\n",
      "- [0.022826141852320996]\n",
      "- [-0.08530091546282838]\n",
      "- [-0.10647876344767863]\n",
      "- [0.036186111040008205]\n",
      "- [0.030918026082322594]\n",
      "- [0.17893372698861199]\n",
      "- [0.15265165144428844]\n",
      "- [-0.2164936464621461]\n",
      "- [0.13166425887833008]\n",
      "- [-0.07000248198775509]\n",
      "- [-0.0012550766927145313]\n",
      "- [-0.051181516541644975]\n",
      "- [-0.11672449591771772]\n",
      "- [0.1524905409013491]\n",
      "- [-0.05609241302869328]\n",
      "- [0.06983016914643639]\n",
      "- [0.15676398709278222]\n",
      "- [0.09753636635414799]\n",
      "- [0.1684954014218728]\n",
      "- [0.18225453259160465]\n",
      "- [0.17363938505873772]\n",
      "- [-0.02886884125306061]\n",
      "- [-0.12797368705001302]\n",
      "- [-0.17350301723022474]\n",
      "- [-0.18247224608745874]\n",
      "- [-0.0863936478614764]\n",
      "- [0.015836982782070158]\n",
      "- [-0.17703484474522518]\n",
      "- [0.011054955750878288]\n",
      "- [-0.18820689060617068]\n",
      "- [-0.17860875677147905]\n",
      "- [-0.08200563408251368]\n",
      "- [-0.04730266979275913]\n",
      "- [-0.09724831244716654]\n",
      "- [-0.05994664462375112]\n",
      "- [-0.008613992795010857]\n",
      "- [-0.09677545679868278]\n",
      "- [0.041161354852469696]\n",
      "- [0.04622178805902656]\n",
      "- [0.017368769242481187]\n",
      "- [-0.2048445717537448]\n",
      "- [-0.003557613000652416]\n",
      "- [0.1120418224236892]\n",
      "- [-0.052818263253640516]\n",
      "- [0.027089794641441643]\n",
      "- [-0.2328404022653433]\n",
      "- [0.2168462249994667]\n",
      "- [-0.08158658875557476]\n",
      "- [-0.0030723112760105927]\n",
      "- [-0.12137550666872976]\n",
      "- [-0.15152658893309584]\n",
      "- [0.19375758789977565]\n",
      "- [-0.07469532135054252]\n",
      "- [0.11838923228039501]\n",
      "- [0.1292778241550694]\n",
      "- [0.19243448552594336]\n",
      "- [-0.18146725473075104]\n",
      "- [0.18625803868226848]\n",
      "- [-0.038213266754719796]\n",
      "- [-0.20674218179478704]\n",
      "- [-0.010651206075590478]\n",
      "Output Bias\n",
      "[ 0.1652 -0.1119 -0.3645 -0.1624  0.1556  0.0074  0.1022  0.2095  0.1217\n",
      "  0.2489  0.0068 -0.2679  0.3379  0.0129 -0.1879 -0.0511 -0.2155  0.3961\n",
      "  0.1831 -0.2617 -0.1111 -0.2041 -0.0228 -0.0766 -0.3933]\n"
     ]
    }
   ],
   "source": [
    "#matrix\n",
    "print('Hidden Weights:')\n",
    "for l in model.coefs_[0].T:\n",
    "    print('-', l.tolist())\n",
    "print('Hidden Bias')\n",
    "print(model.intercepts_[0].tolist())\n",
    "\n",
    "print('Output Weights:')\n",
    "for l in model.coefs_[1].T[0]:\n",
    "    print('-', str([l]))\n",
    "print('Output Bias')\n",
    "print(model.intercepts_[1])"
   ]
  },
  {
   "cell_type": "code",
   "execution_count": 46,
   "metadata": {},
   "outputs": [
    {
     "name": "stdout",
     "output_type": "stream",
     "text": [
      "Network weights, w/o bias, input layer is layer #0:\n",
      "Layer #1\n",
      "                  0         1         2         3         4         5   \\\n",
      "Neuron #0  -0.046390 -0.117494 -0.155725  0.163773  0.131818 -0.047770   \n",
      "Neuron #1   0.097321  0.146295  0.164958  0.028519  0.111744  0.134616   \n",
      "Neuron #2  -0.195939 -0.052390  0.027718  0.140987  0.086646  0.071787   \n",
      "Neuron #3  -0.090087  0.101213 -0.105748  0.130819  0.041024  0.071612   \n",
      "Neuron #4  -0.128465  0.086061 -0.091207  0.149953 -0.125640 -0.115195   \n",
      "...              ...       ...       ...       ...       ...       ...   \n",
      "Neuron #70  0.141266 -0.140396 -0.117419 -0.163283 -0.037700  0.151813   \n",
      "Neuron #71 -0.136686 -0.105106 -0.062327 -0.043718 -0.181652  0.108659   \n",
      "Neuron #72 -0.140387  0.078179 -0.131268 -0.151145 -0.125249  0.152770   \n",
      "Neuron #73  0.109248  0.019038  0.115894  0.180426  0.087008 -0.132388   \n",
      "Neuron #74 -0.040086 -0.171917 -0.055539 -0.116529 -0.174491 -0.125844   \n",
      "\n",
      "                  6         7         8         9   ...        88        89  \\\n",
      "Neuron #0  -0.126964 -0.231269  0.087817  0.173868  ...  0.074885 -0.087111   \n",
      "Neuron #1   0.062010 -0.052722  0.078643 -0.118005  ...  0.121807  0.014702   \n",
      "Neuron #2   0.142154 -0.214421 -0.141213 -0.181006  ... -0.022131  0.039538   \n",
      "Neuron #3   0.167704 -0.073989 -0.083690  0.149578  ...  0.127229  0.074033   \n",
      "Neuron #4   0.080508 -0.046787 -0.105880  0.150549  ... -0.155083 -0.150918   \n",
      "...              ...       ...       ...       ...  ...       ...       ...   \n",
      "Neuron #70  0.115224 -0.160522  0.149908  0.125997  ... -0.015528 -0.044410   \n",
      "Neuron #71  0.033316 -0.117959  0.009521  0.116829  ...  0.049719 -0.047501   \n",
      "Neuron #72  0.164425 -0.067819 -0.029451 -0.005129  ... -0.174690  0.101708   \n",
      "Neuron #73  0.147089 -0.167601  0.090680 -0.106292  ... -0.165780 -0.110402   \n",
      "Neuron #74  0.032715 -0.153861  0.089824  0.117660  ...  0.178612 -0.019363   \n",
      "\n",
      "                  90        91        92        93        94        95  \\\n",
      "Neuron #0   0.037388 -0.053376 -0.199520  0.135556  0.157263 -0.177457   \n",
      "Neuron #1  -0.088934 -0.008379 -0.076506 -0.039736 -0.147859 -0.010856   \n",
      "Neuron #2   0.087425  0.172584 -0.074109  0.070125  0.007343  0.024072   \n",
      "Neuron #3   0.163048 -0.163985  0.032098  0.015256  0.193490  0.069222   \n",
      "Neuron #4  -0.156199 -0.112754  0.023676 -0.061364 -0.008096  0.140137   \n",
      "...              ...       ...       ...       ...       ...       ...   \n",
      "Neuron #70  0.102134 -0.040816 -0.125120  0.084811  0.074062 -0.078895   \n",
      "Neuron #71  0.101352 -0.133085  0.059039 -0.000678 -0.131995  0.171641   \n",
      "Neuron #72 -0.166573 -0.165044  0.078963 -0.007682  0.162215 -0.050554   \n",
      "Neuron #73  0.134531 -0.079297 -0.150746  0.031641 -0.163521 -0.010255   \n",
      "Neuron #74  0.067563  0.134009 -0.165549  0.033240 -0.100979  0.161508   \n",
      "\n",
      "                  96        97  \n",
      "Neuron #0   0.106993 -0.073780  \n",
      "Neuron #1   0.093741  0.108581  \n",
      "Neuron #2  -0.098780 -0.005345  \n",
      "Neuron #3  -0.146136  0.114042  \n",
      "Neuron #4  -0.068998  0.124973  \n",
      "...              ...       ...  \n",
      "Neuron #70  0.014782  0.034340  \n",
      "Neuron #71 -0.115122 -0.130635  \n",
      "Neuron #72  0.069805  0.194497  \n",
      "Neuron #73 -0.022598  0.006688  \n",
      "Neuron #74 -0.016733  0.078252  \n",
      "\n",
      "[75 rows x 98 columns]\n",
      "Layer #2\n",
      "                  0         1         2         3         4         5   \\\n",
      "Neuron #0   0.147643  0.133258 -0.036126  0.164664 -0.032934 -0.030718   \n",
      "Neuron #1  -0.139222 -0.134868  0.157470 -0.124496  0.162389  0.060928   \n",
      "Neuron #2   0.090999 -0.021859  0.202047  0.025581 -0.047947  0.077943   \n",
      "Neuron #3   0.096727 -0.182485  0.145576  0.003926 -0.221204 -0.064723   \n",
      "Neuron #4   0.090439  0.126089 -0.023710  0.134691  0.052394 -0.040431   \n",
      "Neuron #5  -0.048525  0.190114 -0.104010 -0.000228 -0.094294 -0.226996   \n",
      "Neuron #6  -0.214655  0.219768  0.051744 -0.225105 -0.176196  0.012031   \n",
      "Neuron #7  -0.055946  0.176487  0.018220 -0.119588 -0.195927 -0.007841   \n",
      "Neuron #8  -0.225362 -0.007621 -0.082189  0.106417  0.177222 -0.048242   \n",
      "Neuron #9  -0.122917 -0.124055 -0.132547  0.003038 -0.249803 -0.179373   \n",
      "Neuron #10  0.162641  0.097460  0.064451  0.105808  0.015846 -0.157891   \n",
      "Neuron #11 -0.023152  0.110576 -0.073804  0.190525  0.035464  0.050178   \n",
      "Neuron #12 -0.152890  0.148391 -0.060328 -0.242396 -0.198474  0.242238   \n",
      "Neuron #13  0.239649 -0.143977 -0.000784 -0.165698 -0.168721  0.052540   \n",
      "Neuron #14 -0.175474 -0.001979  0.046595 -0.119673  0.195949  0.017769   \n",
      "Neuron #15  0.086589  0.158147 -0.216404  0.033605 -0.165450 -0.095759   \n",
      "Neuron #16 -0.123701 -0.100249 -0.010222  0.110251  0.162916 -0.195560   \n",
      "Neuron #17 -0.185268 -0.067362  0.178680 -0.107775 -0.160813  0.053118   \n",
      "Neuron #18 -0.051044  0.087256 -0.201466  0.157948  0.252727  0.093677   \n",
      "Neuron #19 -0.085722  0.077416  0.216915  0.202210 -0.012516  0.187960   \n",
      "Neuron #20  0.034846 -0.127211 -0.128242 -0.142771  0.020855  0.115901   \n",
      "Neuron #21 -0.245907  0.014233 -0.007005  0.025988 -0.199026 -0.166353   \n",
      "Neuron #22 -0.035214  0.241256  0.017931  0.242729 -0.229903 -0.142234   \n",
      "Neuron #23 -0.074110 -0.164093 -0.127383 -0.222817 -0.152364  0.231772   \n",
      "Neuron #24 -0.163823 -0.087510  0.050100 -0.181623 -0.135936  0.085966   \n",
      "\n",
      "                  6         7         8         9   ...        65        66  \\\n",
      "Neuron #0  -0.144155  0.009180 -0.046034 -0.194006  ...  0.193758 -0.074695   \n",
      "Neuron #1   0.093504 -0.026849  0.165654 -0.053181  ... -0.103238 -0.023742   \n",
      "Neuron #2   0.178782 -0.211951  0.087348 -0.105969  ... -0.091588 -0.205290   \n",
      "Neuron #3  -0.004165  0.134364 -0.011772 -0.199861  ... -0.119703 -0.071175   \n",
      "Neuron #4  -0.261319 -0.204730  0.053821  0.102972  ... -0.253121 -0.215600   \n",
      "Neuron #5   0.090829 -0.075600 -0.058109  0.036379  ...  0.089539 -0.084865   \n",
      "Neuron #6  -0.211415  0.024337 -0.125959  0.234734  ... -0.060480  0.073212   \n",
      "Neuron #7  -0.137743  0.151972  0.133448 -0.131757  ... -0.180435 -0.241028   \n",
      "Neuron #8  -0.198989 -0.118590  0.205029 -0.192268  ... -0.115500 -0.105510   \n",
      "Neuron #9   0.166050  0.149294 -0.116421 -0.008744  ... -0.176411 -0.206208   \n",
      "Neuron #10  0.169778 -0.031115  0.063231  0.113349  ... -0.152754  0.106761   \n",
      "Neuron #11 -0.122117  0.162407  0.096816 -0.138672  ... -0.131325  0.175695   \n",
      "Neuron #12  0.106031  0.205606  0.125393 -0.159165  ... -0.230280  0.236326   \n",
      "Neuron #13 -0.005466 -0.042823 -0.104103 -0.242911  ...  0.034728  0.040411   \n",
      "Neuron #14 -0.016114 -0.095041 -0.215264  0.058914  ...  0.183857 -0.128359   \n",
      "Neuron #15 -0.117144 -0.013392  0.098420  0.051103  ... -0.062719 -0.123532   \n",
      "Neuron #16 -0.122419 -0.187394 -0.043122 -0.020444  ...  0.222081 -0.004118   \n",
      "Neuron #17 -0.228208  0.067467  0.108743  0.096230  ...  0.044599  0.215321   \n",
      "Neuron #18 -0.131702  0.052750 -0.196847 -0.212278  ...  0.129328  0.073140   \n",
      "Neuron #19  0.059501 -0.005858  0.074981  0.078424  ...  0.240848 -0.163561   \n",
      "Neuron #20  0.190077 -0.010465 -0.109508 -0.150848  ...  0.120481  0.002443   \n",
      "Neuron #21 -0.159459 -0.176393  0.177557 -0.179480  ...  0.143053 -0.043732   \n",
      "Neuron #22 -0.119174 -0.085521 -0.160031  0.189461  ... -0.196028  0.172623   \n",
      "Neuron #23  0.058919 -0.123468 -0.019947  0.090183  ... -0.157379 -0.199825   \n",
      "Neuron #24 -0.161356  0.028137  0.213714  0.075582  ... -0.060786 -0.127042   \n",
      "\n",
      "                  67        68        69        70        71        72  \\\n",
      "Neuron #0   0.118389  0.129278  0.192434 -0.181467  0.186258 -0.038213   \n",
      "Neuron #1   0.230674 -0.125507  0.000200  0.246151  0.149982  0.000721   \n",
      "Neuron #2   0.131077 -0.217511  0.097426  0.058120 -0.197757 -0.028524   \n",
      "Neuron #3   0.017348  0.053606 -0.234044 -0.194859  0.218422 -0.017923   \n",
      "Neuron #4   0.155697 -0.189720 -0.079883  0.204547 -0.145814  0.018400   \n",
      "Neuron #5  -0.071188  0.189875 -0.208923  0.086030 -0.125857  0.122916   \n",
      "Neuron #6  -0.117300  0.061748 -0.036551 -0.118035 -0.175225 -0.032398   \n",
      "Neuron #7  -0.009971 -0.238189 -0.131862 -0.253655 -0.127547 -0.179202   \n",
      "Neuron #8  -0.104556 -0.151756  0.001750  0.161335 -0.062672  0.166692   \n",
      "Neuron #9   0.074703  0.056160 -0.122946 -0.158542  0.231291  0.028514   \n",
      "Neuron #10  0.201718  0.014735 -0.154738  0.201763 -0.172871 -0.020787   \n",
      "Neuron #11  0.078761 -0.099741  0.042928 -0.119441  0.039937 -0.167924   \n",
      "Neuron #12  0.158629 -0.060728  0.004543 -0.116585 -0.003093  0.019277   \n",
      "Neuron #13  0.204343 -0.137305 -0.038200 -0.021890  0.048396 -0.165427   \n",
      "Neuron #14  0.091254  0.265131 -0.065291  0.182930 -0.219341 -0.283057   \n",
      "Neuron #15 -0.030798  0.200195  0.200314 -0.056376 -0.115235  0.190733   \n",
      "Neuron #16  0.098333  0.126337  0.046392  0.094224 -0.196657 -0.155301   \n",
      "Neuron #17  0.273136 -0.138423 -0.129548  0.084090 -0.004127 -0.103373   \n",
      "Neuron #18  0.114639 -0.209278 -0.110381  0.169358  0.176377  0.134278   \n",
      "Neuron #19  0.100488 -0.196713 -0.097708  0.233839  0.149087 -0.100061   \n",
      "Neuron #20 -0.189956  0.190873  0.098595  0.194908  0.182462  0.041311   \n",
      "Neuron #21  0.145787 -0.130551 -0.000429 -0.018602 -0.050153  0.078012   \n",
      "Neuron #22  0.208035 -0.224159 -0.131470  0.033697  0.007817  0.074769   \n",
      "Neuron #23 -0.198035  0.049968  0.046436  0.038839 -0.113787 -0.111408   \n",
      "Neuron #24  0.185704  0.141535  0.159053  0.004638  0.024012  0.070258   \n",
      "\n",
      "                  73        74  \n",
      "Neuron #0  -0.206742 -0.010651  \n",
      "Neuron #1   0.149599 -0.059636  \n",
      "Neuron #2  -0.119452 -0.139929  \n",
      "Neuron #3  -0.013053  0.106230  \n",
      "Neuron #4  -0.253609  0.209801  \n",
      "Neuron #5  -0.147837 -0.196011  \n",
      "Neuron #6   0.085955 -0.116234  \n",
      "Neuron #7   0.088420 -0.096835  \n",
      "Neuron #8   0.199780  0.084065  \n",
      "Neuron #9  -0.064631 -0.065889  \n",
      "Neuron #10  0.056958  0.130983  \n",
      "Neuron #11 -0.007548 -0.202845  \n",
      "Neuron #12 -0.273562 -0.028677  \n",
      "Neuron #13 -0.004811 -0.079890  \n",
      "Neuron #14  0.124749 -0.006435  \n",
      "Neuron #15  0.099677 -0.182769  \n",
      "Neuron #16 -0.071305 -0.027340  \n",
      "Neuron #17  0.121372 -0.001161  \n",
      "Neuron #18  0.083675 -0.081069  \n",
      "Neuron #19  0.211426  0.047091  \n",
      "Neuron #20  0.237524  0.106604  \n",
      "Neuron #21 -0.114956  0.079810  \n",
      "Neuron #22  0.121550 -0.057883  \n",
      "Neuron #23 -0.229375 -0.200749  \n",
      "Neuron #24 -0.063107  0.161959  \n",
      "\n",
      "[25 rows x 75 columns]\n",
      "Layer #3\n",
      "                  0         1         2         3         4         5   \\\n",
      "Neuron #0  -0.096644 -0.209915  0.272592 -0.254488 -0.243733 -0.211491   \n",
      "Neuron #1  -0.217385 -0.272521 -0.167443 -0.076572 -0.030147  0.105190   \n",
      "Neuron #2  -0.265306  0.267162 -0.025184 -0.231427 -0.281263 -0.033341   \n",
      "Neuron #3  -0.007093  0.038074 -0.060486 -0.102812 -0.202329  0.113522   \n",
      "Neuron #4   0.060029 -0.106308  0.048685  0.111672  0.083120  0.220300   \n",
      "Neuron #5  -0.174168 -0.079119  0.026606 -0.243727  0.110195  0.122030   \n",
      "Neuron #6  -0.097231 -0.164306  0.117370  0.203175  0.093029  0.224775   \n",
      "Neuron #7  -0.029246  0.292991  0.005365 -0.079539 -0.135496  0.000946   \n",
      "Neuron #8  -0.138455  0.201832  0.099337 -0.231260 -0.249417 -0.235535   \n",
      "Neuron #9  -0.083801 -0.143101 -0.100951 -0.219178  0.103243 -0.058983   \n",
      "Neuron #10 -0.136108 -0.107738 -0.172215 -0.195263  0.138410 -0.187805   \n",
      "Neuron #11  0.081938 -0.173024  0.237299  0.108485 -0.206801  0.152553   \n",
      "Neuron #12 -0.069993  0.038198  0.054773  0.236584  0.160284  0.130333   \n",
      "Neuron #13 -0.024519  0.242362 -0.292290  0.151425  0.126534  0.012597   \n",
      "Neuron #14 -0.142031  0.074722 -0.201836 -0.073384 -0.201226  0.164342   \n",
      "Neuron #15  0.041251  0.090954  0.098054  0.150353 -0.010534 -0.079415   \n",
      "Neuron #16 -0.042722  0.106095  0.186807  0.184461 -0.265041 -0.058873   \n",
      "Neuron #17 -0.020352 -0.202052  0.164025 -0.239962  0.048635  0.092501   \n",
      "Neuron #18 -0.158350 -0.095810  0.008722 -0.115759  0.247287  0.024860   \n",
      "Neuron #19  0.003933  0.009932  0.051862  0.132592  0.210845  0.181654   \n",
      "Neuron #20 -0.040638 -0.053164  0.149269 -0.125143  0.219653 -0.220857   \n",
      "Neuron #21  0.019059 -0.105869  0.253411  0.231412  0.154836  0.043401   \n",
      "Neuron #22  0.004928  0.098765  0.193335 -0.144357 -0.059587 -0.097374   \n",
      "Neuron #23  0.115436 -0.113612 -0.056149  0.159300  0.162538 -0.136858   \n",
      "Neuron #24 -0.077863  0.214325  0.259389 -0.052075  0.270283 -0.137408   \n",
      "Neuron #25 -0.156616 -0.236142 -0.224100  0.218365 -0.092469  0.114787   \n",
      "Neuron #26  0.234842  0.260392  0.248570 -0.124961 -0.245289 -0.078836   \n",
      "Neuron #27 -0.059150 -0.230560  0.005336  0.049363 -0.003954 -0.160067   \n",
      "Neuron #28  0.181325 -0.180267  0.116733 -0.268262 -0.089830  0.226050   \n",
      "Neuron #29  0.216162 -0.002351  0.182935  0.166914 -0.160410 -0.022300   \n",
      "Neuron #30  0.080360  0.225433 -0.090662 -0.259214  0.242794  0.019465   \n",
      "Neuron #31  0.154961 -0.099375  0.225445  0.074465 -0.202194 -0.058906   \n",
      "Neuron #32  0.229188  0.106999 -0.118875  0.040096  0.098733 -0.130417   \n",
      "Neuron #33 -0.004686 -0.069695 -0.220280  0.232005 -0.167265 -0.208870   \n",
      "Neuron #34 -0.049327 -0.268062  0.147421  0.235997  0.167901 -0.252448   \n",
      "Neuron #35  0.130496  0.094004  0.244804 -0.146635 -0.117064  0.233502   \n",
      "Neuron #36  0.038395 -0.188252  0.201589 -0.122894  0.074109 -0.228382   \n",
      "Neuron #37 -0.234066 -0.190804 -0.080497  0.098453  0.060189  0.015961   \n",
      "Neuron #38  0.174941  0.147592 -0.106801 -0.121749  0.103978  0.250358   \n",
      "Neuron #39 -0.167454  0.043388 -0.157472 -0.175343 -0.161929 -0.208348   \n",
      "Neuron #40 -0.155638  0.172333 -0.007756 -0.186831  0.011797  0.065861   \n",
      "Neuron #41  0.208844 -0.138184  0.258760 -0.263742 -0.098220  0.134291   \n",
      "Neuron #42  0.171756 -0.252802 -0.001092 -0.025387 -0.174683 -0.237393   \n",
      "Neuron #43  0.150110  0.198515 -0.157771 -0.013428 -0.018609 -0.041665   \n",
      "Neuron #44  0.270936  0.110525 -0.192801 -0.043233  0.207827  0.133235   \n",
      "Neuron #45  0.249733 -0.279048  0.247214  0.268335  0.047724  0.131978   \n",
      "Neuron #46 -0.207405  0.091219  0.088757  0.086204  0.058141  0.083806   \n",
      "Neuron #47 -0.013112 -0.135613  0.127054  0.037778  0.036179  0.164707   \n",
      "Neuron #48 -0.122246 -0.056877  0.056408 -0.240768 -0.244545  0.052588   \n",
      "Neuron #49  0.216680  0.163716  0.069930 -0.028935  0.209696 -0.070454   \n",
      "\n",
      "                  6         7         8         9   ...        15        16  \\\n",
      "Neuron #0  -0.033143  0.016775 -0.184371  0.154083  ... -0.230863 -0.039954   \n",
      "Neuron #1  -0.140811 -0.232176  0.094448  0.198990  ... -0.145678 -0.023509   \n",
      "Neuron #2  -0.091249 -0.155122 -0.024544  0.127173  ...  0.146492 -0.004361   \n",
      "Neuron #3   0.205168 -0.096290 -0.243954  0.219762  ...  0.198457 -0.251900   \n",
      "Neuron #4   0.027064  0.258310  0.017098  0.040384  ... -0.001214 -0.120870   \n",
      "Neuron #5  -0.236957 -0.038392 -0.034415  0.246172  ...  0.036841 -0.230081   \n",
      "Neuron #6   0.097280  0.240486  0.214825  0.227656  ...  0.042228 -0.034041   \n",
      "Neuron #7   0.131985  0.037901  0.092965 -0.030830  ... -0.074136  0.183938   \n",
      "Neuron #8  -0.061758 -0.254942 -0.135301 -0.009950  ...  0.014378  0.257789   \n",
      "Neuron #9  -0.078553  0.092055 -0.163652  0.200426  ... -0.050641  0.021756   \n",
      "Neuron #10 -0.223421 -0.268114 -0.227444 -0.057536  ... -0.135995 -0.081509   \n",
      "Neuron #11  0.023693  0.129599 -0.013798  0.248280  ...  0.021124  0.169810   \n",
      "Neuron #12 -0.130491 -0.058124 -0.083968 -0.119888  ...  0.223891  0.262212   \n",
      "Neuron #13  0.220328  0.028153  0.050861 -0.131078  ... -0.189800 -0.009941   \n",
      "Neuron #14  0.189784  0.150875 -0.244382 -0.218232  ...  0.127838 -0.155006   \n",
      "Neuron #15  0.080691  0.228515 -0.138075 -0.141386  ... -0.050019  0.044774   \n",
      "Neuron #16  0.217034  0.270619  0.003979  0.021489  ...  0.055530 -0.200820   \n",
      "Neuron #17  0.261590  0.181887 -0.070933  0.273517  ...  0.070049  0.161229   \n",
      "Neuron #18  0.080537 -0.295568  0.060163 -0.175509  ... -0.271988  0.107351   \n",
      "Neuron #19  0.271574  0.052615 -0.070604  0.026005  ...  0.161054  0.161942   \n",
      "Neuron #20  0.024474 -0.106126 -0.024806  0.215500  ... -0.238157  0.084496   \n",
      "Neuron #21 -0.118665  0.119877 -0.150325  0.050587  ... -0.243918 -0.245582   \n",
      "Neuron #22 -0.016049 -0.103118 -0.110230  0.192866  ... -0.022519 -0.071273   \n",
      "Neuron #23 -0.053381  0.026614 -0.215750 -0.148761  ...  0.138384 -0.233360   \n",
      "Neuron #24  0.061316  0.241978  0.149997 -0.240874  ...  0.222521  0.230962   \n",
      "Neuron #25 -0.024952 -0.137821  0.171151  0.261277  ...  0.116223  0.256601   \n",
      "Neuron #26 -0.110742 -0.226751 -0.261263 -0.223796  ...  0.247681  0.212250   \n",
      "Neuron #27  0.069839  0.011873 -0.190862  0.171172  ... -0.253824 -0.119405   \n",
      "Neuron #28  0.174292  0.237891  0.169717  0.084939  ...  0.218481 -0.112311   \n",
      "Neuron #29 -0.223795 -0.189492  0.225394  0.200756  ...  0.173065  0.078979   \n",
      "Neuron #30 -0.036268 -0.137351 -0.074813  0.067997  ... -0.265543  0.204037   \n",
      "Neuron #31  0.087260 -0.267515  0.096166 -0.114763  ...  0.184765  0.119039   \n",
      "Neuron #32 -0.257396 -0.274441 -0.184528  0.235606  ...  0.021364 -0.128156   \n",
      "Neuron #33  0.212135  0.013392  0.211595  0.108532  ...  0.069033  0.006025   \n",
      "Neuron #34  0.107639  0.198549  0.185931  0.212297  ...  0.005668  0.167000   \n",
      "Neuron #35  0.154645 -0.036984 -0.146475  0.173260  ...  0.152080  0.062443   \n",
      "Neuron #36 -0.010539 -0.137016  0.062764 -0.198179  ... -0.036193 -0.071395   \n",
      "Neuron #37  0.273676  0.255384  0.127949  0.112767  ... -0.202323  0.134601   \n",
      "Neuron #38 -0.200839  0.075733  0.215631  0.104489  ...  0.161085 -0.210527   \n",
      "Neuron #39  0.249306  0.214269 -0.015458  0.148141  ...  0.111253  0.273497   \n",
      "Neuron #40  0.287806 -0.211946 -0.211465  0.167777  ...  0.170227 -0.233798   \n",
      "Neuron #41 -0.235201 -0.030168 -0.223152  0.246573  ...  0.185584  0.161378   \n",
      "Neuron #42 -0.103507  0.196356  0.022709 -0.241275  ...  0.080707 -0.149542   \n",
      "Neuron #43  0.259042  0.220456 -0.243446  0.010051  ... -0.051110 -0.067810   \n",
      "Neuron #44 -0.058000  0.223179  0.072273  0.007263  ... -0.041183 -0.205432   \n",
      "Neuron #45  0.181598  0.067591 -0.264772  0.115760  ... -0.043245 -0.069378   \n",
      "Neuron #46 -0.128340  0.153153 -0.268417  0.284093  ...  0.069628 -0.270903   \n",
      "Neuron #47  0.018985  0.098758 -0.245716  0.226545  ... -0.109112  0.161999   \n",
      "Neuron #48 -0.030371  0.183473 -0.065183 -0.113099  ...  0.193231 -0.084941   \n",
      "Neuron #49 -0.092410  0.073326 -0.067131 -0.094993  ...  0.107013 -0.087309   \n",
      "\n",
      "                  17        18        19        20        21        22  \\\n",
      "Neuron #0   0.088324  0.197184  0.010743 -0.160783  0.254874  0.260753   \n",
      "Neuron #1   0.323624  0.218247  0.007753 -0.285038 -0.265614 -0.098208   \n",
      "Neuron #2   0.012076 -0.049036  0.096034  0.135438 -0.063218 -0.178829   \n",
      "Neuron #3  -0.042267  0.066731 -0.174458  0.105398 -0.197494 -0.138391   \n",
      "Neuron #4  -0.244050 -0.065459  0.126151 -0.209862  0.228782 -0.067595   \n",
      "Neuron #5  -0.174915  0.221243  0.236643 -0.206942 -0.070756 -0.191577   \n",
      "Neuron #6  -0.134639  0.173804  0.123028 -0.112233  0.123825  0.154958   \n",
      "Neuron #7   0.153453 -0.252550  0.118159 -0.138074  0.020397 -0.055524   \n",
      "Neuron #8   0.172517 -0.263419  0.031959 -0.021783 -0.035496 -0.082228   \n",
      "Neuron #9   0.138916  0.120519  0.244668 -0.041815 -0.226178 -0.154621   \n",
      "Neuron #10  0.116840 -0.250086  0.048569  0.041051  0.212033 -0.144012   \n",
      "Neuron #11 -0.253772  0.234212 -0.023292  0.086896 -0.188025  0.036507   \n",
      "Neuron #12 -0.278856  0.173968 -0.037810 -0.161483  0.143712 -0.058386   \n",
      "Neuron #13  0.001401  0.070830 -0.276024 -0.006830  0.086103 -0.289706   \n",
      "Neuron #14 -0.265729  0.152535  0.256526  0.044559 -0.021240 -0.099569   \n",
      "Neuron #15 -0.160351  0.066847 -0.235133 -0.064601 -0.250025  0.131775   \n",
      "Neuron #16 -0.300328 -0.008012  0.114313  0.206489 -0.114060  0.103008   \n",
      "Neuron #17  0.202515  0.140842 -0.118038  0.052606  0.018466  0.048128   \n",
      "Neuron #18 -0.177359 -0.137729 -0.075344  0.032273 -0.035509 -0.152328   \n",
      "Neuron #19 -0.140189  0.130532  0.194166  0.136052  0.071583  0.122678   \n",
      "Neuron #20 -0.237842 -0.156352 -0.128644 -0.047405 -0.104610 -0.242255   \n",
      "Neuron #21 -0.254178 -0.234268  0.049349  0.065410  0.226919  0.201465   \n",
      "Neuron #22 -0.195083 -0.218873  0.134619 -0.091067  0.264467  0.154081   \n",
      "Neuron #23 -0.020520 -0.284722  0.242394  0.218710 -0.044674 -0.059096   \n",
      "Neuron #24 -0.248407  0.272604 -0.131032  0.250783  0.112918 -0.034083   \n",
      "Neuron #25  0.079513  0.148148  0.111297 -0.201942  0.049160  0.213297   \n",
      "Neuron #26  0.081269 -0.205420  0.168118  0.069335  0.035798 -0.007246   \n",
      "Neuron #27  0.109272 -0.082423 -0.000633  0.026545 -0.141136  0.232275   \n",
      "Neuron #28 -0.266202  0.079673 -0.200557 -0.239094  0.118335  0.267254   \n",
      "Neuron #29  0.203026  0.175602 -0.032302  0.268931 -0.107065 -0.037689   \n",
      "Neuron #30 -0.259929  0.067930 -0.187796 -0.004322  0.226921  0.144578   \n",
      "Neuron #31 -0.203534  0.063993  0.057720  0.008012  0.234926  0.205727   \n",
      "Neuron #32  0.021100 -0.179109 -0.122884  0.030137 -0.277571  0.116786   \n",
      "Neuron #33  0.129486  0.217798  0.112112  0.113927  0.055605 -0.178834   \n",
      "Neuron #34 -0.146321  0.087751 -0.012429  0.098498 -0.132026  0.167525   \n",
      "Neuron #35  0.133949 -0.272361  0.261370 -0.076484 -0.029873  0.281881   \n",
      "Neuron #36  0.329193  0.288504 -0.231756 -0.181803 -0.079458  0.167191   \n",
      "Neuron #37 -0.000319 -0.203671  0.013457  0.058383  0.219344 -0.218773   \n",
      "Neuron #38  0.060137  0.066392  0.176635  0.149310 -0.161083  0.110868   \n",
      "Neuron #39 -0.032913 -0.148702  0.259951  0.057695 -0.175965 -0.119900   \n",
      "Neuron #40 -0.146825 -0.281770  0.131066 -0.012752 -0.247514  0.023544   \n",
      "Neuron #41 -0.161666 -0.185608 -0.138824 -0.132365  0.282104 -0.087029   \n",
      "Neuron #42  0.037975  0.079550 -0.095662 -0.220698 -0.161208  0.261533   \n",
      "Neuron #43  0.201687  0.083959 -0.064955 -0.067745  0.016221 -0.275025   \n",
      "Neuron #44  0.256457  0.081205  0.021056  0.100542 -0.141119  0.105624   \n",
      "Neuron #45 -0.274416  0.075019  0.234241 -0.247921 -0.094227  0.030168   \n",
      "Neuron #46 -0.006823  0.245221  0.149124  0.030157 -0.038060 -0.075864   \n",
      "Neuron #47 -0.024255 -0.142171 -0.252194 -0.246625 -0.090006  0.208644   \n",
      "Neuron #48  0.273872  0.213703 -0.077515 -0.203078  0.273255 -0.250055   \n",
      "Neuron #49 -0.117820 -0.136168 -0.014710  0.002555 -0.281910  0.132341   \n",
      "\n",
      "                  23        24  \n",
      "Neuron #0  -0.078782  0.000921  \n",
      "Neuron #1  -0.120103  0.019588  \n",
      "Neuron #2   0.193929 -0.259725  \n",
      "Neuron #3  -0.133072  0.116189  \n",
      "Neuron #4   0.247838  0.099308  \n",
      "Neuron #5  -0.087176  0.072664  \n",
      "Neuron #6  -0.127556  0.177553  \n",
      "Neuron #7   0.108606  0.028661  \n",
      "Neuron #8   0.205921  0.213719  \n",
      "Neuron #9   0.092198 -0.145271  \n",
      "Neuron #10 -0.270832  0.213267  \n",
      "Neuron #11 -0.163130 -0.097431  \n",
      "Neuron #12 -0.110501  0.106125  \n",
      "Neuron #13 -0.139834 -0.004989  \n",
      "Neuron #14  0.240099  0.222877  \n",
      "Neuron #15  0.185582 -0.017664  \n",
      "Neuron #16  0.115134  0.196389  \n",
      "Neuron #17 -0.080802 -0.256838  \n",
      "Neuron #18 -0.217247  0.192557  \n",
      "Neuron #19 -0.207680 -0.142992  \n",
      "Neuron #20  0.120304  0.134068  \n",
      "Neuron #21  0.143243  0.192056  \n",
      "Neuron #22 -0.221545  0.214364  \n",
      "Neuron #23 -0.199682 -0.114482  \n",
      "Neuron #24 -0.138951 -0.020840  \n",
      "Neuron #25  0.158350  0.012147  \n",
      "Neuron #26 -0.151570  0.049315  \n",
      "Neuron #27 -0.265524 -0.269491  \n",
      "Neuron #28  0.179692 -0.060885  \n",
      "Neuron #29  0.287381 -0.138396  \n",
      "Neuron #30 -0.018277 -0.116671  \n",
      "Neuron #31  0.098597  0.007590  \n",
      "Neuron #32 -0.110656 -0.101905  \n",
      "Neuron #33 -0.017438  0.002084  \n",
      "Neuron #34 -0.018673 -0.188529  \n",
      "Neuron #35 -0.086928 -0.092556  \n",
      "Neuron #36  0.152970 -0.261519  \n",
      "Neuron #37  0.244777 -0.247199  \n",
      "Neuron #38 -0.000273 -0.010053  \n",
      "Neuron #39 -0.025758 -0.233495  \n",
      "Neuron #40  0.014585 -0.035955  \n",
      "Neuron #41  0.144045 -0.115475  \n",
      "Neuron #42  0.018729 -0.182930  \n",
      "Neuron #43 -0.027150 -0.061525  \n",
      "Neuron #44 -0.203500 -0.147411  \n",
      "Neuron #45 -0.115191  0.036900  \n",
      "Neuron #46  0.200796 -0.188583  \n",
      "Neuron #47  0.169581 -0.271550  \n",
      "Neuron #48  0.238079  0.144004  \n",
      "Neuron #49 -0.270530 -0.066368  \n",
      "\n",
      "[50 rows x 25 columns]\n",
      "Layer #4\n",
      "                 0         1         2         3         4         5   \\\n",
      "Neuron #0  0.047374  0.036718 -0.288160 -0.253459 -0.129101  0.030640   \n",
      "Neuron #1 -0.006834 -0.378859 -0.088384  0.132596 -0.230097 -0.032199   \n",
      "Neuron #2  0.259549  0.188458  0.047082  0.071295 -0.201631  0.324508   \n",
      "Neuron #3  0.095499  0.093810  0.083580 -0.051360  0.259394 -0.281559   \n",
      "Neuron #4  0.223893 -0.049415 -0.177783 -0.083762  0.047149  0.191649   \n",
      "Neuron #5  0.137280 -0.347764  0.202706 -0.031052  0.063916  0.225688   \n",
      "Neuron #6 -0.023026 -0.317350 -0.257291 -0.135858  0.325618  0.043272   \n",
      "Neuron #7  0.095310  0.031016  0.263842  0.028726  0.268461  0.239726   \n",
      "Neuron #8 -0.217969  0.245046  0.235709 -0.012750  0.142357 -0.017082   \n",
      "Neuron #9 -0.196276 -0.224046  0.276821  0.148903 -0.161151 -0.236831   \n",
      "\n",
      "                 6         7         8         9   ...        40        41  \\\n",
      "Neuron #0  0.282681  0.060499 -0.187386 -0.010851  ...  0.379231 -0.021693   \n",
      "Neuron #1 -0.244620  0.179478 -0.107841 -0.118637  ... -0.138589  0.019067   \n",
      "Neuron #2 -0.295617 -0.224655 -0.237963  0.103927  ...  0.190386 -0.194258   \n",
      "Neuron #3 -0.032787  0.103506  0.239315  0.174529  ...  0.015742  0.304209   \n",
      "Neuron #4 -0.210561  0.372467  0.012721 -0.009836  ... -0.270673 -0.124603   \n",
      "Neuron #5  0.278470  0.148648 -0.077455 -0.153165  ... -0.092491  0.091525   \n",
      "Neuron #6 -0.292996 -0.180343  0.103495  0.244192  ...  0.120785 -0.284314   \n",
      "Neuron #7  0.268198 -0.149267  0.057332  0.251439  ...  0.239438  0.049408   \n",
      "Neuron #8 -0.269965 -0.018588 -0.165782  0.097741  ... -0.271942  0.259981   \n",
      "Neuron #9 -0.150340 -0.277166  0.296102 -0.176394  ...  0.147247 -0.017570   \n",
      "\n",
      "                 42        43        44        45        46        47  \\\n",
      "Neuron #0 -0.269432 -0.355646 -0.242835  0.065764 -0.280181  0.163561   \n",
      "Neuron #1  0.070277 -0.289206 -0.280378  0.121451  0.133636  0.017349   \n",
      "Neuron #2  0.092169 -0.169524  0.131056  0.037036  0.106268  0.217130   \n",
      "Neuron #3  0.157320 -0.306062 -0.120750  0.109130 -0.306513 -0.155046   \n",
      "Neuron #4 -0.085225 -0.080362  0.122922  0.044177  0.156825 -0.236638   \n",
      "Neuron #5  0.163344 -0.178735 -0.093261 -0.147367  0.209398 -0.274537   \n",
      "Neuron #6 -0.316744 -0.141563  0.107088  0.357675 -0.013360  0.186056   \n",
      "Neuron #7  0.237204  0.015258 -0.079770 -0.152074 -0.314049  0.203967   \n",
      "Neuron #8 -0.265922 -0.289031 -0.158241 -0.124948 -0.249034 -0.134572   \n",
      "Neuron #9 -0.021657  0.127233  0.183705  0.145063  0.173168 -0.221278   \n",
      "\n",
      "                 48        49  \n",
      "Neuron #0 -0.127975 -0.087918  \n",
      "Neuron #1  0.103833 -0.086046  \n",
      "Neuron #2 -0.241229 -0.270946  \n",
      "Neuron #3  0.146616 -0.186565  \n",
      "Neuron #4  0.157272  0.008418  \n",
      "Neuron #5 -0.142949  0.248689  \n",
      "Neuron #6 -0.112506 -0.237396  \n",
      "Neuron #7 -0.237364  0.298859  \n",
      "Neuron #8 -0.211709  0.262419  \n",
      "Neuron #9 -0.203350 -0.068472  \n",
      "\n",
      "[10 rows x 50 columns]\n",
      "Layer #5\n",
      "                  0         1         2        3       4        5         6  \\\n",
      "Neuron #0  0.473412  0.545689 -0.269436  0.08247 -0.5366  0.57422  0.945011   \n",
      "\n",
      "                  7       8         9  \n",
      "Neuron #0  0.454417 -0.1928 -0.135487  \n"
     ]
    }
   ],
   "source": [
    "# display the network weights for each layer rows in each table represent a\n",
    "# neuron, and columns represent the input from the previous layer, a cell\n",
    "# gives us the weight to use for a given neuron + input value\n",
    "print('Network weights, w/o bias, input layer is layer #0:')\n",
    "for i, weight_matrix in enumerate(model.coefs_, start=1):\n",
    "    print('Layer #%d' % i)\n",
    "    if i == 1:\n",
    "        weight_matrix_df = pd.DataFrame(weight_matrix.transpose())\n",
    "        #weight_matrix_df.columns = df.drop('species', axis=1).columns\n",
    "\n",
    "    else:\n",
    "        weight_matrix_df = pd.DataFrame(weight_matrix.transpose())\n",
    "        #weight_matrix_df.columns = ['Neuron #%d from layer #%d' % (c, i - 1)\n",
    "        #                            for c in weight_matrix_df.columns]\n",
    "\n",
    "    weight_matrix_df.index = weight_matrix_df.index.map(\n",
    "        lambda x: 'Neuron #%d' % x)\n",
    "    print(weight_matrix_df)\n",
    "\n",
    "    print"
   ]
  },
  {
   "cell_type": "markdown",
   "metadata": {},
   "source": [
    "## --------------------------------------\n",
    "## Regression ML\n",
    "## --------------------------------------"
   ]
  },
  {
   "cell_type": "code",
   "execution_count": 47,
   "metadata": {},
   "outputs": [],
   "source": [
    "df = data.copy()\n",
    "\n",
    "train = df[df.season <2019]\n",
    "X_train = train.drop(['driver', 'podium'], axis = 1)\n",
    "y_train = train.podium\n",
    "\n",
    "scaler = StandardScaler()\n",
    "X_train = pd.DataFrame(scaler.fit_transform(X_train), columns = X_train.columns)"
   ]
  },
  {
   "cell_type": "code",
   "execution_count": 48,
   "metadata": {},
   "outputs": [],
   "source": [
    "def score_regression(model):\n",
    "    score = 0\n",
    "    acc = 0\n",
    "    for circuit in df[df.season == 2019]['round'].unique():\n",
    "\n",
    "        test = df[(df.season == 2019) & (df['round'] == circuit)]\n",
    "        X_test = test.drop(['driver', 'podium'], axis = 1)\n",
    "        y_test = test.podium\n",
    "\n",
    "        #scaling\n",
    "        X_test = pd.DataFrame(scaler.transform(X_test), columns = X_test.columns)\n",
    "\n",
    "        # make predictions\n",
    "        prediction_df = pd.DataFrame(model.predict(X_test), columns = ['results'])\n",
    "        prediction_df['podium'] = y_test.reset_index(drop = True)\n",
    "        prediction_df['actual'] = prediction_df.podium.map(lambda x: 1 if x == 1 else 0)\n",
    "        prediction_df.sort_values('results', ascending = True, inplace = True)\n",
    "        prediction_df.reset_index(inplace = True, drop = True)\n",
    "        prediction_df['predicted'] = prediction_df.index\n",
    "        prediction_df['predicted'] = prediction_df.predicted.map(lambda x: 1 if x == 0 else 0)\n",
    "\n",
    "        score += precision_score(prediction_df.actual, prediction_df.predicted)\n",
    "        acc += accuracy_score(prediction_df.actual, prediction_df.predicted)\n",
    "\n",
    "    model_score = score / df[df.season == 2019]['round'].unique().max()\n",
    "    model_acc = acc / df[df.season == 2019]['round'].unique().max()\n",
    "    return model_score,model_acc"
   ]
  },
  {
   "cell_type": "markdown",
   "metadata": {},
   "source": [
    "# Linear Regression"
   ]
  },
  {
   "cell_type": "code",
   "execution_count": 49,
   "metadata": {},
   "outputs": [],
   "source": [
    "fit_intercept='True'"
   ]
  },
  {
   "cell_type": "code",
   "execution_count": 50,
   "metadata": {},
   "outputs": [],
   "source": [
    "# Linear Regression\n",
    "\n",
    "model_params = (fit_intercept)\n",
    "model = LinearRegression(fit_intercept = fit_intercept)\n",
    "model.fit(X_train, y_train)\n",
    "\n",
    "model_score, model_acc = score_regression(model)\n",
    "            \n",
    "comparison_dict['modelname'].append('linear_regression')\n",
    "comparison_dict['params'].append(model_params)\n",
    "comparison_dict['score'].append(model_score)\n",
    "comparison_dict['model'].append(model)"
   ]
  },
  {
   "cell_type": "code",
   "execution_count": 51,
   "metadata": {},
   "outputs": [
    {
     "name": "stdout",
     "output_type": "stream",
     "text": [
      "0.47619047619047616\n"
     ]
    }
   ],
   "source": [
    "print(model_score)"
   ]
  },
  {
   "cell_type": "code",
   "execution_count": 52,
   "metadata": {},
   "outputs": [
    {
     "name": "stdout",
     "output_type": "stream",
     "text": [
      "0.942119186856029\n"
     ]
    }
   ],
   "source": [
    "print(model_acc)"
   ]
  },
  {
   "cell_type": "code",
   "execution_count": 53,
   "metadata": {},
   "outputs": [
    {
     "name": "stdout",
     "output_type": "stream",
     "text": [
      "Saving model ...\n",
      "    MODEL: ./models/linear_regression.pkl\n"
     ]
    }
   ],
   "source": [
    "model_filepath='./models/{}.pkl'.format('linear_regression')\n",
    "print('Saving model ...\\n    MODEL: {}'.format(model_filepath))\n",
    "save_model(model, model_filepath)"
   ]
  },
  {
   "cell_type": "markdown",
   "metadata": {},
   "source": [
    "## Random Forest Regressor"
   ]
  },
  {
   "cell_type": "code",
   "execution_count": 54,
   "metadata": {},
   "outputs": [],
   "source": [
    "criterion='mse'\n",
    "max_features=None\n",
    "max_depth= 9.0"
   ]
  },
  {
   "cell_type": "code",
   "execution_count": 55,
   "metadata": {},
   "outputs": [],
   "source": [
    "# Random Forest Regressor\n",
    "\n",
    "model_params = (criterion, max_features, max_depth)\n",
    "model = RandomForestRegressor(criterion = criterion,\n",
    "                              max_features = max_features, max_depth = max_depth, random_state = 1)\n",
    "model.fit(X_train, y_train)\n",
    "\n",
    "model_score,model_acc = score_regression(model)\n",
    "\n",
    "comparison_dict['modelname'].append('random_forest_regressor')\n",
    "comparison_dict['params'].append(model_params)\n",
    "comparison_dict['score'].append(model_score)\n",
    "comparison_dict['model'].append(model)"
   ]
  },
  {
   "cell_type": "code",
   "execution_count": 56,
   "metadata": {},
   "outputs": [
    {
     "name": "stdout",
     "output_type": "stream",
     "text": [
      "0.5238095238095238\n"
     ]
    }
   ],
   "source": [
    "print(model_score)"
   ]
  },
  {
   "cell_type": "code",
   "execution_count": 57,
   "metadata": {},
   "outputs": [
    {
     "name": "stdout",
     "output_type": "stream",
     "text": [
      "0.9479114452798663\n"
     ]
    }
   ],
   "source": [
    "print(model_acc)"
   ]
  },
  {
   "cell_type": "code",
   "execution_count": 58,
   "metadata": {},
   "outputs": [
    {
     "name": "stdout",
     "output_type": "stream",
     "text": [
      "Saving model ...\n",
      "    MODEL: ./models/random_forest_regressor.pkl\n"
     ]
    }
   ],
   "source": [
    "model_filepath='./models/{}.pkl'.format('random_forest_regressor')\n",
    "print('Saving model ...\\n    MODEL: {}'.format(model_filepath))\n",
    "save_model(model, model_filepath)"
   ]
  },
  {
   "cell_type": "markdown",
   "metadata": {},
   "source": [
    "## SVM Regressor"
   ]
  },
  {
   "cell_type": "code",
   "execution_count": 59,
   "metadata": {},
   "outputs": [],
   "source": [
    "gamma=0.001\n",
    "c=1.0\n",
    "kernel='rbf'"
   ]
  },
  {
   "cell_type": "code",
   "execution_count": 60,
   "metadata": {},
   "outputs": [],
   "source": [
    "## Support Vector Machines\n",
    "\n",
    "model_params = (gamma, c, kernel)\n",
    "model = svm.SVR(gamma = gamma, C = c, kernel = kernel)\n",
    "model.fit(X_train, y_train)\n",
    "\n",
    "model_score, model_acc = score_regression(model)\n",
    "\n",
    "comparison_dict['modelname'].append('svm_regressor')\n",
    "comparison_dict['params'].append(model_params)\n",
    "comparison_dict['score'].append(model_score)\n",
    "comparison_dict['model'].append(model)"
   ]
  },
  {
   "cell_type": "code",
   "execution_count": 61,
   "metadata": {},
   "outputs": [
    {
     "name": "stdout",
     "output_type": "stream",
     "text": [
      "0.5238095238095238\n"
     ]
    }
   ],
   "source": [
    "print(model_score)"
   ]
  },
  {
   "cell_type": "code",
   "execution_count": 62,
   "metadata": {},
   "outputs": [
    {
     "name": "stdout",
     "output_type": "stream",
     "text": [
      "0.9476608187134504\n"
     ]
    }
   ],
   "source": [
    "print(model_acc)"
   ]
  },
  {
   "cell_type": "code",
   "execution_count": 63,
   "metadata": {},
   "outputs": [
    {
     "name": "stdout",
     "output_type": "stream",
     "text": [
      "Saving model ...\n",
      "    MODEL: ./models/svm_regressor.pkl\n"
     ]
    }
   ],
   "source": [
    "model_filepath='./models/{}.pkl'.format('svm_regressor')\n",
    "print('Saving model ...\\n    MODEL: {}'.format(model_filepath))\n",
    "save_model(model, model_filepath)"
   ]
  },
  {
   "cell_type": "markdown",
   "metadata": {},
   "source": [
    "## Neural Network Regressor"
   ]
  },
  {
   "cell_type": "code",
   "execution_count": 64,
   "metadata": {},
   "outputs": [],
   "source": [
    "hidden_layer_sizes=[75, 30, 50, 10, 3]\n",
    "activation='tanh'\n",
    "solver='sgd'\n",
    "alpha=1.623776739188721"
   ]
  },
  {
   "cell_type": "code",
   "execution_count": 65,
   "metadata": {},
   "outputs": [
    {
     "name": "stderr",
     "output_type": "stream",
     "text": [
      "/opt/anaconda3/lib/python3.7/site-packages/sklearn/neural_network/_multilayer_perceptron.py:571: ConvergenceWarning: Stochastic Optimizer: Maximum iterations (200) reached and the optimization hasn't converged yet.\n",
      "  % self.max_iter, ConvergenceWarning)\n"
     ]
    }
   ],
   "source": [
    "# Neural network\n",
    "\n",
    "model_params = (hidden_layer_sizes, activation, solver, alpha )\n",
    "model = MLPRegressor(hidden_layer_sizes = hidden_layer_sizes,\n",
    "                      activation = activation, solver = solver, alpha = alpha, random_state = 1)\n",
    "model.fit(X_train, y_train)\n",
    "\n",
    "model_score, model_acc = score_regression(model)\n",
    "\n",
    "comparison_dict['modelname'].append('nn_regressor')\n",
    "comparison_dict['params'].append(model_params)\n",
    "comparison_dict['score'].append(model_score)\n",
    "comparison_dict['model'].append(model)"
   ]
  },
  {
   "cell_type": "code",
   "execution_count": 66,
   "metadata": {},
   "outputs": [
    {
     "name": "stdout",
     "output_type": "stream",
     "text": [
      "0.5714285714285714\n"
     ]
    }
   ],
   "source": [
    "print(model_score)"
   ]
  },
  {
   "cell_type": "code",
   "execution_count": 67,
   "metadata": {},
   "outputs": [
    {
     "name": "stdout",
     "output_type": "stream",
     "text": [
      "0.9533347257031467\n"
     ]
    }
   ],
   "source": [
    "print(model_acc)"
   ]
  },
  {
   "cell_type": "code",
   "execution_count": 68,
   "metadata": {},
   "outputs": [
    {
     "name": "stdout",
     "output_type": "stream",
     "text": [
      "Saving model ...\n",
      "    MODEL: ./models/nn_regressor.pkl\n"
     ]
    }
   ],
   "source": [
    "model_filepath='./models/{}.pkl'.format('nn_regressor')\n",
    "print('Saving model ...\\n    MODEL: {}'.format(model_filepath))\n",
    "save_model(model, model_filepath)"
   ]
  },
  {
   "cell_type": "markdown",
   "metadata": {},
   "source": [
    "## Results Analysis"
   ]
  },
  {
   "cell_type": "code",
   "execution_count": 69,
   "metadata": {},
   "outputs": [
    {
     "data": {
      "text/html": [
       "<div>\n",
       "<style scoped>\n",
       "    .dataframe tbody tr th:only-of-type {\n",
       "        vertical-align: middle;\n",
       "    }\n",
       "\n",
       "    .dataframe tbody tr th {\n",
       "        vertical-align: top;\n",
       "    }\n",
       "\n",
       "    .dataframe thead th {\n",
       "        text-align: right;\n",
       "    }\n",
       "</style>\n",
       "<table border=\"1\" class=\"dataframe\">\n",
       "  <thead>\n",
       "    <tr style=\"text-align: right;\">\n",
       "      <th></th>\n",
       "      <th>min</th>\n",
       "      <th>median</th>\n",
       "      <th>max</th>\n",
       "    </tr>\n",
       "    <tr>\n",
       "      <th>modelname</th>\n",
       "      <th></th>\n",
       "      <th></th>\n",
       "      <th></th>\n",
       "    </tr>\n",
       "  </thead>\n",
       "  <tbody>\n",
       "    <tr>\n",
       "      <th>linear_regression</th>\n",
       "      <td>0.476190</td>\n",
       "      <td>0.476190</td>\n",
       "      <td>0.476190</td>\n",
       "    </tr>\n",
       "    <tr>\n",
       "      <th>logistic_regression</th>\n",
       "      <td>0.571429</td>\n",
       "      <td>0.571429</td>\n",
       "      <td>0.571429</td>\n",
       "    </tr>\n",
       "    <tr>\n",
       "      <th>neural_network_classifier</th>\n",
       "      <td>0.619048</td>\n",
       "      <td>0.619048</td>\n",
       "      <td>0.619048</td>\n",
       "    </tr>\n",
       "    <tr>\n",
       "      <th>nn_regressor</th>\n",
       "      <td>0.571429</td>\n",
       "      <td>0.571429</td>\n",
       "      <td>0.571429</td>\n",
       "    </tr>\n",
       "    <tr>\n",
       "      <th>random_forest_classifier</th>\n",
       "      <td>0.476190</td>\n",
       "      <td>0.476190</td>\n",
       "      <td>0.476190</td>\n",
       "    </tr>\n",
       "    <tr>\n",
       "      <th>random_forest_regressor</th>\n",
       "      <td>0.523810</td>\n",
       "      <td>0.523810</td>\n",
       "      <td>0.523810</td>\n",
       "    </tr>\n",
       "    <tr>\n",
       "      <th>svm_classifier</th>\n",
       "      <td>0.571429</td>\n",
       "      <td>0.571429</td>\n",
       "      <td>0.571429</td>\n",
       "    </tr>\n",
       "    <tr>\n",
       "      <th>svm_regressor</th>\n",
       "      <td>0.523810</td>\n",
       "      <td>0.523810</td>\n",
       "      <td>0.523810</td>\n",
       "    </tr>\n",
       "  </tbody>\n",
       "</table>\n",
       "</div>"
      ],
      "text/plain": [
       "                                min    median       max\n",
       "modelname                                              \n",
       "linear_regression          0.476190  0.476190  0.476190\n",
       "logistic_regression        0.571429  0.571429  0.571429\n",
       "neural_network_classifier  0.619048  0.619048  0.619048\n",
       "nn_regressor               0.571429  0.571429  0.571429\n",
       "random_forest_classifier   0.476190  0.476190  0.476190\n",
       "random_forest_regressor    0.523810  0.523810  0.523810\n",
       "svm_classifier             0.571429  0.571429  0.571429\n",
       "svm_regressor              0.523810  0.523810  0.523810"
      ]
     },
     "execution_count": 69,
     "metadata": {},
     "output_type": "execute_result"
    }
   ],
   "source": [
    "df_box = pd.DataFrame(comparison_dict).groupby('modelname')['score'].aggregate([min, np.median, max])\n",
    "df_box"
   ]
  },
  {
   "cell_type": "code",
   "execution_count": 70,
   "metadata": {},
   "outputs": [
    {
     "data": {
      "image/png": "[encoded data removed]",
      "text/plain": [
       "<Figure size 432x288 with 1 Axes>"
      ]
     },
     "metadata": {
      "needs_background": "light"
     },
     "output_type": "display_data"
    }
   ],
   "source": [
    "import matplotlib.pyplot as plt\n",
    "#import pandas as pd\n",
    "\n",
    "df_model = pd.DataFrame(comparison_dict).groupby('modelname')['score'].max()\n",
    "#ax = df_model.plot.bar(rot=0)\n",
    "\n",
    "#df.groupby('state')['name'].nunique().plot(kind='bar')\n",
    "df_model.plot(kind='bar',alpha=0.75, rot=0)\n",
    "plt.rcParams['figure.figsize'] = [11.7, 8.27]\n",
    "plt.title('ML Models comparison'); \n",
    "plt.ylabel('Precision Scores');\n",
    "plt.xlabel('ML models applied');\n",
    "\n",
    "plt.xticks(\n",
    "    rotation=45,\n",
    "    horizontalalignment='right',\n",
    "    fontweight='light',\n",
    "    fontsize='medium',\n",
    ")\n",
    "plt.show()"
   ]
  },
  {
   "cell_type": "markdown",
   "metadata": {},
   "source": [
    "## Save all Models in JSON Dict"
   ]
  },
  {
   "cell_type": "code",
   "execution_count": 72,
   "metadata": {},
   "outputs": [],
   "source": [
    "comparison_dict_json ={'modelname':[],\n",
    "                  'params': [],\n",
    "                  'score': []}"
   ]
  },
  {
   "cell_type": "code",
   "execution_count": 73,
   "metadata": {},
   "outputs": [],
   "source": [
    "comparison_dict_json['modelname']=comparison_dict['modelname']\n",
    "comparison_dict_json['params']=comparison_dict['params']\n",
    "comparison_dict_json['score']=comparison_dict['score']"
   ]
  },
  {
   "cell_type": "code",
   "execution_count": 74,
   "metadata": {},
   "outputs": [],
   "source": [
    "import json\n",
    "\n",
    "json = json.dumps(comparison_dict_json)\n",
    "f = open(\"./data/f1_mlmodels_dict.json\",\"w\")\n",
    "f.write(json)\n",
    "f.close()"
   ]
  },
  {
   "cell_type": "markdown",
   "metadata": {},
   "source": [
    "## Load Models from JSON Dict"
   ]
  },
  {
   "cell_type": "code",
   "execution_count": 75,
   "metadata": {},
   "outputs": [],
   "source": [
    "import json\n",
    "\n",
    "with open(\"./data/f1_mlmodels_dict.json\") as json_file:\n",
    "    comparison_dict_json = json.load(json_file)"
   ]
  },
  {
   "cell_type": "code",
   "execution_count": 76,
   "metadata": {},
   "outputs": [
    {
     "name": "stdout",
     "output_type": "stream",
     "text": [
      "['logistic_regression', 'random_forest_classifier', 'svm_classifier', 'neural_network_classifier', 'linear_regression', 'random_forest_regressor', 'svm_regressor', 'nn_regressor']: [['l2', 'liblinear', 10.0], ['gini', 'auto', 13.0], [0.0001438449888287663, 0.029763514416313176, 'rbf'], [[75, 25, 50, 10], 'identity', 'lbfgs', 0.01623776739188721], 'True', ['mse', None, 9.0], [0.001, 1.0, 'rbf'], [[75, 30, 50, 10, 3], 'tanh', 'sgd', 1.623776739188721]] : [0.5714285714285714, 0.47619047619047616, 0.5714285714285714, 0.6190476190476191, 0.47619047619047616, 0.5238095238095238, 0.5238095238095238, 0.5714285714285714] \n"
     ]
    }
   ],
   "source": [
    "modelname = comparison_dict_json['modelname']\n",
    "params = comparison_dict_json['params']\n",
    "score = comparison_dict_json['score']\n",
    "print (\"%s: %s : %s \" % (modelname, params, score))"
   ]
  },
  {
   "cell_type": "code",
   "execution_count": 77,
   "metadata": {},
   "outputs": [
    {
     "name": "stdout",
     "output_type": "stream",
     "text": [
      "logistic_regression: ['l2', 'liblinear', 10.0] : 0.5714285714285714 \n",
      "random_forest_classifier: ['gini', 'auto', 13.0] : 0.47619047619047616 \n",
      "svm_classifier: [0.0001438449888287663, 0.029763514416313176, 'rbf'] : 0.5714285714285714 \n",
      "neural_network_classifier: [[75, 25, 50, 10], 'identity', 'lbfgs', 0.01623776739188721] : 0.6190476190476191 \n",
      "linear_regression: True : 0.47619047619047616 \n",
      "random_forest_regressor: ['mse', None, 9.0] : 0.5238095238095238 \n",
      "svm_regressor: [0.001, 1.0, 'rbf'] : 0.5238095238095238 \n",
      "nn_regressor: [[75, 30, 50, 10, 3], 'tanh', 'sgd', 1.623776739188721] : 0.5714285714285714 \n"
     ]
    }
   ],
   "source": [
    "length = len(modelname)\n",
    "for i in range(length):\n",
    "    print (\"%s: %s : %s \" % (modelname[i], params[i], score[i]))"
   ]
  },
  {
   "cell_type": "code",
   "execution_count": null,
   "metadata": {},
   "outputs": [],
   "source": []
  }
 ],
 "metadata": {
  "kernelspec": {
   "display_name": "Python 3",
   "language": "python",
   "name": "python3"
  },
  "language_info": {
   "codemirror_mode": {
    "name": "ipython",
    "version": 3
   },
   "file_extension": ".py",
   "mimetype": "text/x-python",
   "name": "python",
   "nbconvert_exporter": "python",
   "pygments_lexer": "ipython3",
   "version": "3.7.6"
  },
  "toc": {
   "base_numbering": 1,
   "nav_menu": {},
   "number_sections": true,
   "sideBar": true,
   "skip_h1_title": false,
   "title_cell": "Table of Contents",
   "title_sidebar": "Contents",
   "toc_cell": false,
   "toc_position": {},
   "toc_section_display": true,
   "toc_window_display": false
  },
  "varInspector": {
   "cols": {
    "lenName": 16,
    "lenType": 16,
    "lenVar": 40
   },
   "kernels_config": {
    "python": {
     "delete_cmd_postfix": "",
     "delete_cmd_prefix": "del ",
     "library": "var_list.py",
     "varRefreshCmd": "print(var_dic_list())"
    },
    "r": {
     "delete_cmd_postfix": ") ",
     "delete_cmd_prefix": "rm(",
     "library": "var_list.r",
     "varRefreshCmd": "cat(var_dic_list()) "
    }
   },
   "types_to_exclude": [
    "module",
    "function",
    "builtin_function_or_method",
    "instance",
    "_Feature"
   ],
   "window_display": false
  }
 },
 "nbformat": 4,
 "nbformat_minor": 4
}
